{
 "cells": [
  {
   "cell_type": "code",
   "execution_count": 1,
   "metadata": {
    "id": "MJCftXvFu-oi"
   },
   "outputs": [],
   "source": [
    "from pathlib import Path\n",
    "\n",
    "import numpy as np\n",
    "import pandas as pd\n",
    "import torch\n",
    "import torch.nn as nn\n",
    "import torchaudio\n",
    "import torchaudio.transforms as transforms\n",
    "from torch.utils.data import DataLoader\n",
    "from torch.utils.data import Dataset\n",
    "from torch.utils.tensorboard import SummaryWriter\n",
    "from tqdm import tqdm"
   ]
  },
  {
   "cell_type": "code",
   "execution_count": 2,
   "metadata": {
    "colab": {
     "base_uri": "https://localhost:8080/"
    },
    "id": "4dC5P5FLtBNP",
    "outputId": "79de9990-8d08-4349-ff21-ae8586b679fd"
   },
   "outputs": [
    {
     "name": "stdout",
     "output_type": "stream",
     "text": [
      "--2025-08-23 11:17:30--  https://github.com/karoldvl/ESC-50/archive/master.zip\n",
      "Resolving github.com (github.com)... 140.82.116.4\n",
      "Connecting to github.com (github.com)|140.82.116.4|:443... connected.\n",
      "HTTP request sent, awaiting response... 301 Moved Permanently\n",
      "Location: https://github.com/karolpiczak/ESC-50/archive/master.zip [following]\n",
      "--2025-08-23 11:17:30--  https://github.com/karolpiczak/ESC-50/archive/master.zip\n",
      "Reusing existing connection to github.com:443.\n",
      "HTTP request sent, awaiting response... 302 Found\n",
      "Location: https://codeload.github.com/karolpiczak/ESC-50/zip/refs/heads/master [following]\n",
      "--2025-08-23 11:17:30--  https://codeload.github.com/karolpiczak/ESC-50/zip/refs/heads/master\n",
      "Resolving codeload.github.com (codeload.github.com)... 140.82.116.10\n",
      "Connecting to codeload.github.com (codeload.github.com)|140.82.116.10|:443... connected.\n",
      "HTTP request sent, awaiting response... 200 OK\n",
      "Length: unspecified [application/zip]\n",
      "Saving to: ‘master.zip’\n",
      "\n",
      "master.zip              [  <=>               ] 615.78M  13.7MB/s    in 43s     \n",
      "\n",
      "2025-08-23 11:18:13 (14.3 MB/s) - ‘master.zip’ saved [645695005]\n",
      "\n"
     ]
    }
   ],
   "source": [
    "!wget https://github.com/karoldvl/ESC-50/archive/master.zip"
   ]
  },
  {
   "cell_type": "code",
   "execution_count": 3,
   "metadata": {
    "colab": {
     "base_uri": "https://localhost:8080/"
    },
    "id": "yzrC3Aqcs-EF",
    "outputId": "6e95a303-26dd-4ed9-891b-60bf12e9b744"
   },
   "outputs": [
    {
     "name": "stdout",
     "output_type": "stream",
     "text": [
      "Archive:  master.zip\n",
      "33c8ce9eb2cf0b1c2f8bcf322eb349b6be34dbb6\n",
      "   creating: ESC-50-master/\n",
      "   creating: ESC-50-master/.circleci/\n",
      "  inflating: ESC-50-master/.circleci/config.yml  \n",
      "   creating: ESC-50-master/.github/\n",
      "  inflating: ESC-50-master/.github/stale.yml  \n",
      " extracting: ESC-50-master/.gitignore  \n",
      "  inflating: ESC-50-master/LICENSE   \n",
      "  inflating: ESC-50-master/README.md  \n",
      "   creating: ESC-50-master/audio/\n",
      "  inflating: ESC-50-master/audio/1-100032-A-0.wav  \n",
      "  inflating: ESC-50-master/audio/1-100038-A-14.wav  \n",
      "  inflating: ESC-50-master/audio/1-100210-A-36.wav  \n",
      "  inflating: ESC-50-master/audio/1-100210-B-36.wav  \n",
      "  inflating: ESC-50-master/audio/1-101296-A-19.wav  \n",
      "  inflating: ESC-50-master/audio/1-101296-B-19.wav  \n",
      "  inflating: ESC-50-master/audio/1-101336-A-30.wav  \n",
      "  inflating: ESC-50-master/audio/1-101404-A-34.wav  \n",
      "  inflating: ESC-50-master/audio/1-103298-A-9.wav  \n",
      "  inflating: ESC-50-master/audio/1-103995-A-30.wav  \n",
      "  inflating: ESC-50-master/audio/1-103999-A-30.wav  \n",
      "  inflating: ESC-50-master/audio/1-104089-A-22.wav  \n",
      "  inflating: ESC-50-master/audio/1-104089-B-22.wav  \n",
      "  inflating: ESC-50-master/audio/1-105224-A-22.wav  \n",
      "  inflating: ESC-50-master/audio/1-110389-A-0.wav  \n",
      "  inflating: ESC-50-master/audio/1-110537-A-22.wav  \n",
      "  inflating: ESC-50-master/audio/1-115521-A-19.wav  \n",
      "  inflating: ESC-50-master/audio/1-115545-A-48.wav  \n",
      "  inflating: ESC-50-master/audio/1-115545-B-48.wav  \n",
      "  inflating: ESC-50-master/audio/1-115545-C-48.wav  \n",
      "  inflating: ESC-50-master/audio/1-115546-A-48.wav  \n",
      "  inflating: ESC-50-master/audio/1-115920-A-22.wav  \n",
      "  inflating: ESC-50-master/audio/1-115920-B-22.wav  \n",
      "  inflating: ESC-50-master/audio/1-115921-A-22.wav  \n",
      "  inflating: ESC-50-master/audio/1-116765-A-41.wav  \n",
      "  inflating: ESC-50-master/audio/1-11687-A-47.wav  \n",
      "  inflating: ESC-50-master/audio/1-118206-A-31.wav  \n",
      "  inflating: ESC-50-master/audio/1-118559-A-17.wav  \n",
      "  inflating: ESC-50-master/audio/1-119125-A-45.wav  \n",
      "  inflating: ESC-50-master/audio/1-121951-A-8.wav  \n",
      "  inflating: ESC-50-master/audio/1-12653-A-15.wav  \n",
      "  inflating: ESC-50-master/audio/1-12654-A-15.wav  \n",
      "  inflating: ESC-50-master/audio/1-12654-B-15.wav  \n",
      "  inflating: ESC-50-master/audio/1-13571-A-46.wav  \n",
      "  inflating: ESC-50-master/audio/1-13572-A-46.wav  \n",
      "  inflating: ESC-50-master/audio/1-13613-A-37.wav  \n",
      "  inflating: ESC-50-master/audio/1-137-A-32.wav  \n",
      "  inflating: ESC-50-master/audio/1-137296-A-16.wav  \n",
      "  inflating: ESC-50-master/audio/1-14262-A-37.wav  \n",
      "  inflating: ESC-50-master/audio/1-155858-A-25.wav  \n",
      "  inflating: ESC-50-master/audio/1-155858-B-25.wav  \n",
      "  inflating: ESC-50-master/audio/1-155858-C-25.wav  \n",
      "  inflating: ESC-50-master/audio/1-155858-D-25.wav  \n",
      "  inflating: ESC-50-master/audio/1-155858-E-25.wav  \n",
      "  inflating: ESC-50-master/audio/1-155858-F-25.wav  \n",
      "  inflating: ESC-50-master/audio/1-15689-A-4.wav  \n",
      "  inflating: ESC-50-master/audio/1-15689-B-4.wav  \n",
      "  inflating: ESC-50-master/audio/1-160563-A-48.wav  \n",
      "  inflating: ESC-50-master/audio/1-160563-B-48.wav  \n",
      "  inflating: ESC-50-master/audio/1-16568-A-3.wav  \n",
      "  inflating: ESC-50-master/audio/1-16746-A-15.wav  \n",
      "  inflating: ESC-50-master/audio/1-17092-A-27.wav  \n",
      "  inflating: ESC-50-master/audio/1-17092-B-27.wav  \n",
      "  inflating: ESC-50-master/audio/1-17124-A-43.wav  \n",
      "  inflating: ESC-50-master/audio/1-17150-A-12.wav  \n",
      "  inflating: ESC-50-master/audio/1-172649-A-40.wav  \n",
      "  inflating: ESC-50-master/audio/1-172649-B-40.wav  \n",
      "  inflating: ESC-50-master/audio/1-172649-C-40.wav  \n",
      "  inflating: ESC-50-master/audio/1-172649-D-40.wav  \n",
      "  inflating: ESC-50-master/audio/1-172649-E-40.wav  \n",
      "  inflating: ESC-50-master/audio/1-172649-F-40.wav  \n",
      "  inflating: ESC-50-master/audio/1-17295-A-29.wav  \n",
      "  inflating: ESC-50-master/audio/1-17367-A-10.wav  \n",
      "  inflating: ESC-50-master/audio/1-17565-A-12.wav  \n",
      "  inflating: ESC-50-master/audio/1-17585-A-7.wav  \n",
      "  inflating: ESC-50-master/audio/1-17742-A-12.wav  \n",
      "  inflating: ESC-50-master/audio/1-17808-A-12.wav  \n",
      "  inflating: ESC-50-master/audio/1-17808-B-12.wav  \n",
      "  inflating: ESC-50-master/audio/1-1791-A-26.wav  \n",
      "  inflating: ESC-50-master/audio/1-17970-A-4.wav  \n",
      "  inflating: ESC-50-master/audio/1-18074-A-6.wav  \n",
      "  inflating: ESC-50-master/audio/1-18074-B-6.wav  \n",
      "  inflating: ESC-50-master/audio/1-181071-A-40.wav  \n",
      "  inflating: ESC-50-master/audio/1-181071-B-40.wav  \n",
      "  inflating: ESC-50-master/audio/1-18527-A-44.wav  \n",
      "  inflating: ESC-50-master/audio/1-18527-B-44.wav  \n",
      "  inflating: ESC-50-master/audio/1-18631-A-23.wav  \n",
      "  inflating: ESC-50-master/audio/1-18655-A-31.wav  \n",
      "  inflating: ESC-50-master/audio/1-187207-A-20.wav  \n",
      "  inflating: ESC-50-master/audio/1-18755-A-4.wav  \n",
      "  inflating: ESC-50-master/audio/1-18755-B-4.wav  \n",
      "  inflating: ESC-50-master/audio/1-18757-A-4.wav  \n",
      "  inflating: ESC-50-master/audio/1-18810-A-49.wav  \n",
      "  inflating: ESC-50-master/audio/1-19026-A-43.wav  \n",
      "  inflating: ESC-50-master/audio/1-19111-A-24.wav  \n",
      "  inflating: ESC-50-master/audio/1-19118-A-24.wav  \n",
      "  inflating: ESC-50-master/audio/1-19501-A-7.wav  \n",
      "  inflating: ESC-50-master/audio/1-196660-A-8.wav  \n",
      "  inflating: ESC-50-master/audio/1-196660-B-8.wav  \n",
      "  inflating: ESC-50-master/audio/1-19840-A-36.wav  \n",
      "  inflating: ESC-50-master/audio/1-19872-A-36.wav  \n",
      "  inflating: ESC-50-master/audio/1-19872-B-36.wav  \n",
      "  inflating: ESC-50-master/audio/1-19898-A-41.wav  \n",
      "  inflating: ESC-50-master/audio/1-19898-B-41.wav  \n",
      "  inflating: ESC-50-master/audio/1-19898-C-41.wav  \n",
      "  inflating: ESC-50-master/audio/1-20133-A-39.wav  \n",
      "  inflating: ESC-50-master/audio/1-202111-A-3.wav  \n",
      "  inflating: ESC-50-master/audio/1-20545-A-28.wav  \n",
      "  inflating: ESC-50-master/audio/1-20736-A-18.wav  \n",
      "  inflating: ESC-50-master/audio/1-208757-A-2.wav  \n",
      "  inflating: ESC-50-master/audio/1-208757-B-2.wav  \n",
      "  inflating: ESC-50-master/audio/1-208757-C-2.wav  \n",
      "  inflating: ESC-50-master/audio/1-208757-D-2.wav  \n",
      "  inflating: ESC-50-master/audio/1-208757-E-2.wav  \n",
      "  inflating: ESC-50-master/audio/1-211527-A-20.wav  \n",
      "  inflating: ESC-50-master/audio/1-211527-B-20.wav  \n",
      "  inflating: ESC-50-master/audio/1-211527-C-20.wav  \n",
      "  inflating: ESC-50-master/audio/1-21189-A-10.wav  \n",
      "  inflating: ESC-50-master/audio/1-21421-A-46.wav  \n",
      "  inflating: ESC-50-master/audio/1-21896-A-35.wav  \n",
      "  inflating: ESC-50-master/audio/1-21934-A-38.wav  \n",
      "  inflating: ESC-50-master/audio/1-21935-A-38.wav  \n",
      "  inflating: ESC-50-master/audio/1-223162-A-25.wav  \n",
      "  inflating: ESC-50-master/audio/1-22694-A-20.wav  \n",
      "  inflating: ESC-50-master/audio/1-22694-B-20.wav  \n",
      "  inflating: ESC-50-master/audio/1-22804-A-46.wav  \n",
      "  inflating: ESC-50-master/audio/1-22882-A-44.wav  \n",
      "  inflating: ESC-50-master/audio/1-23094-A-15.wav  \n",
      "  inflating: ESC-50-master/audio/1-23094-B-15.wav  \n",
      "  inflating: ESC-50-master/audio/1-23222-A-19.wav  \n",
      "  inflating: ESC-50-master/audio/1-23222-B-19.wav  \n",
      "  inflating: ESC-50-master/audio/1-23706-A-49.wav  \n",
      "  inflating: ESC-50-master/audio/1-23996-A-35.wav  \n",
      "  inflating: ESC-50-master/audio/1-23996-B-35.wav  \n",
      "  inflating: ESC-50-master/audio/1-24074-A-43.wav  \n",
      "  inflating: ESC-50-master/audio/1-24076-A-43.wav  \n",
      "  inflating: ESC-50-master/audio/1-24524-A-19.wav  \n",
      "  inflating: ESC-50-master/audio/1-24524-B-19.wav  \n",
      "  inflating: ESC-50-master/audio/1-24524-C-19.wav  \n",
      "  inflating: ESC-50-master/audio/1-24796-A-47.wav  \n",
      "  inflating: ESC-50-master/audio/1-254507-A-43.wav  \n",
      "  inflating: ESC-50-master/audio/1-25777-A-48.wav  \n",
      "  inflating: ESC-50-master/audio/1-25781-A-48.wav  \n",
      "  inflating: ESC-50-master/audio/1-260640-A-2.wav  \n",
      "  inflating: ESC-50-master/audio/1-260640-B-2.wav  \n",
      "  inflating: ESC-50-master/audio/1-260640-C-2.wav  \n",
      "  inflating: ESC-50-master/audio/1-26143-A-21.wav  \n",
      "  inflating: ESC-50-master/audio/1-26176-A-43.wav  \n",
      "  inflating: ESC-50-master/audio/1-26177-A-43.wav  \n",
      "  inflating: ESC-50-master/audio/1-26188-A-30.wav  \n",
      "  inflating: ESC-50-master/audio/1-26222-A-10.wav  \n",
      "  inflating: ESC-50-master/audio/1-26806-A-1.wav  \n",
      "  inflating: ESC-50-master/audio/1-27165-A-35.wav  \n",
      "  inflating: ESC-50-master/audio/1-27166-A-35.wav  \n",
      "  inflating: ESC-50-master/audio/1-27403-A-28.wav  \n",
      "  inflating: ESC-50-master/audio/1-27405-A-28.wav  \n",
      "  inflating: ESC-50-master/audio/1-27724-A-1.wav  \n",
      "  inflating: ESC-50-master/audio/1-28005-A-18.wav  \n",
      "  inflating: ESC-50-master/audio/1-28135-A-11.wav  \n",
      "  inflating: ESC-50-master/audio/1-28135-B-11.wav  \n",
      "  inflating: ESC-50-master/audio/1-28808-A-43.wav  \n",
      "  inflating: ESC-50-master/audio/1-29532-A-16.wav  \n",
      "  inflating: ESC-50-master/audio/1-29561-A-10.wav  \n",
      "  inflating: ESC-50-master/audio/1-29680-A-21.wav  \n",
      "  inflating: ESC-50-master/audio/1-30039-A-26.wav  \n",
      "  inflating: ESC-50-master/audio/1-30043-A-26.wav  \n",
      "  inflating: ESC-50-master/audio/1-30214-A-18.wav  \n",
      "  inflating: ESC-50-master/audio/1-30226-A-0.wav  \n",
      "  inflating: ESC-50-master/audio/1-30344-A-0.wav  \n",
      "  inflating: ESC-50-master/audio/1-30709-A-23.wav  \n",
      "  inflating: ESC-50-master/audio/1-30709-B-23.wav  \n",
      "  inflating: ESC-50-master/audio/1-30709-C-23.wav  \n",
      "  inflating: ESC-50-master/audio/1-30830-A-24.wav  \n",
      "  inflating: ESC-50-master/audio/1-31251-A-6.wav  \n",
      "  inflating: ESC-50-master/audio/1-31251-B-6.wav  \n",
      "  inflating: ESC-50-master/audio/1-31482-A-42.wav  \n",
      "  inflating: ESC-50-master/audio/1-31482-B-42.wav  \n",
      "  inflating: ESC-50-master/audio/1-31748-A-21.wav  \n",
      "  inflating: ESC-50-master/audio/1-31836-A-4.wav  \n",
      "  inflating: ESC-50-master/audio/1-31836-B-4.wav  \n",
      "  inflating: ESC-50-master/audio/1-32318-A-0.wav  \n",
      "  inflating: ESC-50-master/audio/1-32373-A-35.wav  \n",
      "  inflating: ESC-50-master/audio/1-32373-B-35.wav  \n",
      "  inflating: ESC-50-master/audio/1-32579-A-29.wav  \n",
      "  inflating: ESC-50-master/audio/1-33658-A-26.wav  \n",
      "  inflating: ESC-50-master/audio/1-34094-A-5.wav  \n",
      "  inflating: ESC-50-master/audio/1-34094-B-5.wav  \n",
      "  inflating: ESC-50-master/audio/1-34119-A-1.wav  \n",
      "  inflating: ESC-50-master/audio/1-34119-B-1.wav  \n",
      "  inflating: ESC-50-master/audio/1-34495-A-14.wav  \n",
      "  inflating: ESC-50-master/audio/1-34497-A-14.wav  \n",
      "  inflating: ESC-50-master/audio/1-34853-A-37.wav  \n",
      "  inflating: ESC-50-master/audio/1-35687-A-38.wav  \n",
      "  inflating: ESC-50-master/audio/1-36164-A-26.wav  \n",
      "  inflating: ESC-50-master/audio/1-36164-B-26.wav  \n",
      "  inflating: ESC-50-master/audio/1-36393-A-23.wav  \n",
      "  inflating: ESC-50-master/audio/1-36397-A-23.wav  \n",
      "  inflating: ESC-50-master/audio/1-36400-A-23.wav  \n",
      "  inflating: ESC-50-master/audio/1-36402-A-23.wav  \n",
      "  inflating: ESC-50-master/audio/1-36929-A-47.wav  \n",
      "  inflating: ESC-50-master/audio/1-37226-A-29.wav  \n",
      "  inflating: ESC-50-master/audio/1-38559-A-14.wav  \n",
      "  inflating: ESC-50-master/audio/1-38560-A-14.wav  \n",
      "  inflating: ESC-50-master/audio/1-39835-A-9.wav  \n",
      "  inflating: ESC-50-master/audio/1-39835-B-9.wav  \n",
      "  inflating: ESC-50-master/audio/1-39901-A-11.wav  \n",
      "  inflating: ESC-50-master/audio/1-39901-B-11.wav  \n",
      "  inflating: ESC-50-master/audio/1-39923-A-1.wav  \n",
      "  inflating: ESC-50-master/audio/1-39937-A-28.wav  \n",
      "  inflating: ESC-50-master/audio/1-40154-A-46.wav  \n",
      "  inflating: ESC-50-master/audio/1-40621-A-28.wav  \n",
      "  inflating: ESC-50-master/audio/1-40730-A-1.wav  \n",
      "  inflating: ESC-50-master/audio/1-40967-A-28.wav  \n",
      "  inflating: ESC-50-master/audio/1-41615-A-34.wav  \n",
      "  inflating: ESC-50-master/audio/1-4211-A-12.wav  \n",
      "  inflating: ESC-50-master/audio/1-42139-A-38.wav  \n",
      "  inflating: ESC-50-master/audio/1-43382-A-1.wav  \n",
      "  inflating: ESC-50-master/audio/1-43760-A-11.wav  \n",
      "  inflating: ESC-50-master/audio/1-43764-A-34.wav  \n",
      "  inflating: ESC-50-master/audio/1-43807-A-47.wav  \n",
      "  inflating: ESC-50-master/audio/1-43807-B-47.wav  \n",
      "  inflating: ESC-50-master/audio/1-43807-C-47.wav  \n",
      "  inflating: ESC-50-master/audio/1-43807-D-47.wav  \n",
      "  inflating: ESC-50-master/audio/1-44831-A-1.wav  \n",
      "  inflating: ESC-50-master/audio/1-45641-A-27.wav  \n",
      "  inflating: ESC-50-master/audio/1-45645-A-31.wav  \n",
      "  inflating: ESC-50-master/audio/1-46040-A-14.wav  \n",
      "  inflating: ESC-50-master/audio/1-46272-A-12.wav  \n",
      "  inflating: ESC-50-master/audio/1-46274-A-18.wav  \n",
      "  inflating: ESC-50-master/audio/1-46353-A-49.wav  \n",
      "  inflating: ESC-50-master/audio/1-46744-A-36.wav  \n",
      "  inflating: ESC-50-master/audio/1-46938-A-7.wav  \n",
      "  inflating: ESC-50-master/audio/1-46938-B-7.wav  \n",
      "  inflating: ESC-50-master/audio/1-47250-A-41.wav  \n",
      "  inflating: ESC-50-master/audio/1-47250-B-41.wav  \n",
      "  inflating: ESC-50-master/audio/1-47273-A-21.wav  \n",
      "  inflating: ESC-50-master/audio/1-47274-A-21.wav  \n",
      "  inflating: ESC-50-master/audio/1-47709-A-16.wav  \n",
      "  inflating: ESC-50-master/audio/1-47714-A-16.wav  \n",
      "  inflating: ESC-50-master/audio/1-47819-A-5.wav  \n",
      "  inflating: ESC-50-master/audio/1-47819-B-5.wav  \n",
      "  inflating: ESC-50-master/audio/1-47819-C-5.wav  \n",
      "  inflating: ESC-50-master/audio/1-47923-A-28.wav  \n",
      "  inflating: ESC-50-master/audio/1-48298-A-46.wav  \n",
      "  inflating: ESC-50-master/audio/1-48413-A-38.wav  \n",
      "  inflating: ESC-50-master/audio/1-49098-A-35.wav  \n",
      "  inflating: ESC-50-master/audio/1-49409-A-8.wav  \n",
      "  inflating: ESC-50-master/audio/1-49409-B-8.wav  \n",
      "  inflating: ESC-50-master/audio/1-50060-A-10.wav  \n",
      "  inflating: ESC-50-master/audio/1-50454-A-44.wav  \n",
      "  inflating: ESC-50-master/audio/1-50455-A-44.wav  \n",
      "  inflating: ESC-50-master/audio/1-50623-A-15.wav  \n",
      "  inflating: ESC-50-master/audio/1-50625-A-17.wav  \n",
      "  inflating: ESC-50-master/audio/1-50661-A-44.wav  \n",
      "  inflating: ESC-50-master/audio/1-50688-A-17.wav  \n",
      "  inflating: ESC-50-master/audio/1-51035-A-16.wav  \n",
      "  inflating: ESC-50-master/audio/1-51036-A-16.wav  \n",
      "  inflating: ESC-50-master/audio/1-51037-A-16.wav  \n",
      "  inflating: ESC-50-master/audio/1-51147-A-25.wav  \n",
      "  inflating: ESC-50-master/audio/1-51170-A-18.wav  \n",
      "  inflating: ESC-50-master/audio/1-51433-A-17.wav  \n",
      "  inflating: ESC-50-master/audio/1-51436-A-17.wav  \n",
      "  inflating: ESC-50-master/audio/1-51805-A-33.wav  \n",
      "  inflating: ESC-50-master/audio/1-51805-B-33.wav  \n",
      "  inflating: ESC-50-master/audio/1-51805-C-33.wav  \n",
      "  inflating: ESC-50-master/audio/1-51805-D-33.wav  \n",
      "  inflating: ESC-50-master/audio/1-51805-E-33.wav  \n",
      "  inflating: ESC-50-master/audio/1-51805-F-33.wav  \n",
      "  inflating: ESC-50-master/audio/1-51805-G-33.wav  \n",
      "  inflating: ESC-50-master/audio/1-51805-H-33.wav  \n",
      "  inflating: ESC-50-master/audio/1-52266-A-24.wav  \n",
      "  inflating: ESC-50-master/audio/1-52290-A-30.wav  \n",
      "  inflating: ESC-50-master/audio/1-52323-A-24.wav  \n",
      "  inflating: ESC-50-master/audio/1-53444-A-28.wav  \n",
      "  inflating: ESC-50-master/audio/1-53467-A-47.wav  \n",
      "  inflating: ESC-50-master/audio/1-53501-A-32.wav  \n",
      "  inflating: ESC-50-master/audio/1-53663-A-24.wav  \n",
      "  inflating: ESC-50-master/audio/1-53670-A-18.wav  \n",
      "  inflating: ESC-50-master/audio/1-54065-A-45.wav  \n",
      "  inflating: ESC-50-master/audio/1-54065-B-45.wav  \n",
      "  inflating: ESC-50-master/audio/1-54084-A-42.wav  \n",
      "  inflating: ESC-50-master/audio/1-54505-A-21.wav  \n",
      "  inflating: ESC-50-master/audio/1-54747-A-46.wav  \n",
      "  inflating: ESC-50-master/audio/1-54752-A-18.wav  \n",
      "  inflating: ESC-50-master/audio/1-54918-A-14.wav  \n",
      "  inflating: ESC-50-master/audio/1-54918-B-14.wav  \n",
      "  inflating: ESC-50-master/audio/1-54958-A-10.wav  \n",
      "  inflating: ESC-50-master/audio/1-56233-A-9.wav  \n",
      "  inflating: ESC-50-master/audio/1-56234-A-9.wav  \n",
      "  inflating: ESC-50-master/audio/1-56269-A-18.wav  \n",
      "  inflating: ESC-50-master/audio/1-56270-A-29.wav  \n",
      "  inflating: ESC-50-master/audio/1-56311-A-10.wav  \n",
      "  inflating: ESC-50-master/audio/1-56380-A-5.wav  \n",
      "  inflating: ESC-50-master/audio/1-56380-B-5.wav  \n",
      "  inflating: ESC-50-master/audio/1-56907-A-46.wav  \n",
      "  inflating: ESC-50-master/audio/1-57163-A-38.wav  \n",
      "  inflating: ESC-50-master/audio/1-57316-A-13.wav  \n",
      "  inflating: ESC-50-master/audio/1-57318-A-13.wav  \n",
      "  inflating: ESC-50-master/audio/1-57795-A-8.wav  \n",
      "  inflating: ESC-50-master/audio/1-58277-A-3.wav  \n",
      "  inflating: ESC-50-master/audio/1-58792-A-24.wav  \n",
      "  inflating: ESC-50-master/audio/1-58846-A-34.wav  \n",
      "  inflating: ESC-50-master/audio/1-58923-A-27.wav  \n",
      "  inflating: ESC-50-master/audio/1-58923-B-27.wav  \n",
      "  inflating: ESC-50-master/audio/1-59102-A-13.wav  \n",
      "  inflating: ESC-50-master/audio/1-59324-A-21.wav  \n",
      "  inflating: ESC-50-master/audio/1-59513-A-0.wav  \n",
      "  inflating: ESC-50-master/audio/1-5996-A-6.wav  \n",
      "  inflating: ESC-50-master/audio/1-60460-A-36.wav  \n",
      "  inflating: ESC-50-master/audio/1-60676-A-34.wav  \n",
      "  inflating: ESC-50-master/audio/1-60997-A-20.wav  \n",
      "  inflating: ESC-50-master/audio/1-60997-B-20.wav  \n",
      "  inflating: ESC-50-master/audio/1-61212-A-32.wav  \n",
      "  inflating: ESC-50-master/audio/1-61221-A-17.wav  \n",
      "  inflating: ESC-50-master/audio/1-61252-A-11.wav  \n",
      "  inflating: ESC-50-master/audio/1-61261-A-44.wav  \n",
      "  inflating: ESC-50-master/audio/1-61534-A-27.wav  \n",
      "  inflating: ESC-50-master/audio/1-62509-A-45.wav  \n",
      "  inflating: ESC-50-master/audio/1-62565-A-44.wav  \n",
      "  inflating: ESC-50-master/audio/1-62594-A-32.wav  \n",
      "  inflating: ESC-50-master/audio/1-62849-A-38.wav  \n",
      "  inflating: ESC-50-master/audio/1-62850-A-38.wav  \n",
      "  inflating: ESC-50-master/audio/1-63679-A-24.wav  \n",
      "  inflating: ESC-50-master/audio/1-63871-A-10.wav  \n",
      "  inflating: ESC-50-master/audio/1-64398-A-41.wav  \n",
      "  inflating: ESC-50-master/audio/1-64398-B-41.wav  \n",
      "  inflating: ESC-50-master/audio/1-64473-A-45.wav  \n",
      "  inflating: ESC-50-master/audio/1-65483-A-13.wav  \n",
      "  inflating: ESC-50-master/audio/1-67033-A-37.wav  \n",
      "  inflating: ESC-50-master/audio/1-67152-A-17.wav  \n",
      "  inflating: ESC-50-master/audio/1-67230-A-29.wav  \n",
      "  inflating: ESC-50-master/audio/1-67432-A-27.wav  \n",
      "  inflating: ESC-50-master/audio/1-68628-A-27.wav  \n",
      "  inflating: ESC-50-master/audio/1-68670-A-34.wav  \n",
      "  inflating: ESC-50-master/audio/1-68734-A-34.wav  \n",
      "  inflating: ESC-50-master/audio/1-69165-A-34.wav  \n",
      "  inflating: ESC-50-master/audio/1-69422-A-3.wav  \n",
      "  inflating: ESC-50-master/audio/1-69641-A-3.wav  \n",
      "  inflating: ESC-50-master/audio/1-69760-A-16.wav  \n",
      "  inflating: ESC-50-master/audio/1-70300-A-45.wav  \n",
      "  inflating: ESC-50-master/audio/1-7057-A-12.wav  \n",
      "  inflating: ESC-50-master/audio/1-71030-A-6.wav  \n",
      "  inflating: ESC-50-master/audio/1-72195-A-37.wav  \n",
      "  inflating: ESC-50-master/audio/1-72195-B-37.wav  \n",
      "  inflating: ESC-50-master/audio/1-72229-A-6.wav  \n",
      "  inflating: ESC-50-master/audio/1-72229-B-6.wav  \n",
      "  inflating: ESC-50-master/audio/1-72695-A-26.wav  \n",
      "  inflating: ESC-50-master/audio/1-73123-A-26.wav  \n",
      "  inflating: ESC-50-master/audio/1-73585-A-7.wav  \n",
      "  inflating: ESC-50-master/audio/1-74517-A-37.wav  \n",
      "  inflating: ESC-50-master/audio/1-7456-A-13.wav  \n",
      "  inflating: ESC-50-master/audio/1-75162-A-9.wav  \n",
      "  inflating: ESC-50-master/audio/1-75189-A-7.wav  \n",
      "  inflating: ESC-50-master/audio/1-75190-A-8.wav  \n",
      "  inflating: ESC-50-master/audio/1-76831-A-42.wav  \n",
      "  inflating: ESC-50-master/audio/1-76831-B-42.wav  \n",
      "  inflating: ESC-50-master/audio/1-76831-C-42.wav  \n",
      "  inflating: ESC-50-master/audio/1-76831-D-42.wav  \n",
      "  inflating: ESC-50-master/audio/1-76831-E-42.wav  \n",
      "  inflating: ESC-50-master/audio/1-77160-A-3.wav  \n",
      "  inflating: ESC-50-master/audio/1-77241-A-3.wav  \n",
      "  inflating: ESC-50-master/audio/1-79113-A-5.wav  \n",
      "  inflating: ESC-50-master/audio/1-79146-A-29.wav  \n",
      "  inflating: ESC-50-master/audio/1-79220-A-17.wav  \n",
      "  inflating: ESC-50-master/audio/1-79236-A-36.wav  \n",
      "  inflating: ESC-50-master/audio/1-79711-A-32.wav  \n",
      "  inflating: ESC-50-master/audio/1-7973-A-7.wav  \n",
      "  inflating: ESC-50-master/audio/1-7974-A-49.wav  \n",
      "  inflating: ESC-50-master/audio/1-7974-B-49.wav  \n",
      "  inflating: ESC-50-master/audio/1-80785-A-7.wav  \n",
      "  inflating: ESC-50-master/audio/1-80840-A-13.wav  \n",
      "  inflating: ESC-50-master/audio/1-80841-A-13.wav  \n",
      "  inflating: ESC-50-master/audio/1-81001-A-30.wav  \n",
      "  inflating: ESC-50-master/audio/1-81001-B-30.wav  \n",
      "  inflating: ESC-50-master/audio/1-81269-A-3.wav  \n",
      "  inflating: ESC-50-master/audio/1-81851-A-31.wav  \n",
      "  inflating: ESC-50-master/audio/1-81883-A-21.wav  \n",
      "  inflating: ESC-50-master/audio/1-82817-A-30.wav  \n",
      "  inflating: ESC-50-master/audio/1-84393-A-32.wav  \n",
      "  inflating: ESC-50-master/audio/1-84536-A-39.wav  \n",
      "  inflating: ESC-50-master/audio/1-84704-A-39.wav  \n",
      "  inflating: ESC-50-master/audio/1-84705-A-39.wav  \n",
      "  inflating: ESC-50-master/audio/1-85123-A-31.wav  \n",
      "  inflating: ESC-50-master/audio/1-85168-A-39.wav  \n",
      "  inflating: ESC-50-master/audio/1-85184-A-39.wav  \n",
      "  inflating: ESC-50-master/audio/1-85362-A-0.wav  \n",
      "  inflating: ESC-50-master/audio/1-85909-A-29.wav  \n",
      "  inflating: ESC-50-master/audio/1-87565-A-29.wav  \n",
      "  inflating: ESC-50-master/audio/1-88409-A-45.wav  \n",
      "  inflating: ESC-50-master/audio/1-88409-B-45.wav  \n",
      "  inflating: ESC-50-master/audio/1-88574-A-8.wav  \n",
      "  inflating: ESC-50-master/audio/1-88807-A-39.wav  \n",
      "  inflating: ESC-50-master/audio/1-90797-A-15.wav  \n",
      "  inflating: ESC-50-master/audio/1-91359-A-11.wav  \n",
      "  inflating: ESC-50-master/audio/1-91359-B-11.wav  \n",
      "  inflating: ESC-50-master/audio/1-94036-A-22.wav  \n",
      "  inflating: ESC-50-master/audio/1-94231-A-32.wav  \n",
      "  inflating: ESC-50-master/audio/1-94231-B-32.wav  \n",
      "  inflating: ESC-50-master/audio/1-95563-A-31.wav  \n",
      "  inflating: ESC-50-master/audio/1-96890-A-37.wav  \n",
      "  inflating: ESC-50-master/audio/1-96950-A-9.wav  \n",
      "  inflating: ESC-50-master/audio/1-96950-B-9.wav  \n",
      "  inflating: ESC-50-master/audio/1-97392-A-0.wav  \n",
      "  inflating: ESC-50-master/audio/1-977-A-39.wav  \n",
      "  inflating: ESC-50-master/audio/1-97793-A-31.wav  \n",
      "  inflating: ESC-50-master/audio/1-9841-A-13.wav  \n",
      "  inflating: ESC-50-master/audio/1-9886-A-49.wav  \n",
      "  inflating: ESC-50-master/audio/1-9887-A-49.wav  \n",
      "  inflating: ESC-50-master/audio/1-9887-B-49.wav  \n",
      "  inflating: ESC-50-master/audio/1-99958-A-31.wav  \n",
      "  inflating: ESC-50-master/audio/2-100648-A-43.wav  \n",
      "  inflating: ESC-50-master/audio/2-100786-A-1.wav  \n",
      "  inflating: ESC-50-master/audio/2-101676-A-10.wav  \n",
      "  inflating: ESC-50-master/audio/2-102414-A-17.wav  \n",
      "  inflating: ESC-50-master/audio/2-102414-B-17.wav  \n",
      "  inflating: ESC-50-master/audio/2-102414-C-17.wav  \n",
      "  inflating: ESC-50-master/audio/2-102414-D-17.wav  \n",
      "  inflating: ESC-50-master/audio/2-102414-E-17.wav  \n",
      "  inflating: ESC-50-master/audio/2-102414-F-17.wav  \n",
      "  inflating: ESC-50-master/audio/2-102414-G-17.wav  \n",
      "  inflating: ESC-50-master/audio/2-102435-A-37.wav  \n",
      "  inflating: ESC-50-master/audio/2-102567-A-35.wav  \n",
      "  inflating: ESC-50-master/audio/2-102567-B-35.wav  \n",
      "  inflating: ESC-50-master/audio/2-102567-C-35.wav  \n",
      "  inflating: ESC-50-master/audio/2-102567-D-35.wav  \n",
      "  inflating: ESC-50-master/audio/2-102568-A-35.wav  \n",
      "  inflating: ESC-50-master/audio/2-102581-A-29.wav  \n",
      "  inflating: ESC-50-master/audio/2-102581-B-29.wav  \n",
      "  inflating: ESC-50-master/audio/2-102852-A-11.wav  \n",
      "  inflating: ESC-50-master/audio/2-103423-A-3.wav  \n",
      "  inflating: ESC-50-master/audio/2-103424-A-3.wav  \n",
      "  inflating: ESC-50-master/audio/2-103426-A-3.wav  \n",
      "  inflating: ESC-50-master/audio/2-103427-A-3.wav  \n",
      "  inflating: ESC-50-master/audio/2-103428-A-3.wav  \n",
      "  inflating: ESC-50-master/audio/2-104105-A-19.wav  \n",
      "  inflating: ESC-50-master/audio/2-104105-B-19.wav  \n",
      "  inflating: ESC-50-master/audio/2-104168-A-32.wav  \n",
      "  inflating: ESC-50-master/audio/2-104475-A-37.wav  \n",
      "  inflating: ESC-50-master/audio/2-104476-A-37.wav  \n",
      "  inflating: ESC-50-master/audio/2-104877-A-3.wav  \n",
      "  inflating: ESC-50-master/audio/2-104952-A-16.wav  \n",
      "  inflating: ESC-50-master/audio/2-104952-B-16.wav  \n",
      "  inflating: ESC-50-master/audio/2-105270-A-47.wav  \n",
      "  inflating: ESC-50-master/audio/2-106014-A-44.wav  \n",
      "  inflating: ESC-50-master/audio/2-106015-A-44.wav  \n",
      "  inflating: ESC-50-master/audio/2-106015-B-44.wav  \n",
      "  inflating: ESC-50-master/audio/2-106019-A-13.wav  \n",
      "  inflating: ESC-50-master/audio/2-106072-A-36.wav  \n",
      "  inflating: ESC-50-master/audio/2-106073-A-36.wav  \n",
      "  inflating: ESC-50-master/audio/2-106486-A-44.wav  \n",
      "  inflating: ESC-50-master/audio/2-106487-A-44.wav  \n",
      "  inflating: ESC-50-master/audio/2-106849-A-47.wav  \n",
      "  inflating: ESC-50-master/audio/2-106881-A-39.wav  \n",
      "  inflating: ESC-50-master/audio/2-107228-A-44.wav  \n",
      "  inflating: ESC-50-master/audio/2-107228-B-44.wav  \n",
      "  inflating: ESC-50-master/audio/2-107351-A-20.wav  \n",
      "  inflating: ESC-50-master/audio/2-107351-B-20.wav  \n",
      "  inflating: ESC-50-master/audio/2-108017-A-24.wav  \n",
      "  inflating: ESC-50-master/audio/2-108760-A-14.wav  \n",
      "  inflating: ESC-50-master/audio/2-108760-B-14.wav  \n",
      "  inflating: ESC-50-master/audio/2-108761-A-14.wav  \n",
      "  inflating: ESC-50-master/audio/2-108763-A-9.wav  \n",
      "  inflating: ESC-50-master/audio/2-108766-A-9.wav  \n",
      "  inflating: ESC-50-master/audio/2-108767-A-9.wav  \n",
      "  inflating: ESC-50-master/audio/2-108767-B-9.wav  \n",
      "  inflating: ESC-50-master/audio/2-108767-C-9.wav  \n",
      "  inflating: ESC-50-master/audio/2-109231-A-9.wav  \n",
      "  inflating: ESC-50-master/audio/2-109231-B-9.wav  \n",
      "  inflating: ESC-50-master/audio/2-109231-C-9.wav  \n",
      "  inflating: ESC-50-master/audio/2-109316-A-32.wav  \n",
      "  inflating: ESC-50-master/audio/2-109371-A-16.wav  \n",
      "  inflating: ESC-50-master/audio/2-109371-B-16.wav  \n",
      "  inflating: ESC-50-master/audio/2-109371-C-16.wav  \n",
      "  inflating: ESC-50-master/audio/2-109371-D-16.wav  \n",
      "  inflating: ESC-50-master/audio/2-109374-A-16.wav  \n",
      "  inflating: ESC-50-master/audio/2-109505-A-21.wav  \n",
      "  inflating: ESC-50-master/audio/2-109759-A-26.wav  \n",
      "  inflating: ESC-50-master/audio/2-109759-B-26.wav  \n",
      "  inflating: ESC-50-master/audio/2-110010-A-5.wav  \n",
      "  inflating: ESC-50-master/audio/2-110011-A-5.wav  \n",
      "  inflating: ESC-50-master/audio/2-110417-A-28.wav  \n",
      "  inflating: ESC-50-master/audio/2-110417-B-28.wav  \n",
      "  inflating: ESC-50-master/audio/2-110613-A-13.wav  \n",
      "  inflating: ESC-50-master/audio/2-110614-A-8.wav  \n",
      "  inflating: ESC-50-master/audio/2-110614-B-8.wav  \n",
      "  inflating: ESC-50-master/audio/2-112213-A-39.wav  \n",
      "  inflating: ESC-50-master/audio/2-112213-B-39.wav  \n",
      "  inflating: ESC-50-master/audio/2-114254-A-30.wav  \n",
      "  inflating: ESC-50-master/audio/2-114280-A-0.wav  \n",
      "  inflating: ESC-50-master/audio/2-114587-A-0.wav  \n",
      "  inflating: ESC-50-master/audio/2-114609-A-28.wav  \n",
      "  inflating: ESC-50-master/audio/2-114609-B-28.wav  \n",
      "  inflating: ESC-50-master/audio/2-116400-A-0.wav  \n",
      "  inflating: ESC-50-master/audio/2-117116-A-37.wav  \n",
      "  inflating: ESC-50-master/audio/2-117271-A-0.wav  \n",
      "  inflating: ESC-50-master/audio/2-117330-A-28.wav  \n",
      "  inflating: ESC-50-master/audio/2-117615-A-48.wav  \n",
      "  inflating: ESC-50-master/audio/2-117615-B-48.wav  \n",
      "  inflating: ESC-50-master/audio/2-117615-C-48.wav  \n",
      "  inflating: ESC-50-master/audio/2-117615-D-48.wav  \n",
      "  inflating: ESC-50-master/audio/2-117615-E-48.wav  \n",
      "  inflating: ESC-50-master/audio/2-117616-A-48.wav  \n",
      "  inflating: ESC-50-master/audio/2-117617-A-48.wav  \n",
      "  inflating: ESC-50-master/audio/2-117625-A-10.wav  \n",
      "  inflating: ESC-50-master/audio/2-117795-A-3.wav  \n",
      "  inflating: ESC-50-master/audio/2-117795-B-3.wav  \n",
      "  inflating: ESC-50-master/audio/2-118072-A-0.wav  \n",
      "  inflating: ESC-50-master/audio/2-118104-A-21.wav  \n",
      "  inflating: ESC-50-master/audio/2-118459-A-32.wav  \n",
      "  inflating: ESC-50-master/audio/2-118459-B-32.wav  \n",
      "  inflating: ESC-50-master/audio/2-118624-A-30.wav  \n",
      "  inflating: ESC-50-master/audio/2-118625-A-30.wav  \n",
      "  inflating: ESC-50-master/audio/2-118817-A-32.wav  \n",
      "  inflating: ESC-50-master/audio/2-118964-A-0.wav  \n",
      "  inflating: ESC-50-master/audio/2-119102-A-21.wav  \n",
      "  inflating: ESC-50-master/audio/2-119139-A-31.wav  \n",
      "  inflating: ESC-50-master/audio/2-119161-A-8.wav  \n",
      "  inflating: ESC-50-master/audio/2-119161-B-8.wav  \n",
      "  inflating: ESC-50-master/audio/2-119161-C-8.wav  \n",
      "  inflating: ESC-50-master/audio/2-119748-A-38.wav  \n",
      "  inflating: ESC-50-master/audio/2-120218-A-30.wav  \n",
      "  inflating: ESC-50-master/audio/2-120218-B-30.wav  \n",
      "  inflating: ESC-50-master/audio/2-120333-A-32.wav  \n",
      "  inflating: ESC-50-master/audio/2-120586-A-6.wav  \n",
      "  inflating: ESC-50-master/audio/2-120587-A-6.wav  \n",
      "  inflating: ESC-50-master/audio/2-121909-A-35.wav  \n",
      "  inflating: ESC-50-master/audio/2-121978-A-29.wav  \n",
      "  inflating: ESC-50-master/audio/2-122066-A-45.wav  \n",
      "  inflating: ESC-50-master/audio/2-122066-B-45.wav  \n",
      "  inflating: ESC-50-master/audio/2-122067-A-45.wav  \n",
      "  inflating: ESC-50-master/audio/2-122067-B-45.wav  \n",
      "  inflating: ESC-50-master/audio/2-122104-A-0.wav  \n",
      "  inflating: ESC-50-master/audio/2-122104-B-0.wav  \n",
      "  inflating: ESC-50-master/audio/2-122616-A-14.wav  \n",
      "  inflating: ESC-50-master/audio/2-122763-A-29.wav  \n",
      "  inflating: ESC-50-master/audio/2-122763-B-29.wav  \n",
      "  inflating: ESC-50-master/audio/2-122820-A-36.wav  \n",
      "  inflating: ESC-50-master/audio/2-122820-B-36.wav  \n",
      "  inflating: ESC-50-master/audio/2-123712-A-33.wav  \n",
      "  inflating: ESC-50-master/audio/2-123896-A-24.wav  \n",
      "  inflating: ESC-50-master/audio/2-124564-A-15.wav  \n",
      "  inflating: ESC-50-master/audio/2-124662-A-11.wav  \n",
      "  inflating: ESC-50-master/audio/2-125520-A-43.wav  \n",
      "  inflating: ESC-50-master/audio/2-125821-A-13.wav  \n",
      "  inflating: ESC-50-master/audio/2-125875-A-13.wav  \n",
      "  inflating: ESC-50-master/audio/2-125966-A-11.wav  \n",
      "  inflating: ESC-50-master/audio/2-126433-A-17.wav  \n",
      "  inflating: ESC-50-master/audio/2-126756-A-29.wav  \n",
      "  inflating: ESC-50-master/audio/2-127108-A-38.wav  \n",
      "  inflating: ESC-50-master/audio/2-127109-A-6.wav  \n",
      "  inflating: ESC-50-master/audio/2-128465-A-43.wav  \n",
      "  inflating: ESC-50-master/audio/2-128465-B-43.wav  \n",
      "  inflating: ESC-50-master/audio/2-128631-A-21.wav  \n",
      "  inflating: ESC-50-master/audio/2-130245-A-34.wav  \n",
      "  inflating: ESC-50-master/audio/2-130978-A-21.wav  \n",
      "  inflating: ESC-50-master/audio/2-130979-A-21.wav  \n",
      "  inflating: ESC-50-master/audio/2-131943-A-38.wav  \n",
      "  inflating: ESC-50-master/audio/2-132157-A-11.wav  \n",
      "  inflating: ESC-50-master/audio/2-132157-B-11.wav  \n",
      "  inflating: ESC-50-master/audio/2-133863-A-11.wav  \n",
      "  inflating: ESC-50-master/audio/2-133889-A-30.wav  \n",
      "  inflating: ESC-50-master/audio/2-134049-A-6.wav  \n",
      "  inflating: ESC-50-master/audio/2-134700-A-38.wav  \n",
      "  inflating: ESC-50-master/audio/2-134915-A-30.wav  \n",
      "  inflating: ESC-50-master/audio/2-135649-A-45.wav  \n",
      "  inflating: ESC-50-master/audio/2-135649-B-45.wav  \n",
      "  inflating: ESC-50-master/audio/2-135649-C-45.wav  \n",
      "  inflating: ESC-50-master/audio/2-135728-A-38.wav  \n",
      "  inflating: ESC-50-master/audio/2-135860-A-49.wav  \n",
      "  inflating: ESC-50-master/audio/2-137162-A-11.wav  \n",
      "  inflating: ESC-50-master/audio/2-138257-A-31.wav  \n",
      "  inflating: ESC-50-master/audio/2-138465-A-43.wav  \n",
      "  inflating: ESC-50-master/audio/2-139748-A-15.wav  \n",
      "  inflating: ESC-50-master/audio/2-139748-B-15.wav  \n",
      "  inflating: ESC-50-master/audio/2-139749-A-15.wav  \n",
      "  inflating: ESC-50-master/audio/2-140147-A-38.wav  \n",
      "  inflating: ESC-50-master/audio/2-140841-A-30.wav  \n",
      "  inflating: ESC-50-master/audio/2-141563-A-39.wav  \n",
      "  inflating: ESC-50-master/audio/2-141584-A-38.wav  \n",
      "  inflating: ESC-50-master/audio/2-141681-A-36.wav  \n",
      "  inflating: ESC-50-master/audio/2-141681-B-36.wav  \n",
      "  inflating: ESC-50-master/audio/2-141682-A-36.wav  \n",
      "  inflating: ESC-50-master/audio/2-141682-B-36.wav  \n",
      "  inflating: ESC-50-master/audio/2-144031-A-34.wav  \n",
      "  inflating: ESC-50-master/audio/2-144137-A-43.wav  \n",
      "  inflating: ESC-50-master/audio/2-146877-A-31.wav  \n",
      "  inflating: ESC-50-master/audio/2-146877-B-31.wav  \n",
      "  inflating: ESC-50-master/audio/2-151079-A-20.wav  \n",
      "  inflating: ESC-50-master/audio/2-152895-A-31.wav  \n",
      "  inflating: ESC-50-master/audio/2-152964-A-31.wav  \n",
      "  inflating: ESC-50-master/audio/2-153388-A-31.wav  \n",
      "  inflating: ESC-50-master/audio/2-154688-A-31.wav  \n",
      "  inflating: ESC-50-master/audio/2-155801-A-11.wav  \n",
      "  inflating: ESC-50-master/audio/2-157488-A-6.wav  \n",
      "  inflating: ESC-50-master/audio/2-158746-A-2.wav  \n",
      "  inflating: ESC-50-master/audio/2-158746-B-2.wav  \n",
      "  inflating: ESC-50-master/audio/2-158746-C-2.wav  \n",
      "  inflating: ESC-50-master/audio/2-158746-D-2.wav  \n",
      "  inflating: ESC-50-master/audio/2-160128-A-7.wav  \n",
      "  inflating: ESC-50-master/audio/2-160888-A-47.wav  \n",
      "  inflating: ESC-50-master/audio/2-165801-A-48.wav  \n",
      "  inflating: ESC-50-master/audio/2-166644-A-2.wav  \n",
      "  inflating: ESC-50-master/audio/2-166644-B-2.wav  \n",
      "  inflating: ESC-50-master/audio/2-166644-C-2.wav  \n",
      "  inflating: ESC-50-master/audio/2-173559-A-39.wav  \n",
      "  inflating: ESC-50-master/audio/2-173607-A-39.wav  \n",
      "  inflating: ESC-50-master/audio/2-173618-A-39.wav  \n",
      "  inflating: ESC-50-master/audio/2-182508-A-8.wav  \n",
      "  inflating: ESC-50-master/audio/2-182508-B-8.wav  \n",
      "  inflating: ESC-50-master/audio/2-184077-A-49.wav  \n",
      "  inflating: ESC-50-master/audio/2-18766-A-12.wav  \n",
      "  inflating: ESC-50-master/audio/2-18766-B-12.wav  \n",
      "  inflating: ESC-50-master/audio/2-188822-A-40.wav  \n",
      "  inflating: ESC-50-master/audio/2-188822-B-40.wav  \n",
      "  inflating: ESC-50-master/audio/2-188822-C-40.wav  \n",
      "  inflating: ESC-50-master/audio/2-188822-D-40.wav  \n",
      "  inflating: ESC-50-master/audio/2-196688-A-8.wav  \n",
      "  inflating: ESC-50-master/audio/2-205966-A-16.wav  \n",
      "  inflating: ESC-50-master/audio/2-209471-A-25.wav  \n",
      "  inflating: ESC-50-master/audio/2-209472-A-25.wav  \n",
      "  inflating: ESC-50-master/audio/2-209473-A-25.wav  \n",
      "  inflating: ESC-50-master/audio/2-209474-A-25.wav  \n",
      "  inflating: ESC-50-master/audio/2-209475-A-25.wav  \n",
      "  inflating: ESC-50-master/audio/2-209476-A-25.wav  \n",
      "  inflating: ESC-50-master/audio/2-209477-A-25.wav  \n",
      "  inflating: ESC-50-master/audio/2-209478-A-25.wav  \n",
      "  inflating: ESC-50-master/audio/2-250710-A-39.wav  \n",
      "  inflating: ESC-50-master/audio/2-25292-A-22.wav  \n",
      "  inflating: ESC-50-master/audio/2-25293-A-22.wav  \n",
      "  inflating: ESC-50-master/audio/2-262579-A-45.wav  \n",
      "  inflating: ESC-50-master/audio/2-28314-A-12.wav  \n",
      "  inflating: ESC-50-master/audio/2-28314-B-12.wav  \n",
      "  inflating: ESC-50-master/audio/2-30322-A-12.wav  \n",
      "  inflating: ESC-50-master/audio/2-30322-B-12.wav  \n",
      "  inflating: ESC-50-master/audio/2-32515-A-4.wav  \n",
      "  inflating: ESC-50-master/audio/2-32515-B-4.wav  \n",
      "  inflating: ESC-50-master/audio/2-32515-C-4.wav  \n",
      "  inflating: ESC-50-master/audio/2-32515-D-4.wav  \n",
      "  inflating: ESC-50-master/audio/2-32834-A-4.wav  \n",
      "  inflating: ESC-50-master/audio/2-37806-A-40.wav  \n",
      "  inflating: ESC-50-master/audio/2-37806-B-40.wav  \n",
      "  inflating: ESC-50-master/audio/2-37806-C-40.wav  \n",
      "  inflating: ESC-50-master/audio/2-37806-D-40.wav  \n",
      "  inflating: ESC-50-master/audio/2-37870-A-2.wav  \n",
      "  inflating: ESC-50-master/audio/2-39441-A-19.wav  \n",
      "  inflating: ESC-50-master/audio/2-39443-A-19.wav  \n",
      "  inflating: ESC-50-master/audio/2-39443-B-19.wav  \n",
      "  inflating: ESC-50-master/audio/2-39945-A-19.wav  \n",
      "  inflating: ESC-50-master/audio/2-39945-B-19.wav  \n",
      "  inflating: ESC-50-master/audio/2-39945-C-19.wav  \n",
      "  inflating: ESC-50-master/audio/2-42101-A-43.wav  \n",
      "  inflating: ESC-50-master/audio/2-43802-A-42.wav  \n",
      "  inflating: ESC-50-master/audio/2-43806-A-42.wav  \n",
      "  inflating: ESC-50-master/audio/2-50665-A-20.wav  \n",
      "  inflating: ESC-50-master/audio/2-50666-A-20.wav  \n",
      "  inflating: ESC-50-master/audio/2-50667-A-41.wav  \n",
      "  inflating: ESC-50-master/audio/2-50667-B-41.wav  \n",
      "  inflating: ESC-50-master/audio/2-50668-A-41.wav  \n",
      "  inflating: ESC-50-master/audio/2-50668-B-41.wav  \n",
      "  inflating: ESC-50-master/audio/2-50774-A-23.wav  \n",
      "  inflating: ESC-50-master/audio/2-51173-A-35.wav  \n",
      "  inflating: ESC-50-master/audio/2-51630-A-49.wav  \n",
      "  inflating: ESC-50-master/audio/2-51630-B-49.wav  \n",
      "  inflating: ESC-50-master/audio/2-52001-A-28.wav  \n",
      "  inflating: ESC-50-master/audio/2-52001-B-28.wav  \n",
      "  inflating: ESC-50-master/audio/2-52085-A-4.wav  \n",
      "  inflating: ESC-50-master/audio/2-52085-B-4.wav  \n",
      "  inflating: ESC-50-master/audio/2-52789-A-4.wav  \n",
      "  inflating: ESC-50-master/audio/2-54086-A-43.wav  \n",
      "  inflating: ESC-50-master/audio/2-54961-A-23.wav  \n",
      "  inflating: ESC-50-master/audio/2-54962-A-23.wav  \n",
      "  inflating: ESC-50-master/audio/2-56926-A-46.wav  \n",
      "  inflating: ESC-50-master/audio/2-57191-A-46.wav  \n",
      "  inflating: ESC-50-master/audio/2-57733-A-22.wav  \n",
      "  inflating: ESC-50-master/audio/2-59241-A-35.wav  \n",
      "  inflating: ESC-50-master/audio/2-59321-A-49.wav  \n",
      "  inflating: ESC-50-master/audio/2-59565-A-46.wav  \n",
      "  inflating: ESC-50-master/audio/2-59566-A-46.wav  \n",
      "  inflating: ESC-50-master/audio/2-60180-A-49.wav  \n",
      "  inflating: ESC-50-master/audio/2-60180-B-49.wav  \n",
      "  inflating: ESC-50-master/audio/2-60791-A-26.wav  \n",
      "  inflating: ESC-50-master/audio/2-60794-A-26.wav  \n",
      "  inflating: ESC-50-master/audio/2-60795-A-26.wav  \n",
      "  inflating: ESC-50-master/audio/2-60900-A-22.wav  \n",
      "  inflating: ESC-50-master/audio/2-61311-A-12.wav  \n",
      "  inflating: ESC-50-master/audio/2-61618-A-46.wav  \n",
      "  inflating: ESC-50-master/audio/2-62226-A-26.wav  \n",
      "  inflating: ESC-50-master/audio/2-64332-A-18.wav  \n",
      "  inflating: ESC-50-master/audio/2-64962-A-15.wav  \n",
      "  inflating: ESC-50-master/audio/2-64963-A-15.wav  \n",
      "  inflating: ESC-50-master/audio/2-65484-A-18.wav  \n",
      "  inflating: ESC-50-master/audio/2-65747-A-12.wav  \n",
      "  inflating: ESC-50-master/audio/2-65750-A-1.wav  \n",
      "  inflating: ESC-50-master/audio/2-66205-A-23.wav  \n",
      "  inflating: ESC-50-master/audio/2-66637-A-20.wav  \n",
      "  inflating: ESC-50-master/audio/2-66637-B-20.wav  \n",
      "  inflating: ESC-50-master/audio/2-67422-A-18.wav  \n",
      "  inflating: ESC-50-master/audio/2-68391-A-41.wav  \n",
      "  inflating: ESC-50-master/audio/2-68391-B-41.wav  \n",
      "  inflating: ESC-50-master/audio/2-68595-A-15.wav  \n",
      "  inflating: ESC-50-master/audio/2-68595-B-15.wav  \n",
      "  inflating: ESC-50-master/audio/2-69131-A-5.wav  \n",
      "  inflating: ESC-50-master/audio/2-69131-B-5.wav  \n",
      "  inflating: ESC-50-master/audio/2-70052-A-42.wav  \n",
      "  inflating: ESC-50-master/audio/2-70052-B-42.wav  \n",
      "  inflating: ESC-50-master/audio/2-70280-A-18.wav  \n",
      "  inflating: ESC-50-master/audio/2-70344-A-33.wav  \n",
      "  inflating: ESC-50-master/audio/2-70366-A-33.wav  \n",
      "  inflating: ESC-50-master/audio/2-70367-A-33.wav  \n",
      "  inflating: ESC-50-master/audio/2-70936-A-42.wav  \n",
      "  inflating: ESC-50-master/audio/2-70938-A-42.wav  \n",
      "  inflating: ESC-50-master/audio/2-70939-A-42.wav  \n",
      "  inflating: ESC-50-master/audio/2-71162-A-1.wav  \n",
      "  inflating: ESC-50-master/audio/2-72268-A-6.wav  \n",
      "  inflating: ESC-50-master/audio/2-72547-A-14.wav  \n",
      "  inflating: ESC-50-master/audio/2-72547-B-14.wav  \n",
      "  inflating: ESC-50-master/audio/2-72547-C-14.wav  \n",
      "  inflating: ESC-50-master/audio/2-72547-D-14.wav  \n",
      "  inflating: ESC-50-master/audio/2-72677-A-18.wav  \n",
      "  inflating: ESC-50-master/audio/2-72688-A-42.wav  \n",
      "  inflating: ESC-50-master/audio/2-72970-A-10.wav  \n",
      "  inflating: ESC-50-master/audio/2-73027-A-10.wav  \n",
      "  inflating: ESC-50-master/audio/2-7321-A-33.wav  \n",
      "  inflating: ESC-50-master/audio/2-73260-A-10.wav  \n",
      "  inflating: ESC-50-master/audio/2-73544-A-27.wav  \n",
      "  inflating: ESC-50-master/audio/2-74361-A-47.wav  \n",
      "  inflating: ESC-50-master/audio/2-74977-A-18.wav  \n",
      "  inflating: ESC-50-master/audio/2-75726-A-6.wav  \n",
      "  inflating: ESC-50-master/audio/2-76408-A-22.wav  \n",
      "  inflating: ESC-50-master/audio/2-76408-B-22.wav  \n",
      "  inflating: ESC-50-master/audio/2-76408-C-22.wav  \n",
      "  inflating: ESC-50-master/audio/2-76408-D-22.wav  \n",
      "  inflating: ESC-50-master/audio/2-76868-A-6.wav  \n",
      "  inflating: ESC-50-master/audio/2-77346-A-46.wav  \n",
      "  inflating: ESC-50-master/audio/2-77347-A-46.wav  \n",
      "  inflating: ESC-50-master/audio/2-77945-A-41.wav  \n",
      "  inflating: ESC-50-master/audio/2-77945-B-41.wav  \n",
      "  inflating: ESC-50-master/audio/2-78381-A-46.wav  \n",
      "  inflating: ESC-50-master/audio/2-78562-A-37.wav  \n",
      "  inflating: ESC-50-master/audio/2-78562-B-37.wav  \n",
      "  inflating: ESC-50-master/audio/2-78651-A-44.wav  \n",
      "  inflating: ESC-50-master/audio/2-78781-A-47.wav  \n",
      "  inflating: ESC-50-master/audio/2-78799-A-47.wav  \n",
      "  inflating: ESC-50-master/audio/2-79769-A-26.wav  \n",
      "  inflating: ESC-50-master/audio/2-79775-A-26.wav  \n",
      "  inflating: ESC-50-master/audio/2-80313-A-28.wav  \n",
      "  inflating: ESC-50-master/audio/2-80482-A-20.wav  \n",
      "  inflating: ESC-50-master/audio/2-80844-A-13.wav  \n",
      "  inflating: ESC-50-master/audio/2-81112-A-34.wav  \n",
      "  inflating: ESC-50-master/audio/2-81190-A-34.wav  \n",
      "  inflating: ESC-50-master/audio/2-81270-A-1.wav  \n",
      "  inflating: ESC-50-master/audio/2-81731-A-10.wav  \n",
      "  inflating: ESC-50-master/audio/2-81970-A-7.wav  \n",
      "  inflating: ESC-50-master/audio/2-81970-B-7.wav  \n",
      "  inflating: ESC-50-master/audio/2-81970-C-7.wav  \n",
      "  inflating: ESC-50-master/audio/2-82071-A-27.wav  \n",
      "  inflating: ESC-50-master/audio/2-82077-A-7.wav  \n",
      "  inflating: ESC-50-master/audio/2-82274-A-5.wav  \n",
      "  inflating: ESC-50-master/audio/2-82274-B-5.wav  \n",
      "  inflating: ESC-50-master/audio/2-82367-A-10.wav  \n",
      "  inflating: ESC-50-master/audio/2-82455-A-23.wav  \n",
      "  inflating: ESC-50-master/audio/2-82538-A-21.wav  \n",
      "  inflating: ESC-50-master/audio/2-83270-A-13.wav  \n",
      "  inflating: ESC-50-master/audio/2-83536-A-27.wav  \n",
      "  inflating: ESC-50-master/audio/2-83667-A-34.wav  \n",
      "  inflating: ESC-50-master/audio/2-83688-A-34.wav  \n",
      "  inflating: ESC-50-master/audio/2-83934-A-5.wav  \n",
      "  inflating: ESC-50-master/audio/2-83934-B-5.wav  \n",
      "  inflating: ESC-50-master/audio/2-84693-A-49.wav  \n",
      "  inflating: ESC-50-master/audio/2-84943-A-18.wav  \n",
      "  inflating: ESC-50-master/audio/2-84965-A-23.wav  \n",
      "  inflating: ESC-50-master/audio/2-85139-A-13.wav  \n",
      "  inflating: ESC-50-master/audio/2-85292-A-24.wav  \n",
      "  inflating: ESC-50-master/audio/2-85434-A-27.wav  \n",
      "  inflating: ESC-50-master/audio/2-85471-A-34.wav  \n",
      "  inflating: ESC-50-master/audio/2-85945-A-18.wav  \n",
      "  inflating: ESC-50-master/audio/2-86160-A-27.wav  \n",
      "  inflating: ESC-50-master/audio/2-87282-A-34.wav  \n",
      "  inflating: ESC-50-master/audio/2-87412-A-24.wav  \n",
      "  inflating: ESC-50-master/audio/2-87780-A-33.wav  \n",
      "  inflating: ESC-50-master/audio/2-87781-A-10.wav  \n",
      "  inflating: ESC-50-master/audio/2-87794-A-24.wav  \n",
      "  inflating: ESC-50-master/audio/2-87795-A-24.wav  \n",
      "  inflating: ESC-50-master/audio/2-87799-A-24.wav  \n",
      "  inflating: ESC-50-master/audio/2-88724-A-38.wav  \n",
      "  inflating: ESC-50-master/audio/2-89516-A-37.wav  \n",
      "  inflating: ESC-50-master/audio/2-91912-A-33.wav  \n",
      "  inflating: ESC-50-master/audio/2-91912-B-33.wav  \n",
      "  inflating: ESC-50-master/audio/2-92627-A-27.wav  \n",
      "  inflating: ESC-50-master/audio/2-92978-A-29.wav  \n",
      "  inflating: ESC-50-master/audio/2-93030-A-21.wav  \n",
      "  inflating: ESC-50-master/audio/2-94230-A-27.wav  \n",
      "  inflating: ESC-50-master/audio/2-94807-A-29.wav  \n",
      "  inflating: ESC-50-master/audio/2-95035-A-1.wav  \n",
      "  inflating: ESC-50-master/audio/2-95258-A-1.wav  \n",
      "  inflating: ESC-50-master/audio/2-95258-B-1.wav  \n",
      "  inflating: ESC-50-master/audio/2-95567-A-23.wav  \n",
      "  inflating: ESC-50-master/audio/2-96033-A-13.wav  \n",
      "  inflating: ESC-50-master/audio/2-96063-A-37.wav  \n",
      "  inflating: ESC-50-master/audio/2-96460-A-1.wav  \n",
      "  inflating: ESC-50-master/audio/2-96654-A-47.wav  \n",
      "  inflating: ESC-50-master/audio/2-96904-A-27.wav  \n",
      "  inflating: ESC-50-master/audio/2-98392-A-23.wav  \n",
      "  inflating: ESC-50-master/audio/2-98676-A-24.wav  \n",
      "  inflating: ESC-50-master/audio/2-98866-A-47.wav  \n",
      "  inflating: ESC-50-master/audio/2-99795-A-32.wav  \n",
      "  inflating: ESC-50-master/audio/2-99796-A-32.wav  \n",
      "  inflating: ESC-50-master/audio/2-99955-A-7.wav  \n",
      "  inflating: ESC-50-master/audio/2-99955-B-7.wav  \n",
      "  inflating: ESC-50-master/audio/2-99955-C-7.wav  \n",
      "  inflating: ESC-50-master/audio/3-100018-A-18.wav  \n",
      "  inflating: ESC-50-master/audio/3-100024-A-27.wav  \n",
      "  inflating: ESC-50-master/audio/3-100024-B-27.wav  \n",
      "  inflating: ESC-50-master/audio/3-101381-A-33.wav  \n",
      "  inflating: ESC-50-master/audio/3-101381-B-33.wav  \n",
      "  inflating: ESC-50-master/audio/3-102583-A-49.wav  \n",
      "  inflating: ESC-50-master/audio/3-102583-B-49.wav  \n",
      "  inflating: ESC-50-master/audio/3-102583-C-49.wav  \n",
      "  inflating: ESC-50-master/audio/3-102908-A-4.wav  \n",
      "  inflating: ESC-50-master/audio/3-103050-A-19.wav  \n",
      "  inflating: ESC-50-master/audio/3-103051-A-19.wav  \n",
      "  inflating: ESC-50-master/audio/3-103051-B-19.wav  \n",
      "  inflating: ESC-50-master/audio/3-103051-C-19.wav  \n",
      "  inflating: ESC-50-master/audio/3-103401-A-33.wav  \n",
      "  inflating: ESC-50-master/audio/3-103401-B-33.wav  \n",
      "  inflating: ESC-50-master/audio/3-103401-C-33.wav  \n",
      "  inflating: ESC-50-master/audio/3-103401-D-33.wav  \n",
      "  inflating: ESC-50-master/audio/3-103597-A-25.wav  \n",
      "  inflating: ESC-50-master/audio/3-103598-A-25.wav  \n",
      "  inflating: ESC-50-master/audio/3-103599-A-25.wav  \n",
      "  inflating: ESC-50-master/audio/3-103599-B-25.wav  \n",
      "  inflating: ESC-50-master/audio/3-104632-A-12.wav  \n",
      "  inflating: ESC-50-master/audio/3-104761-A-7.wav  \n",
      "  inflating: ESC-50-master/audio/3-104761-B-7.wav  \n",
      "  inflating: ESC-50-master/audio/3-104958-A-12.wav  \n",
      "  inflating: ESC-50-master/audio/3-105235-A-7.wav  \n",
      "  inflating: ESC-50-master/audio/3-105236-A-7.wav  \n",
      "  inflating: ESC-50-master/audio/3-107123-A-26.wav  \n",
      "  inflating: ESC-50-master/audio/3-107219-A-1.wav  \n",
      "  inflating: ESC-50-master/audio/3-108160-A-23.wav  \n",
      "  inflating: ESC-50-master/audio/3-108451-A-17.wav  \n",
      "  inflating: ESC-50-master/audio/3-108451-B-17.wav  \n",
      "  inflating: ESC-50-master/audio/3-108677-A-18.wav  \n",
      "  inflating: ESC-50-master/audio/3-108791-A-18.wav  \n",
      "  inflating: ESC-50-master/audio/3-110536-A-26.wav  \n",
      "  inflating: ESC-50-master/audio/3-110913-A-7.wav  \n",
      "  inflating: ESC-50-master/audio/3-110913-B-7.wav  \n",
      "  inflating: ESC-50-master/audio/3-110913-C-7.wav  \n",
      "  inflating: ESC-50-master/audio/3-110913-D-7.wav  \n",
      "  inflating: ESC-50-master/audio/3-111102-A-46.wav  \n",
      "  inflating: ESC-50-master/audio/3-111102-B-46.wav  \n",
      "  inflating: ESC-50-master/audio/3-112356-A-18.wav  \n",
      "  inflating: ESC-50-master/audio/3-112397-A-9.wav  \n",
      "  inflating: ESC-50-master/audio/3-112522-A-27.wav  \n",
      "  inflating: ESC-50-master/audio/3-112557-A-23.wav  \n",
      "  inflating: ESC-50-master/audio/3-112557-B-23.wav  \n",
      "  inflating: ESC-50-master/audio/3-115382-A-44.wav  \n",
      "  inflating: ESC-50-master/audio/3-115387-A-47.wav  \n",
      "  inflating: ESC-50-master/audio/3-115387-B-47.wav  \n",
      "  inflating: ESC-50-master/audio/3-115387-C-47.wav  \n",
      "  inflating: ESC-50-master/audio/3-116135-A-1.wav  \n",
      "  inflating: ESC-50-master/audio/3-117293-A-9.wav  \n",
      "  inflating: ESC-50-master/audio/3-117504-A-16.wav  \n",
      "  inflating: ESC-50-master/audio/3-117504-B-16.wav  \n",
      "  inflating: ESC-50-master/audio/3-117793-A-37.wav  \n",
      "  inflating: ESC-50-master/audio/3-117883-A-37.wav  \n",
      "  inflating: ESC-50-master/audio/3-118059-A-18.wav  \n",
      "  inflating: ESC-50-master/audio/3-118069-A-27.wav  \n",
      "  inflating: ESC-50-master/audio/3-118069-B-27.wav  \n",
      "  inflating: ESC-50-master/audio/3-118194-A-33.wav  \n",
      "  inflating: ESC-50-master/audio/3-118487-A-26.wav  \n",
      "  inflating: ESC-50-master/audio/3-118656-A-41.wav  \n",
      "  inflating: ESC-50-master/audio/3-118657-A-41.wav  \n",
      "  inflating: ESC-50-master/audio/3-118657-B-41.wav  \n",
      "  inflating: ESC-50-master/audio/3-118658-A-41.wav  \n",
      "  inflating: ESC-50-master/audio/3-118658-B-41.wav  \n",
      "  inflating: ESC-50-master/audio/3-118972-A-41.wav  \n",
      "  inflating: ESC-50-master/audio/3-118972-B-41.wav  \n",
      "  inflating: ESC-50-master/audio/3-119120-A-48.wav  \n",
      "  inflating: ESC-50-master/audio/3-119120-B-48.wav  \n",
      "  inflating: ESC-50-master/audio/3-119120-C-48.wav  \n",
      "  inflating: ESC-50-master/audio/3-119120-D-48.wav  \n",
      "  inflating: ESC-50-master/audio/3-119120-E-48.wav  \n",
      "  inflating: ESC-50-master/audio/3-119455-A-44.wav  \n",
      "  inflating: ESC-50-master/audio/3-119459-A-26.wav  \n",
      "  inflating: ESC-50-master/audio/3-120526-A-37.wav  \n",
      "  inflating: ESC-50-master/audio/3-120526-B-37.wav  \n",
      "  inflating: ESC-50-master/audio/3-120644-A-12.wav  \n",
      "  inflating: ESC-50-master/audio/3-121348-A-9.wav  \n",
      "  inflating: ESC-50-master/audio/3-122110-A-46.wav  \n",
      "  inflating: ESC-50-master/audio/3-123086-A-28.wav  \n",
      "  inflating: ESC-50-master/audio/3-123224-A-19.wav  \n",
      "  inflating: ESC-50-master/audio/3-124376-A-3.wav  \n",
      "  inflating: ESC-50-master/audio/3-124376-B-3.wav  \n",
      "  inflating: ESC-50-master/audio/3-124600-A-19.wav  \n",
      "  inflating: ESC-50-master/audio/3-124795-A-28.wav  \n",
      "  inflating: ESC-50-master/audio/3-124925-A-9.wav  \n",
      "  inflating: ESC-50-master/audio/3-124958-A-28.wav  \n",
      "  inflating: ESC-50-master/audio/3-125418-A-24.wav  \n",
      "  inflating: ESC-50-master/audio/3-125548-A-32.wav  \n",
      "  inflating: ESC-50-master/audio/3-126113-A-26.wav  \n",
      "  inflating: ESC-50-master/audio/3-126358-A-3.wav  \n",
      "  inflating: ESC-50-master/audio/3-126358-B-3.wav  \n",
      "  inflating: ESC-50-master/audio/3-126391-A-27.wav  \n",
      "  inflating: ESC-50-master/audio/3-126391-B-27.wav  \n",
      "  inflating: ESC-50-master/audio/3-127874-A-17.wav  \n",
      "  inflating: ESC-50-master/audio/3-127890-A-9.wav  \n",
      "  inflating: ESC-50-master/audio/3-127890-B-9.wav  \n",
      "  inflating: ESC-50-master/audio/3-127890-C-9.wav  \n",
      "  inflating: ESC-50-master/audio/3-128160-A-44.wav  \n",
      "  inflating: ESC-50-master/audio/3-128512-A-47.wav  \n",
      "  inflating: ESC-50-master/audio/3-128512-B-47.wav  \n",
      "  inflating: ESC-50-master/audio/3-129264-A-9.wav  \n",
      "  inflating: ESC-50-master/audio/3-129338-A-13.wav  \n",
      "  inflating: ESC-50-master/audio/3-129678-A-13.wav  \n",
      "  inflating: ESC-50-master/audio/3-130330-A-22.wav  \n",
      "  inflating: ESC-50-master/audio/3-130998-A-28.wav  \n",
      "  inflating: ESC-50-master/audio/3-130998-B-28.wav  \n",
      "  inflating: ESC-50-master/audio/3-131943-A-37.wav  \n",
      "  inflating: ESC-50-master/audio/3-132340-A-37.wav  \n",
      "  inflating: ESC-50-master/audio/3-132601-A-24.wav  \n",
      "  inflating: ESC-50-master/audio/3-132747-A-26.wav  \n",
      "  inflating: ESC-50-master/audio/3-132830-A-32.wav  \n",
      "  inflating: ESC-50-master/audio/3-132852-A-10.wav  \n",
      "  inflating: ESC-50-master/audio/3-133977-A-29.wav  \n",
      "  inflating: ESC-50-master/audio/3-134049-A-1.wav  \n",
      "  inflating: ESC-50-master/audio/3-134699-A-16.wav  \n",
      "  inflating: ESC-50-master/audio/3-134699-B-16.wav  \n",
      "  inflating: ESC-50-master/audio/3-134699-C-16.wav  \n",
      "  inflating: ESC-50-master/audio/3-134802-A-13.wav  \n",
      "  inflating: ESC-50-master/audio/3-135469-A-35.wav  \n",
      "  inflating: ESC-50-master/audio/3-135650-A-45.wav  \n",
      "  inflating: ESC-50-master/audio/3-135650-B-45.wav  \n",
      "  inflating: ESC-50-master/audio/3-136288-A-0.wav  \n",
      "  inflating: ESC-50-master/audio/3-136451-A-45.wav  \n",
      "  inflating: ESC-50-master/audio/3-136608-A-16.wav  \n",
      "  inflating: ESC-50-master/audio/3-137152-A-1.wav  \n",
      "  inflating: ESC-50-master/audio/3-138114-A-22.wav  \n",
      "  inflating: ESC-50-master/audio/3-138212-A-45.wav  \n",
      "  inflating: ESC-50-master/audio/3-139109-A-46.wav  \n",
      "  inflating: ESC-50-master/audio/3-139331-A-27.wav  \n",
      "  inflating: ESC-50-master/audio/3-139958-A-37.wav  \n",
      "  inflating: ESC-50-master/audio/3-140199-A-8.wav  \n",
      "  inflating: ESC-50-master/audio/3-140199-B-8.wav  \n",
      "  inflating: ESC-50-master/audio/3-140199-C-8.wav  \n",
      "  inflating: ESC-50-master/audio/3-140199-D-8.wav  \n",
      "  inflating: ESC-50-master/audio/3-140323-A-29.wav  \n",
      "  inflating: ESC-50-master/audio/3-140774-A-10.wav  \n",
      "  inflating: ESC-50-master/audio/3-141240-A-44.wav  \n",
      "  inflating: ESC-50-master/audio/3-141240-B-44.wav  \n",
      "  inflating: ESC-50-master/audio/3-141559-A-45.wav  \n",
      "  inflating: ESC-50-master/audio/3-141684-A-21.wav  \n",
      "  inflating: ESC-50-master/audio/3-142005-A-10.wav  \n",
      "  inflating: ESC-50-master/audio/3-142006-A-10.wav  \n",
      "  inflating: ESC-50-master/audio/3-142349-A-17.wav  \n",
      "  inflating: ESC-50-master/audio/3-142593-A-38.wav  \n",
      "  inflating: ESC-50-master/audio/3-142601-A-21.wav  \n",
      "  inflating: ESC-50-master/audio/3-142604-A-24.wav  \n",
      "  inflating: ESC-50-master/audio/3-142605-A-21.wav  \n",
      "  inflating: ESC-50-master/audio/3-143119-A-21.wav  \n",
      "  inflating: ESC-50-master/audio/3-143560-A-47.wav  \n",
      "  inflating: ESC-50-master/audio/3-143562-A-47.wav  \n",
      "  inflating: ESC-50-master/audio/3-143929-A-10.wav  \n",
      "  inflating: ESC-50-master/audio/3-143933-A-38.wav  \n",
      "  inflating: ESC-50-master/audio/3-144028-A-0.wav  \n",
      "  inflating: ESC-50-master/audio/3-144106-A-32.wav  \n",
      "  inflating: ESC-50-master/audio/3-144120-A-32.wav  \n",
      "  inflating: ESC-50-master/audio/3-144128-A-23.wav  \n",
      "  inflating: ESC-50-master/audio/3-144128-B-23.wav  \n",
      "  inflating: ESC-50-master/audio/3-144253-A-29.wav  \n",
      "  inflating: ESC-50-master/audio/3-144259-A-29.wav  \n",
      "  inflating: ESC-50-master/audio/3-144510-A-30.wav  \n",
      "  inflating: ESC-50-master/audio/3-144692-A-21.wav  \n",
      "  inflating: ESC-50-master/audio/3-144827-A-11.wav  \n",
      "  inflating: ESC-50-master/audio/3-144827-B-11.wav  \n",
      "  inflating: ESC-50-master/audio/3-144891-A-19.wav  \n",
      "  inflating: ESC-50-master/audio/3-144891-B-19.wav  \n",
      "  inflating: ESC-50-master/audio/3-145382-A-1.wav  \n",
      "  inflating: ESC-50-master/audio/3-145387-A-29.wav  \n",
      "  inflating: ESC-50-master/audio/3-145487-A-24.wav  \n",
      "  inflating: ESC-50-master/audio/3-145577-A-43.wav  \n",
      "  inflating: ESC-50-master/audio/3-145719-A-17.wav  \n",
      "  inflating: ESC-50-master/audio/3-145774-A-12.wav  \n",
      "  inflating: ESC-50-master/audio/3-146033-A-13.wav  \n",
      "  inflating: ESC-50-master/audio/3-146186-A-44.wav  \n",
      "  inflating: ESC-50-master/audio/3-146697-A-43.wav  \n",
      "  inflating: ESC-50-master/audio/3-146873-A-24.wav  \n",
      "  inflating: ESC-50-master/audio/3-146964-A-5.wav  \n",
      "  inflating: ESC-50-master/audio/3-146965-A-5.wav  \n",
      "  inflating: ESC-50-master/audio/3-146972-A-5.wav  \n",
      "  inflating: ESC-50-master/audio/3-147342-A-34.wav  \n",
      "  inflating: ESC-50-master/audio/3-147343-A-34.wav  \n",
      "  inflating: ESC-50-master/audio/3-147965-A-12.wav  \n",
      "  inflating: ESC-50-master/audio/3-148297-A-37.wav  \n",
      "  inflating: ESC-50-master/audio/3-148330-A-21.wav  \n",
      "  inflating: ESC-50-master/audio/3-148932-A-34.wav  \n",
      "  inflating: ESC-50-master/audio/3-149042-A-24.wav  \n",
      "  inflating: ESC-50-master/audio/3-149189-A-1.wav  \n",
      "  inflating: ESC-50-master/audio/3-149448-A-17.wav  \n",
      "  inflating: ESC-50-master/audio/3-149465-A-22.wav  \n",
      "  inflating: ESC-50-master/audio/3-150231-A-21.wav  \n",
      "  inflating: ESC-50-master/audio/3-150363-A-38.wav  \n",
      "  inflating: ESC-50-master/audio/3-150979-A-40.wav  \n",
      "  inflating: ESC-50-master/audio/3-150979-B-40.wav  \n",
      "  inflating: ESC-50-master/audio/3-150979-C-40.wav  \n",
      "  inflating: ESC-50-master/audio/3-151080-A-20.wav  \n",
      "  inflating: ESC-50-master/audio/3-151081-A-20.wav  \n",
      "  inflating: ESC-50-master/audio/3-151081-B-20.wav  \n",
      "  inflating: ESC-50-master/audio/3-151089-A-30.wav  \n",
      "  inflating: ESC-50-master/audio/3-151206-A-23.wav  \n",
      "  inflating: ESC-50-master/audio/3-151212-A-24.wav  \n",
      "  inflating: ESC-50-master/audio/3-151213-A-24.wav  \n",
      "  inflating: ESC-50-master/audio/3-151255-A-28.wav  \n",
      "  inflating: ESC-50-master/audio/3-151269-A-35.wav  \n",
      "  inflating: ESC-50-master/audio/3-151273-A-35.wav  \n",
      "  inflating: ESC-50-master/audio/3-151557-A-28.wav  \n",
      "  inflating: ESC-50-master/audio/3-151557-B-28.wav  \n",
      "  inflating: ESC-50-master/audio/3-152007-A-20.wav  \n",
      "  inflating: ESC-50-master/audio/3-152007-B-20.wav  \n",
      "  inflating: ESC-50-master/audio/3-152007-C-20.wav  \n",
      "  inflating: ESC-50-master/audio/3-152007-D-20.wav  \n",
      "  inflating: ESC-50-master/audio/3-152007-E-20.wav  \n",
      "  inflating: ESC-50-master/audio/3-152020-A-36.wav  \n",
      "  inflating: ESC-50-master/audio/3-152020-B-36.wav  \n",
      "  inflating: ESC-50-master/audio/3-152020-C-36.wav  \n",
      "  inflating: ESC-50-master/audio/3-152039-A-3.wav  \n",
      "  inflating: ESC-50-master/audio/3-152039-B-3.wav  \n",
      "  inflating: ESC-50-master/audio/3-152594-A-30.wav  \n",
      "  inflating: ESC-50-master/audio/3-152912-A-26.wav  \n",
      "  inflating: ESC-50-master/audio/3-152997-A-26.wav  \n",
      "  inflating: ESC-50-master/audio/3-153057-A-43.wav  \n",
      "  inflating: ESC-50-master/audio/3-153444-A-32.wav  \n",
      "  inflating: ESC-50-master/audio/3-154378-A-30.wav  \n",
      "  inflating: ESC-50-master/audio/3-154439-A-17.wav  \n",
      "  inflating: ESC-50-master/audio/3-154758-A-44.wav  \n",
      "  inflating: ESC-50-master/audio/3-154781-A-32.wav  \n",
      "  inflating: ESC-50-master/audio/3-154926-A-40.wav  \n",
      "  inflating: ESC-50-master/audio/3-154926-B-40.wav  \n",
      "  inflating: ESC-50-master/audio/3-154957-A-1.wav  \n",
      "  inflating: ESC-50-master/audio/3-155130-A-43.wav  \n",
      "  inflating: ESC-50-master/audio/3-155234-A-43.wav  \n",
      "  inflating: ESC-50-master/audio/3-155312-A-0.wav  \n",
      "  inflating: ESC-50-master/audio/3-155556-A-31.wav  \n",
      "  inflating: ESC-50-master/audio/3-155568-A-32.wav  \n",
      "  inflating: ESC-50-master/audio/3-155570-A-32.wav  \n",
      "  inflating: ESC-50-master/audio/3-155577-A-14.wav  \n",
      "  inflating: ESC-50-master/audio/3-155578-A-14.wav  \n",
      "  inflating: ESC-50-master/audio/3-155579-A-14.wav  \n",
      "  inflating: ESC-50-master/audio/3-155583-A-14.wav  \n",
      "  inflating: ESC-50-master/audio/3-155584-A-14.wav  \n",
      "  inflating: ESC-50-master/audio/3-155642-A-11.wav  \n",
      "  inflating: ESC-50-master/audio/3-155642-B-11.wav  \n",
      "  inflating: ESC-50-master/audio/3-155659-A-34.wav  \n",
      "  inflating: ESC-50-master/audio/3-155766-A-13.wav  \n",
      "  inflating: ESC-50-master/audio/3-156391-A-35.wav  \n",
      "  inflating: ESC-50-master/audio/3-156393-A-35.wav  \n",
      "  inflating: ESC-50-master/audio/3-156558-A-21.wav  \n",
      "  inflating: ESC-50-master/audio/3-156581-A-14.wav  \n",
      "  inflating: ESC-50-master/audio/3-156581-B-14.wav  \n",
      "  inflating: ESC-50-master/audio/3-156907-A-15.wav  \n",
      "  inflating: ESC-50-master/audio/3-157149-A-10.wav  \n",
      "  inflating: ESC-50-master/audio/3-157187-A-12.wav  \n",
      "  inflating: ESC-50-master/audio/3-157487-A-10.wav  \n",
      "  inflating: ESC-50-master/audio/3-157492-A-45.wav  \n",
      "  inflating: ESC-50-master/audio/3-157615-A-10.wav  \n",
      "  inflating: ESC-50-master/audio/3-157695-A-0.wav  \n",
      "  inflating: ESC-50-master/audio/3-158056-A-31.wav  \n",
      "  inflating: ESC-50-master/audio/3-158056-B-31.wav  \n",
      "  inflating: ESC-50-master/audio/3-158476-A-12.wav  \n",
      "  inflating: ESC-50-master/audio/3-159346-A-36.wav  \n",
      "  inflating: ESC-50-master/audio/3-159346-B-36.wav  \n",
      "  inflating: ESC-50-master/audio/3-159347-A-36.wav  \n",
      "  inflating: ESC-50-master/audio/3-159347-B-36.wav  \n",
      "  inflating: ESC-50-master/audio/3-159348-A-36.wav  \n",
      "  inflating: ESC-50-master/audio/3-159445-A-45.wav  \n",
      "  inflating: ESC-50-master/audio/3-159445-B-45.wav  \n",
      "  inflating: ESC-50-master/audio/3-160119-A-15.wav  \n",
      "  inflating: ESC-50-master/audio/3-160993-A-3.wav  \n",
      "  inflating: ESC-50-master/audio/3-161010-A-43.wav  \n",
      "  inflating: ESC-50-master/audio/3-161500-A-17.wav  \n",
      "  inflating: ESC-50-master/audio/3-162786-A-13.wav  \n",
      "  inflating: ESC-50-master/audio/3-163288-A-1.wav  \n",
      "  inflating: ESC-50-master/audio/3-163459-A-0.wav  \n",
      "  inflating: ESC-50-master/audio/3-163607-A-13.wav  \n",
      "  inflating: ESC-50-master/audio/3-163607-B-13.wav  \n",
      "  inflating: ESC-50-master/audio/3-163727-A-3.wav  \n",
      "  inflating: ESC-50-master/audio/3-164120-A-11.wav  \n",
      "  inflating: ESC-50-master/audio/3-164216-A-6.wav  \n",
      "  inflating: ESC-50-master/audio/3-164216-B-6.wav  \n",
      "  inflating: ESC-50-master/audio/3-164216-C-6.wav  \n",
      "  inflating: ESC-50-master/audio/3-164592-A-15.wav  \n",
      "  inflating: ESC-50-master/audio/3-164593-A-15.wav  \n",
      "  inflating: ESC-50-master/audio/3-164594-A-15.wav  \n",
      "  inflating: ESC-50-master/audio/3-164595-A-15.wav  \n",
      "  inflating: ESC-50-master/audio/3-164630-A-11.wav  \n",
      "  inflating: ESC-50-master/audio/3-164688-A-38.wav  \n",
      "  inflating: ESC-50-master/audio/3-165856-A-41.wav  \n",
      "  inflating: ESC-50-master/audio/3-166125-A-23.wav  \n",
      "  inflating: ESC-50-master/audio/3-166125-B-23.wav  \n",
      "  inflating: ESC-50-master/audio/3-166324-A-15.wav  \n",
      "  inflating: ESC-50-master/audio/3-166326-A-15.wav  \n",
      "  inflating: ESC-50-master/audio/3-166422-A-11.wav  \n",
      "  inflating: ESC-50-master/audio/3-166546-A-34.wav  \n",
      "  inflating: ESC-50-master/audio/3-166546-B-34.wav  \n",
      "  inflating: ESC-50-master/audio/3-167096-A-31.wav  \n",
      "  inflating: ESC-50-master/audio/3-169907-A-29.wav  \n",
      "  inflating: ESC-50-master/audio/3-170002-A-34.wav  \n",
      "  inflating: ESC-50-master/audio/3-170015-A-0.wav  \n",
      "  inflating: ESC-50-master/audio/3-170312-A-31.wav  \n",
      "  inflating: ESC-50-master/audio/3-170377-A-38.wav  \n",
      "  inflating: ESC-50-master/audio/3-170383-A-38.wav  \n",
      "  inflating: ESC-50-master/audio/3-170574-A-30.wav  \n",
      "  inflating: ESC-50-master/audio/3-170851-A-31.wav  \n",
      "  inflating: ESC-50-master/audio/3-171012-A-38.wav  \n",
      "  inflating: ESC-50-master/audio/3-171041-A-38.wav  \n",
      "  inflating: ESC-50-master/audio/3-171281-A-6.wav  \n",
      "  inflating: ESC-50-master/audio/3-171937-A-34.wav  \n",
      "  inflating: ESC-50-master/audio/3-172179-A-31.wav  \n",
      "  inflating: ESC-50-master/audio/3-172881-A-48.wav  \n",
      "  inflating: ESC-50-master/audio/3-172922-A-48.wav  \n",
      "  inflating: ESC-50-master/audio/3-174840-A-43.wav  \n",
      "  inflating: ESC-50-master/audio/3-174866-A-29.wav  \n",
      "  inflating: ESC-50-master/audio/3-177082-A-22.wav  \n",
      "  inflating: ESC-50-master/audio/3-177083-A-22.wav  \n",
      "  inflating: ESC-50-master/audio/3-178096-A-6.wav  \n",
      "  inflating: ESC-50-master/audio/3-180147-A-30.wav  \n",
      "  inflating: ESC-50-master/audio/3-180256-A-0.wav  \n",
      "  inflating: ESC-50-master/audio/3-180977-A-0.wav  \n",
      "  inflating: ESC-50-master/audio/3-181132-A-14.wav  \n",
      "  inflating: ESC-50-master/audio/3-181278-A-22.wav  \n",
      "  inflating: ESC-50-master/audio/3-182023-A-30.wav  \n",
      "  inflating: ESC-50-master/audio/3-182025-A-30.wav  \n",
      "  inflating: ESC-50-master/audio/3-182710-A-35.wav  \n",
      "  inflating: ESC-50-master/audio/3-182710-B-35.wav  \n",
      "  inflating: ESC-50-master/audio/3-185313-A-31.wav  \n",
      "  inflating: ESC-50-master/audio/3-185456-A-29.wav  \n",
      "  inflating: ESC-50-master/audio/3-187549-A-6.wav  \n",
      "  inflating: ESC-50-master/audio/3-187549-B-6.wav  \n",
      "  inflating: ESC-50-master/audio/3-187710-A-11.wav  \n",
      "  inflating: ESC-50-master/audio/3-188390-A-6.wav  \n",
      "  inflating: ESC-50-master/audio/3-188726-A-35.wav  \n",
      "  inflating: ESC-50-master/audio/3-193767-A-47.wav  \n",
      "  inflating: ESC-50-master/audio/3-197408-A-8.wav  \n",
      "  inflating: ESC-50-master/audio/3-197408-B-8.wav  \n",
      "  inflating: ESC-50-master/audio/3-197408-C-8.wav  \n",
      "  inflating: ESC-50-master/audio/3-197435-A-22.wav  \n",
      "  inflating: ESC-50-master/audio/3-197435-B-22.wav  \n",
      "  inflating: ESC-50-master/audio/3-203371-A-39.wav  \n",
      "  inflating: ESC-50-master/audio/3-203373-A-39.wav  \n",
      "  inflating: ESC-50-master/audio/3-203374-A-39.wav  \n",
      "  inflating: ESC-50-master/audio/3-203375-A-39.wav  \n",
      "  inflating: ESC-50-master/audio/3-203377-A-39.wav  \n",
      "  inflating: ESC-50-master/audio/3-20861-A-8.wav  \n",
      "  inflating: ESC-50-master/audio/3-208820-A-49.wav  \n",
      "  inflating: ESC-50-master/audio/3-216280-A-39.wav  \n",
      "  inflating: ESC-50-master/audio/3-216281-A-39.wav  \n",
      "  inflating: ESC-50-master/audio/3-216284-A-39.wav  \n",
      "  inflating: ESC-50-master/audio/3-233151-A-2.wav  \n",
      "  inflating: ESC-50-master/audio/3-243726-A-43.wav  \n",
      "  inflating: ESC-50-master/audio/3-246513-A-16.wav  \n",
      "  inflating: ESC-50-master/audio/3-246513-B-16.wav  \n",
      "  inflating: ESC-50-master/audio/3-249913-A-25.wav  \n",
      "  inflating: ESC-50-master/audio/3-251617-A-48.wav  \n",
      "  inflating: ESC-50-master/audio/3-253081-A-2.wav  \n",
      "  inflating: ESC-50-master/audio/3-253084-A-2.wav  \n",
      "  inflating: ESC-50-master/audio/3-253084-B-2.wav  \n",
      "  inflating: ESC-50-master/audio/3-253084-C-2.wav  \n",
      "  inflating: ESC-50-master/audio/3-253084-D-2.wav  \n",
      "  inflating: ESC-50-master/audio/3-253084-E-2.wav  \n",
      "  inflating: ESC-50-master/audio/3-257858-A-2.wav  \n",
      "  inflating: ESC-50-master/audio/3-259622-A-44.wav  \n",
      "  inflating: ESC-50-master/audio/3-51376-A-42.wav  \n",
      "  inflating: ESC-50-master/audio/3-51731-A-42.wav  \n",
      "  inflating: ESC-50-master/audio/3-51731-B-42.wav  \n",
      "  inflating: ESC-50-master/audio/3-51909-A-42.wav  \n",
      "  inflating: ESC-50-master/audio/3-51909-B-42.wav  \n",
      "  inflating: ESC-50-master/audio/3-58772-A-42.wav  \n",
      "  inflating: ESC-50-master/audio/3-62878-A-42.wav  \n",
      "  inflating: ESC-50-master/audio/3-62878-B-42.wav  \n",
      "  inflating: ESC-50-master/audio/3-65748-A-12.wav  \n",
      "  inflating: ESC-50-master/audio/3-68630-A-40.wav  \n",
      "  inflating: ESC-50-master/audio/3-68630-B-40.wav  \n",
      "  inflating: ESC-50-master/audio/3-68630-C-40.wav  \n",
      "  inflating: ESC-50-master/audio/3-70962-A-4.wav  \n",
      "  inflating: ESC-50-master/audio/3-70962-B-4.wav  \n",
      "  inflating: ESC-50-master/audio/3-70962-C-4.wav  \n",
      "  inflating: ESC-50-master/audio/3-71964-A-4.wav  \n",
      "  inflating: ESC-50-master/audio/3-71964-B-4.wav  \n",
      "  inflating: ESC-50-master/audio/3-71964-C-4.wav  \n",
      "  inflating: ESC-50-master/audio/3-83527-A-4.wav  \n",
      "  inflating: ESC-50-master/audio/3-87936-A-46.wav  \n",
      "  inflating: ESC-50-master/audio/3-87936-B-46.wav  \n",
      "  inflating: ESC-50-master/audio/3-92637-A-18.wav  \n",
      "  inflating: ESC-50-master/audio/3-93010-A-18.wav  \n",
      "  inflating: ESC-50-master/audio/3-94342-A-25.wav  \n",
      "  inflating: ESC-50-master/audio/3-94343-A-25.wav  \n",
      "  inflating: ESC-50-master/audio/3-94344-A-25.wav  \n",
      "  inflating: ESC-50-master/audio/3-94355-A-33.wav  \n",
      "  inflating: ESC-50-master/audio/3-95694-A-5.wav  \n",
      "  inflating: ESC-50-master/audio/3-95695-A-5.wav  \n",
      "  inflating: ESC-50-master/audio/3-95695-B-5.wav  \n",
      "  inflating: ESC-50-master/audio/3-95697-A-5.wav  \n",
      "  inflating: ESC-50-master/audio/3-95698-A-5.wav  \n",
      "  inflating: ESC-50-master/audio/3-96606-A-49.wav  \n",
      "  inflating: ESC-50-master/audio/3-96606-B-49.wav  \n",
      "  inflating: ESC-50-master/audio/3-97909-A-49.wav  \n",
      "  inflating: ESC-50-master/audio/3-97909-B-49.wav  \n",
      "  inflating: ESC-50-master/audio/3-98193-A-46.wav  \n",
      "  inflating: ESC-50-master/audio/3-98771-A-18.wav  \n",
      "  inflating: ESC-50-master/audio/3-98869-A-46.wav  \n",
      "  inflating: ESC-50-master/audio/4-102844-A-49.wav  \n",
      "  inflating: ESC-50-master/audio/4-102844-B-49.wav  \n",
      "  inflating: ESC-50-master/audio/4-102844-C-49.wav  \n",
      "  inflating: ESC-50-master/audio/4-102871-A-42.wav  \n",
      "  inflating: ESC-50-master/audio/4-107117-A-33.wav  \n",
      "  inflating: ESC-50-master/audio/4-107120-A-33.wav  \n",
      "  inflating: ESC-50-master/audio/4-107122-A-33.wav  \n",
      "  inflating: ESC-50-master/audio/4-108352-A-33.wav  \n",
      "  inflating: ESC-50-master/audio/4-111671-A-42.wav  \n",
      "  inflating: ESC-50-master/audio/4-111671-B-42.wav  \n",
      "  inflating: ESC-50-master/audio/4-117627-A-25.wav  \n",
      "  inflating: ESC-50-master/audio/4-117630-A-25.wav  \n",
      "  inflating: ESC-50-master/audio/4-119647-A-48.wav  \n",
      "  inflating: ESC-50-master/audio/4-119647-B-48.wav  \n",
      "  inflating: ESC-50-master/audio/4-119647-C-48.wav  \n",
      "  inflating: ESC-50-master/audio/4-119647-D-48.wav  \n",
      "  inflating: ESC-50-master/audio/4-119648-A-48.wav  \n",
      "  inflating: ESC-50-master/audio/4-119648-B-48.wav  \n",
      "  inflating: ESC-50-master/audio/4-119648-C-48.wav  \n",
      "  inflating: ESC-50-master/audio/4-119648-D-48.wav  \n",
      "  inflating: ESC-50-master/audio/4-119720-A-18.wav  \n",
      "  inflating: ESC-50-master/audio/4-120160-A-5.wav  \n",
      "  inflating: ESC-50-master/audio/4-121532-A-42.wav  \n",
      "  inflating: ESC-50-master/audio/4-123680-A-18.wav  \n",
      "  inflating: ESC-50-master/audio/4-125070-A-19.wav  \n",
      "  inflating: ESC-50-master/audio/4-125071-A-19.wav  \n",
      "  inflating: ESC-50-master/audio/4-125072-A-19.wav  \n",
      "  inflating: ESC-50-master/audio/4-125072-B-19.wav  \n",
      "  inflating: ESC-50-master/audio/4-125825-A-46.wav  \n",
      "  inflating: ESC-50-master/audio/4-125825-B-46.wav  \n",
      "  inflating: ESC-50-master/audio/4-125929-A-40.wav  \n",
      "  inflating: ESC-50-master/audio/4-126046-A-18.wav  \n",
      "  inflating: ESC-50-master/audio/4-126532-A-18.wav  \n",
      "  inflating: ESC-50-master/audio/4-128659-A-33.wav  \n",
      "  inflating: ESC-50-master/audio/4-130584-A-4.wav  \n",
      "  inflating: ESC-50-master/audio/4-130891-A-7.wav  \n",
      "  inflating: ESC-50-master/audio/4-132383-A-2.wav  \n",
      "  inflating: ESC-50-master/audio/4-132383-B-2.wav  \n",
      "  inflating: ESC-50-master/audio/4-132803-A-26.wav  \n",
      "  inflating: ESC-50-master/audio/4-132810-A-26.wav  \n",
      "  inflating: ESC-50-master/audio/4-132816-A-26.wav  \n",
      "  inflating: ESC-50-master/audio/4-132839-A-33.wav  \n",
      "  inflating: ESC-50-master/audio/4-133047-A-5.wav  \n",
      "  inflating: ESC-50-master/audio/4-133047-B-5.wav  \n",
      "  inflating: ESC-50-master/audio/4-133047-C-5.wav  \n",
      "  inflating: ESC-50-master/audio/4-133674-A-26.wav  \n",
      "  inflating: ESC-50-master/audio/4-133895-A-7.wav  \n",
      "  inflating: ESC-50-master/audio/4-135439-A-18.wav  \n",
      "  inflating: ESC-50-master/audio/4-136381-A-9.wav  \n",
      "  inflating: ESC-50-master/audio/4-138344-A-9.wav  \n",
      "  inflating: ESC-50-master/audio/4-140034-A-46.wav  \n",
      "  inflating: ESC-50-master/audio/4-141365-A-18.wav  \n",
      "  inflating: ESC-50-master/audio/4-143118-A-7.wav  \n",
      "  inflating: ESC-50-master/audio/4-143118-B-7.wav  \n",
      "  inflating: ESC-50-master/audio/4-144083-A-16.wav  \n",
      "  inflating: ESC-50-master/audio/4-144083-B-16.wav  \n",
      "  inflating: ESC-50-master/audio/4-144083-C-16.wav  \n",
      "  inflating: ESC-50-master/audio/4-144085-A-16.wav  \n",
      "  inflating: ESC-50-master/audio/4-144468-A-27.wav  \n",
      "  inflating: ESC-50-master/audio/4-144468-B-27.wav  \n",
      "  inflating: ESC-50-master/audio/4-145006-A-18.wav  \n",
      "  inflating: ESC-50-master/audio/4-145081-A-9.wav  \n",
      "  inflating: ESC-50-master/audio/4-146200-A-36.wav  \n",
      "  inflating: ESC-50-master/audio/4-147240-A-2.wav  \n",
      "  inflating: ESC-50-master/audio/4-147240-B-2.wav  \n",
      "  inflating: ESC-50-master/audio/4-147657-A-46.wav  \n",
      "  inflating: ESC-50-master/audio/4-147658-A-46.wav  \n",
      "  inflating: ESC-50-master/audio/4-149294-A-41.wav  \n",
      "  inflating: ESC-50-master/audio/4-149294-B-41.wav  \n",
      "  inflating: ESC-50-master/audio/4-149940-A-5.wav  \n",
      "  inflating: ESC-50-master/audio/4-149940-B-5.wav  \n",
      "  inflating: ESC-50-master/audio/4-150364-A-46.wav  \n",
      "  inflating: ESC-50-master/audio/4-150364-B-46.wav  \n",
      "  inflating: ESC-50-master/audio/4-151242-A-37.wav  \n",
      "  inflating: ESC-50-master/audio/4-152958-A-18.wav  \n",
      "  inflating: ESC-50-master/audio/4-152995-A-24.wav  \n",
      "  inflating: ESC-50-master/audio/4-154405-A-27.wav  \n",
      "  inflating: ESC-50-master/audio/4-154405-B-27.wav  \n",
      "  inflating: ESC-50-master/audio/4-154443-A-24.wav  \n",
      "  inflating: ESC-50-master/audio/4-154793-A-4.wav  \n",
      "  inflating: ESC-50-master/audio/4-155650-A-24.wav  \n",
      "  inflating: ESC-50-master/audio/4-155650-B-24.wav  \n",
      "  inflating: ESC-50-master/audio/4-155670-A-26.wav  \n",
      "  inflating: ESC-50-master/audio/4-156227-A-9.wav  \n",
      "  inflating: ESC-50-master/audio/4-156827-A-46.wav  \n",
      "  inflating: ESC-50-master/audio/4-156843-A-21.wav  \n",
      "  inflating: ESC-50-master/audio/4-156844-A-21.wav  \n",
      "  inflating: ESC-50-master/audio/4-156993-A-19.wav  \n",
      "  inflating: ESC-50-master/audio/4-157296-A-24.wav  \n",
      "  inflating: ESC-50-master/audio/4-157297-A-21.wav  \n",
      "  inflating: ESC-50-master/audio/4-157611-A-41.wav  \n",
      "  inflating: ESC-50-master/audio/4-157611-B-41.wav  \n",
      "  inflating: ESC-50-master/audio/4-158653-A-32.wav  \n",
      "  inflating: ESC-50-master/audio/4-159426-A-9.wav  \n",
      "  inflating: ESC-50-master/audio/4-159609-A-14.wav  \n",
      "  inflating: ESC-50-master/audio/4-159609-B-14.wav  \n",
      "  inflating: ESC-50-master/audio/4-160036-A-33.wav  \n",
      "  inflating: ESC-50-master/audio/4-160036-B-33.wav  \n",
      "  inflating: ESC-50-master/audio/4-160999-A-10.wav  \n",
      "  inflating: ESC-50-master/audio/4-161099-A-47.wav  \n",
      "  inflating: ESC-50-master/audio/4-161099-B-47.wav  \n",
      "  inflating: ESC-50-master/audio/4-161100-A-47.wav  \n",
      "  inflating: ESC-50-master/audio/4-161103-A-47.wav  \n",
      "  inflating: ESC-50-master/audio/4-161105-A-47.wav  \n",
      "  inflating: ESC-50-master/audio/4-161105-B-47.wav  \n",
      "  inflating: ESC-50-master/audio/4-161127-A-10.wav  \n",
      "  inflating: ESC-50-master/audio/4-161303-A-5.wav  \n",
      "  inflating: ESC-50-master/audio/4-161303-B-5.wav  \n",
      "  inflating: ESC-50-master/audio/4-161519-A-19.wav  \n",
      "  inflating: ESC-50-master/audio/4-161579-A-40.wav  \n",
      "  inflating: ESC-50-master/audio/4-161579-B-40.wav  \n",
      "  inflating: ESC-50-master/audio/4-163264-A-10.wav  \n",
      "  inflating: ESC-50-master/audio/4-163606-A-16.wav  \n",
      "  inflating: ESC-50-master/audio/4-163608-B-16.wav  \n",
      "  inflating: ESC-50-master/audio/4-163609-A-16.wav  \n",
      "  inflating: ESC-50-master/audio/4-163609-B-16.wav  \n",
      "  inflating: ESC-50-master/audio/4-163697-A-13.wav  \n",
      "  inflating: ESC-50-master/audio/4-164021-A-1.wav  \n",
      "  inflating: ESC-50-master/audio/4-164064-A-1.wav  \n",
      "  inflating: ESC-50-master/audio/4-164064-B-1.wav  \n",
      "  inflating: ESC-50-master/audio/4-164064-C-1.wav  \n",
      "  inflating: ESC-50-master/audio/4-164206-A-10.wav  \n",
      "  inflating: ESC-50-master/audio/4-164243-A-26.wav  \n",
      "  inflating: ESC-50-master/audio/4-164661-A-12.wav  \n",
      "  inflating: ESC-50-master/audio/4-164661-B-12.wav  \n",
      "  inflating: ESC-50-master/audio/4-164859-A-1.wav  \n",
      "  inflating: ESC-50-master/audio/4-165606-A-45.wav  \n",
      "  inflating: ESC-50-master/audio/4-165791-A-45.wav  \n",
      "  inflating: ESC-50-master/audio/4-165791-B-45.wav  \n",
      "  inflating: ESC-50-master/audio/4-165813-A-19.wav  \n",
      "  inflating: ESC-50-master/audio/4-165813-B-19.wav  \n",
      "  inflating: ESC-50-master/audio/4-165823-A-41.wav  \n",
      "  inflating: ESC-50-master/audio/4-165823-B-41.wav  \n",
      "  inflating: ESC-50-master/audio/4-165845-A-45.wav  \n",
      "  inflating: ESC-50-master/audio/4-165845-B-45.wav  \n",
      "  inflating: ESC-50-master/audio/4-165933-A-45.wav  \n",
      "  inflating: ESC-50-master/audio/4-166661-A-10.wav  \n",
      "  inflating: ESC-50-master/audio/4-167063-A-11.wav  \n",
      "  inflating: ESC-50-master/audio/4-167063-B-11.wav  \n",
      "  inflating: ESC-50-master/audio/4-167063-C-11.wav  \n",
      "  inflating: ESC-50-master/audio/4-167077-A-20.wav  \n",
      "  inflating: ESC-50-master/audio/4-167077-B-20.wav  \n",
      "  inflating: ESC-50-master/audio/4-167077-C-20.wav  \n",
      "  inflating: ESC-50-master/audio/4-167155-A-32.wav  \n",
      "  inflating: ESC-50-master/audio/4-167571-A-26.wav  \n",
      "  inflating: ESC-50-master/audio/4-167642-A-21.wav  \n",
      "  inflating: ESC-50-master/audio/4-168155-A-15.wav  \n",
      "  inflating: ESC-50-master/audio/4-168446-A-45.wav  \n",
      "  inflating: ESC-50-master/audio/4-168868-A-17.wav  \n",
      "  inflating: ESC-50-master/audio/4-169127-A-41.wav  \n",
      "  inflating: ESC-50-master/audio/4-169127-B-41.wav  \n",
      "  inflating: ESC-50-master/audio/4-169508-A-37.wav  \n",
      "  inflating: ESC-50-master/audio/4-169726-A-24.wav  \n",
      "  inflating: ESC-50-master/audio/4-170078-A-1.wav  \n",
      "  inflating: ESC-50-master/audio/4-170247-A-12.wav  \n",
      "  inflating: ESC-50-master/audio/4-170247-B-12.wav  \n",
      "  inflating: ESC-50-master/audio/4-171207-A-12.wav  \n",
      "  inflating: ESC-50-master/audio/4-171396-A-24.wav  \n",
      "  inflating: ESC-50-master/audio/4-171519-A-21.wav  \n",
      "  inflating: ESC-50-master/audio/4-171652-A-44.wav  \n",
      "  inflating: ESC-50-master/audio/4-171706-A-23.wav  \n",
      "  inflating: ESC-50-master/audio/4-171823-A-13.wav  \n",
      "  inflating: ESC-50-master/audio/4-172143-A-13.wav  \n",
      "  inflating: ESC-50-master/audio/4-172180-A-32.wav  \n",
      "  inflating: ESC-50-master/audio/4-172366-A-37.wav  \n",
      "  inflating: ESC-50-master/audio/4-172377-A-17.wav  \n",
      "  inflating: ESC-50-master/audio/4-172500-A-27.wav  \n",
      "  inflating: ESC-50-master/audio/4-172500-B-27.wav  \n",
      "  inflating: ESC-50-master/audio/4-172500-C-27.wav  \n",
      "  inflating: ESC-50-master/audio/4-172500-D-27.wav  \n",
      "  inflating: ESC-50-master/audio/4-172732-A-36.wav  \n",
      "  inflating: ESC-50-master/audio/4-172733-A-36.wav  \n",
      "  inflating: ESC-50-master/audio/4-172734-A-36.wav  \n",
      "  inflating: ESC-50-master/audio/4-172736-A-36.wav  \n",
      "  inflating: ESC-50-master/audio/4-172736-B-36.wav  \n",
      "  inflating: ESC-50-master/audio/4-172742-A-32.wav  \n",
      "  inflating: ESC-50-master/audio/4-173865-A-9.wav  \n",
      "  inflating: ESC-50-master/audio/4-173865-B-9.wav  \n",
      "  inflating: ESC-50-master/audio/4-174797-A-15.wav  \n",
      "  inflating: ESC-50-master/audio/4-174860-A-3.wav  \n",
      "  inflating: ESC-50-master/audio/4-174860-B-3.wav  \n",
      "  inflating: ESC-50-master/audio/4-175000-A-40.wav  \n",
      "  inflating: ESC-50-master/audio/4-175000-B-40.wav  \n",
      "  inflating: ESC-50-master/audio/4-175000-C-40.wav  \n",
      "  inflating: ESC-50-master/audio/4-175025-A-34.wav  \n",
      "  inflating: ESC-50-master/audio/4-175845-A-43.wav  \n",
      "  inflating: ESC-50-master/audio/4-175846-A-43.wav  \n",
      "  inflating: ESC-50-master/audio/4-175855-A-43.wav  \n",
      "  inflating: ESC-50-master/audio/4-175856-A-43.wav  \n",
      "  inflating: ESC-50-master/audio/4-175945-A-38.wav  \n",
      "  inflating: ESC-50-master/audio/4-176631-A-43.wav  \n",
      "  inflating: ESC-50-master/audio/4-176638-A-43.wav  \n",
      "  inflating: ESC-50-master/audio/4-176914-A-23.wav  \n",
      "  inflating: ESC-50-master/audio/4-177243-A-32.wav  \n",
      "  inflating: ESC-50-master/audio/4-177250-A-10.wav  \n",
      "  inflating: ESC-50-master/audio/4-177835-A-24.wav  \n",
      "  inflating: ESC-50-master/audio/4-178402-A-43.wav  \n",
      "  inflating: ESC-50-master/audio/4-178881-A-45.wav  \n",
      "  inflating: ESC-50-master/audio/4-179836-A-34.wav  \n",
      "  inflating: ESC-50-master/audio/4-179984-A-38.wav  \n",
      "  inflating: ESC-50-master/audio/4-180337-A-28.wav  \n",
      "  inflating: ESC-50-master/audio/4-180380-A-10.wav  \n",
      "  inflating: ESC-50-master/audio/4-180453-A-17.wav  \n",
      "  inflating: ESC-50-master/audio/4-181035-A-38.wav  \n",
      "  inflating: ESC-50-master/audio/4-181286-A-10.wav  \n",
      "  inflating: ESC-50-master/audio/4-181362-A-13.wav  \n",
      "  inflating: ESC-50-master/audio/4-181563-A-12.wav  \n",
      "  inflating: ESC-50-master/audio/4-181599-A-26.wav  \n",
      "  inflating: ESC-50-master/audio/4-181628-A-17.wav  \n",
      "  inflating: ESC-50-master/audio/4-181707-A-32.wav  \n",
      "  inflating: ESC-50-master/audio/4-181708-A-32.wav  \n",
      "  inflating: ESC-50-master/audio/4-181865-A-38.wav  \n",
      "  inflating: ESC-50-master/audio/4-181955-A-3.wav  \n",
      "  inflating: ESC-50-master/audio/4-181955-B-3.wav  \n",
      "  inflating: ESC-50-master/audio/4-181955-C-3.wav  \n",
      "  inflating: ESC-50-master/audio/4-181999-A-36.wav  \n",
      "  inflating: ESC-50-master/audio/4-182034-A-30.wav  \n",
      "  inflating: ESC-50-master/audio/4-182039-A-30.wav  \n",
      "  inflating: ESC-50-master/audio/4-182041-A-30.wav  \n",
      "  inflating: ESC-50-master/audio/4-182314-A-7.wav  \n",
      "  inflating: ESC-50-master/audio/4-182314-B-7.wav  \n",
      "  inflating: ESC-50-master/audio/4-182368-A-12.wav  \n",
      "  inflating: ESC-50-master/audio/4-182369-A-12.wav  \n",
      "  inflating: ESC-50-master/audio/4-182395-A-0.wav  \n",
      "  inflating: ESC-50-master/audio/4-182613-A-11.wav  \n",
      "  inflating: ESC-50-master/audio/4-182613-B-11.wav  \n",
      "  inflating: ESC-50-master/audio/4-182795-A-14.wav  \n",
      "  inflating: ESC-50-master/audio/4-182839-A-17.wav  \n",
      "  inflating: ESC-50-master/audio/4-183487-A-1.wav  \n",
      "  inflating: ESC-50-master/audio/4-183882-A-28.wav  \n",
      "  inflating: ESC-50-master/audio/4-183882-B-28.wav  \n",
      "  inflating: ESC-50-master/audio/4-183992-A-0.wav  \n",
      "  inflating: ESC-50-master/audio/4-184235-A-28.wav  \n",
      "  inflating: ESC-50-master/audio/4-184237-A-28.wav  \n",
      "  inflating: ESC-50-master/audio/4-184434-A-21.wav  \n",
      "  inflating: ESC-50-master/audio/4-184575-A-0.wav  \n",
      "  inflating: ESC-50-master/audio/4-185415-A-21.wav  \n",
      "  inflating: ESC-50-master/audio/4-185575-A-20.wav  \n",
      "  inflating: ESC-50-master/audio/4-185575-B-20.wav  \n",
      "  inflating: ESC-50-master/audio/4-185575-C-20.wav  \n",
      "  inflating: ESC-50-master/audio/4-185613-A-32.wav  \n",
      "  inflating: ESC-50-master/audio/4-185619-A-21.wav  \n",
      "  inflating: ESC-50-master/audio/4-186518-A-30.wav  \n",
      "  inflating: ESC-50-master/audio/4-186693-A-17.wav  \n",
      "  inflating: ESC-50-master/audio/4-186935-A-44.wav  \n",
      "  inflating: ESC-50-master/audio/4-186936-A-44.wav  \n",
      "  inflating: ESC-50-master/audio/4-186938-A-44.wav  \n",
      "  inflating: ESC-50-master/audio/4-186940-A-44.wav  \n",
      "  inflating: ESC-50-master/audio/4-186962-A-44.wav  \n",
      "  inflating: ESC-50-master/audio/4-187284-A-30.wav  \n",
      "  inflating: ESC-50-master/audio/4-187384-A-34.wav  \n",
      "  inflating: ESC-50-master/audio/4-187504-A-17.wav  \n",
      "  inflating: ESC-50-master/audio/4-187504-B-17.wav  \n",
      "  inflating: ESC-50-master/audio/4-187769-A-14.wav  \n",
      "  inflating: ESC-50-master/audio/4-187769-B-14.wav  \n",
      "  inflating: ESC-50-master/audio/4-188003-A-34.wav  \n",
      "  inflating: ESC-50-master/audio/4-188033-A-38.wav  \n",
      "  inflating: ESC-50-master/audio/4-188191-A-29.wav  \n",
      "  inflating: ESC-50-master/audio/4-188191-B-29.wav  \n",
      "  inflating: ESC-50-master/audio/4-188191-C-29.wav  \n",
      "  inflating: ESC-50-master/audio/4-188287-A-9.wav  \n",
      "  inflating: ESC-50-master/audio/4-188293-A-15.wav  \n",
      "  inflating: ESC-50-master/audio/4-188293-B-15.wav  \n",
      "  inflating: ESC-50-master/audio/4-188595-A-29.wav  \n",
      "  inflating: ESC-50-master/audio/4-188703-A-8.wav  \n",
      "  inflating: ESC-50-master/audio/4-188703-B-8.wav  \n",
      "  inflating: ESC-50-master/audio/4-188703-C-8.wav  \n",
      "  inflating: ESC-50-master/audio/4-188703-D-8.wav  \n",
      "  inflating: ESC-50-master/audio/4-188878-A-30.wav  \n",
      "  inflating: ESC-50-master/audio/4-189332-A-37.wav  \n",
      "  inflating: ESC-50-master/audio/4-189828-A-22.wav  \n",
      "  inflating: ESC-50-master/audio/4-189830-A-22.wav  \n",
      "  inflating: ESC-50-master/audio/4-189832-A-22.wav  \n",
      "  inflating: ESC-50-master/audio/4-189832-B-22.wav  \n",
      "  inflating: ESC-50-master/audio/4-189833-A-22.wav  \n",
      "  inflating: ESC-50-master/audio/4-189836-A-22.wav  \n",
      "  inflating: ESC-50-master/audio/4-189838-A-22.wav  \n",
      "  inflating: ESC-50-master/audio/4-191015-A-43.wav  \n",
      "  inflating: ESC-50-master/audio/4-191246-A-7.wav  \n",
      "  inflating: ESC-50-master/audio/4-191246-B-7.wav  \n",
      "  inflating: ESC-50-master/audio/4-191297-A-28.wav  \n",
      "  inflating: ESC-50-master/audio/4-191327-A-38.wav  \n",
      "  inflating: ESC-50-master/audio/4-191687-A-0.wav  \n",
      "  inflating: ESC-50-master/audio/4-192068-A-31.wav  \n",
      "  inflating: ESC-50-master/audio/4-192236-A-0.wav  \n",
      "  inflating: ESC-50-master/audio/4-193480-A-40.wav  \n",
      "  inflating: ESC-50-master/audio/4-193480-B-40.wav  \n",
      "  inflating: ESC-50-master/audio/4-194246-A-13.wav  \n",
      "  inflating: ESC-50-master/audio/4-194680-A-36.wav  \n",
      "  inflating: ESC-50-master/audio/4-194711-A-38.wav  \n",
      "  inflating: ESC-50-master/audio/4-194754-A-0.wav  \n",
      "  inflating: ESC-50-master/audio/4-194808-A-29.wav  \n",
      "  inflating: ESC-50-master/audio/4-194979-A-25.wav  \n",
      "  inflating: ESC-50-master/audio/4-194981-A-25.wav  \n",
      "  inflating: ESC-50-master/audio/4-195305-A-31.wav  \n",
      "  inflating: ESC-50-master/audio/4-195451-A-44.wav  \n",
      "  inflating: ESC-50-master/audio/4-195497-A-11.wav  \n",
      "  inflating: ESC-50-master/audio/4-195497-B-11.wav  \n",
      "  inflating: ESC-50-master/audio/4-195707-A-13.wav  \n",
      "  inflating: ESC-50-master/audio/4-195805-A-13.wav  \n",
      "  inflating: ESC-50-master/audio/4-196671-A-8.wav  \n",
      "  inflating: ESC-50-master/audio/4-196671-B-8.wav  \n",
      "  inflating: ESC-50-master/audio/4-196672-A-8.wav  \n",
      "  inflating: ESC-50-master/audio/4-197103-A-6.wav  \n",
      "  inflating: ESC-50-master/audio/4-197454-A-28.wav  \n",
      "  inflating: ESC-50-master/audio/4-197454-B-28.wav  \n",
      "  inflating: ESC-50-master/audio/4-197871-A-15.wav  \n",
      "  inflating: ESC-50-master/audio/4-198025-A-23.wav  \n",
      "  inflating: ESC-50-master/audio/4-198360-A-49.wav  \n",
      "  inflating: ESC-50-master/audio/4-198360-B-49.wav  \n",
      "  inflating: ESC-50-master/audio/4-198360-C-49.wav  \n",
      "  inflating: ESC-50-master/audio/4-198841-A-37.wav  \n",
      "  inflating: ESC-50-master/audio/4-198962-A-25.wav  \n",
      "  inflating: ESC-50-master/audio/4-198962-B-25.wav  \n",
      "  inflating: ESC-50-master/audio/4-198965-A-38.wav  \n",
      "  inflating: ESC-50-master/audio/4-199261-A-0.wav  \n",
      "  inflating: ESC-50-master/audio/4-200330-A-6.wav  \n",
      "  inflating: ESC-50-master/audio/4-200330-B-6.wav  \n",
      "  inflating: ESC-50-master/audio/4-201300-A-31.wav  \n",
      "  inflating: ESC-50-master/audio/4-201800-A-31.wav  \n",
      "  inflating: ESC-50-master/audio/4-201988-A-44.wav  \n",
      "  inflating: ESC-50-master/audio/4-202298-A-31.wav  \n",
      "  inflating: ESC-50-master/audio/4-202749-A-13.wav  \n",
      "  inflating: ESC-50-master/audio/4-204115-A-39.wav  \n",
      "  inflating: ESC-50-master/audio/4-204119-A-39.wav  \n",
      "  inflating: ESC-50-master/audio/4-204121-A-39.wav  \n",
      "  inflating: ESC-50-master/audio/4-204123-A-39.wav  \n",
      "  inflating: ESC-50-master/audio/4-204202-A-29.wav  \n",
      "  inflating: ESC-50-master/audio/4-204612-A-31.wav  \n",
      "  inflating: ESC-50-master/audio/4-204618-A-11.wav  \n",
      "  inflating: ESC-50-master/audio/4-204683-A-31.wav  \n",
      "  inflating: ESC-50-master/audio/4-204684-A-37.wav  \n",
      "  inflating: ESC-50-master/audio/4-204777-A-39.wav  \n",
      "  inflating: ESC-50-master/audio/4-204777-B-39.wav  \n",
      "  inflating: ESC-50-master/audio/4-204777-C-39.wav  \n",
      "  inflating: ESC-50-master/audio/4-204830-A-6.wav  \n",
      "  inflating: ESC-50-master/audio/4-205526-A-23.wav  \n",
      "  inflating: ESC-50-master/audio/4-205526-B-23.wav  \n",
      "  inflating: ESC-50-master/audio/4-205738-A-22.wav  \n",
      "  inflating: ESC-50-master/audio/4-207116-A-23.wav  \n",
      "  inflating: ESC-50-master/audio/4-207124-A-0.wav  \n",
      "  inflating: ESC-50-master/audio/4-208021-A-1.wav  \n",
      "  inflating: ESC-50-master/audio/4-209536-A-37.wav  \n",
      "  inflating: ESC-50-master/audio/4-209698-A-37.wav  \n",
      "  inflating: ESC-50-master/audio/4-210000-A-23.wav  \n",
      "  inflating: ESC-50-master/audio/4-210000-B-23.wav  \n",
      "  inflating: ESC-50-master/audio/4-210309-A-31.wav  \n",
      "  inflating: ESC-50-master/audio/4-210593-A-29.wav  \n",
      "  inflating: ESC-50-master/audio/4-211502-A-30.wav  \n",
      "  inflating: ESC-50-master/audio/4-212604-A-15.wav  \n",
      "  inflating: ESC-50-master/audio/4-212604-B-15.wav  \n",
      "  inflating: ESC-50-master/audio/4-212604-C-15.wav  \n",
      "  inflating: ESC-50-master/audio/4-212698-A-39.wav  \n",
      "  inflating: ESC-50-master/audio/4-212728-A-34.wav  \n",
      "  inflating: ESC-50-master/audio/4-213193-A-29.wav  \n",
      "  inflating: ESC-50-master/audio/4-213915-A-3.wav  \n",
      "  inflating: ESC-50-master/audio/4-213915-B-3.wav  \n",
      "  inflating: ESC-50-master/audio/4-213915-C-3.wav  \n",
      "  inflating: ESC-50-master/audio/4-215635-A-34.wav  \n",
      "  inflating: ESC-50-master/audio/4-216211-A-14.wav  \n",
      "  inflating: ESC-50-master/audio/4-216349-A-34.wav  \n",
      "  inflating: ESC-50-master/audio/4-218199-A-35.wav  \n",
      "  inflating: ESC-50-master/audio/4-218199-B-35.wav  \n",
      "  inflating: ESC-50-master/audio/4-218199-C-35.wav  \n",
      "  inflating: ESC-50-master/audio/4-218199-D-35.wav  \n",
      "  inflating: ESC-50-master/audio/4-218199-E-35.wav  \n",
      "  inflating: ESC-50-master/audio/4-218199-F-35.wav  \n",
      "  inflating: ESC-50-master/audio/4-218199-G-35.wav  \n",
      "  inflating: ESC-50-master/audio/4-218199-H-35.wav  \n",
      "  inflating: ESC-50-master/audio/4-218304-A-25.wav  \n",
      "  inflating: ESC-50-master/audio/4-218304-B-25.wav  \n",
      "  inflating: ESC-50-master/audio/4-223125-A-14.wav  \n",
      "  inflating: ESC-50-master/audio/4-223127-A-14.wav  \n",
      "  inflating: ESC-50-master/audio/4-232495-A-6.wav  \n",
      "  inflating: ESC-50-master/audio/4-234644-A-2.wav  \n",
      "  inflating: ESC-50-master/audio/4-234879-A-6.wav  \n",
      "  inflating: ESC-50-master/audio/4-244318-A-6.wav  \n",
      "  inflating: ESC-50-master/audio/4-250864-A-8.wav  \n",
      "  inflating: ESC-50-master/audio/4-250869-A-2.wav  \n",
      "  inflating: ESC-50-master/audio/4-250869-B-2.wav  \n",
      "  inflating: ESC-50-master/audio/4-250869-C-2.wav  \n",
      "  inflating: ESC-50-master/audio/4-251645-A-49.wav  \n",
      "  inflating: ESC-50-master/audio/4-251645-B-49.wav  \n",
      "  inflating: ESC-50-master/audio/4-251959-A-47.wav  \n",
      "  inflating: ESC-50-master/audio/4-253649-A-6.wav  \n",
      "  inflating: ESC-50-master/audio/4-255371-A-47.wav  \n",
      "  inflating: ESC-50-master/audio/4-261068-A-30.wav  \n",
      "  inflating: ESC-50-master/audio/4-264453-A-34.wav  \n",
      "  inflating: ESC-50-master/audio/4-59579-A-20.wav  \n",
      "  inflating: ESC-50-master/audio/4-59579-B-20.wav  \n",
      "  inflating: ESC-50-master/audio/4-67358-A-42.wav  \n",
      "  inflating: ESC-50-master/audio/4-80761-A-42.wav  \n",
      "  inflating: ESC-50-master/audio/4-90014-A-42.wav  \n",
      "  inflating: ESC-50-master/audio/4-90014-B-42.wav  \n",
      "  inflating: ESC-50-master/audio/4-99193-A-4.wav  \n",
      "  inflating: ESC-50-master/audio/4-99193-B-4.wav  \n",
      "  inflating: ESC-50-master/audio/4-99644-A-4.wav  \n",
      "  inflating: ESC-50-master/audio/4-99644-B-4.wav  \n",
      "  inflating: ESC-50-master/audio/4-99644-C-4.wav  \n",
      "  inflating: ESC-50-master/audio/4-99644-D-4.wav  \n",
      "  inflating: ESC-50-master/audio/5-103415-A-2.wav  \n",
      "  inflating: ESC-50-master/audio/5-103416-A-2.wav  \n",
      "  inflating: ESC-50-master/audio/5-103418-A-2.wav  \n",
      "  inflating: ESC-50-master/audio/5-103420-A-2.wav  \n",
      "  inflating: ESC-50-master/audio/5-103421-A-2.wav  \n",
      "  inflating: ESC-50-master/audio/5-103422-A-2.wav  \n",
      "  inflating: ESC-50-master/audio/5-117118-A-42.wav  \n",
      "  inflating: ESC-50-master/audio/5-117120-A-42.wav  \n",
      "  inflating: ESC-50-master/audio/5-117122-A-42.wav  \n",
      "  inflating: ESC-50-master/audio/5-117250-A-2.wav  \n",
      "  inflating: ESC-50-master/audio/5-117773-A-16.wav  \n",
      "  inflating: ESC-50-master/audio/5-127990-A-2.wav  \n",
      "  inflating: ESC-50-master/audio/5-133989-A-42.wav  \n",
      "  inflating: ESC-50-master/audio/5-133989-B-42.wav  \n",
      "  inflating: ESC-50-master/audio/5-141683-A-35.wav  \n",
      "  inflating: ESC-50-master/audio/5-147297-A-27.wav  \n",
      "  inflating: ESC-50-master/audio/5-150409-A-42.wav  \n",
      "  inflating: ESC-50-master/audio/5-151085-A-20.wav  \n",
      "  inflating: ESC-50-master/audio/5-156026-A-4.wav  \n",
      "  inflating: ESC-50-master/audio/5-156026-B-4.wav  \n",
      "  inflating: ESC-50-master/audio/5-156026-C-4.wav  \n",
      "  inflating: ESC-50-master/audio/5-156026-D-4.wav  \n",
      "  inflating: ESC-50-master/audio/5-156698-A-18.wav  \n",
      "  inflating: ESC-50-master/audio/5-156999-A-19.wav  \n",
      "  inflating: ESC-50-master/audio/5-156999-B-19.wav  \n",
      "  inflating: ESC-50-master/audio/5-156999-C-19.wav  \n",
      "  inflating: ESC-50-master/audio/5-156999-D-19.wav  \n",
      "  inflating: ESC-50-master/audio/5-156999-E-19.wav  \n",
      "  inflating: ESC-50-master/audio/5-157204-A-16.wav  \n",
      "  inflating: ESC-50-master/audio/5-157204-B-16.wav  \n",
      "  inflating: ESC-50-master/audio/5-160551-A-42.wav  \n",
      "  inflating: ESC-50-master/audio/5-160614-A-48.wav  \n",
      "  inflating: ESC-50-master/audio/5-160614-B-48.wav  \n",
      "  inflating: ESC-50-master/audio/5-160614-C-48.wav  \n",
      "  inflating: ESC-50-master/audio/5-160614-D-48.wav  \n",
      "  inflating: ESC-50-master/audio/5-160614-E-48.wav  \n",
      "  inflating: ESC-50-master/audio/5-160614-F-48.wav  \n",
      "  inflating: ESC-50-master/audio/5-160614-G-48.wav  \n",
      "  inflating: ESC-50-master/audio/5-160614-H-48.wav  \n",
      "  inflating: ESC-50-master/audio/5-161270-A-33.wav  \n",
      "  inflating: ESC-50-master/audio/5-161270-B-33.wav  \n",
      "  inflating: ESC-50-master/audio/5-169983-A-5.wav  \n",
      "  inflating: ESC-50-master/audio/5-170338-A-41.wav  \n",
      "  inflating: ESC-50-master/audio/5-170338-B-41.wav  \n",
      "  inflating: ESC-50-master/audio/5-171118-A-26.wav  \n",
      "  inflating: ESC-50-master/audio/5-171653-A-41.wav  \n",
      "  inflating: ESC-50-master/audio/5-172299-A-5.wav  \n",
      "  inflating: ESC-50-master/audio/5-172639-A-5.wav  \n",
      "  inflating: ESC-50-master/audio/5-173568-A-33.wav  \n",
      "  inflating: ESC-50-master/audio/5-177034-A-18.wav  \n",
      "  inflating: ESC-50-master/audio/5-177614-A-5.wav  \n",
      "  inflating: ESC-50-master/audio/5-177779-A-33.wav  \n",
      "  inflating: ESC-50-master/audio/5-177957-A-40.wav  \n",
      "  inflating: ESC-50-master/audio/5-177957-B-40.wav  \n",
      "  inflating: ESC-50-master/audio/5-177957-C-40.wav  \n",
      "  inflating: ESC-50-master/audio/5-177957-D-40.wav  \n",
      "  inflating: ESC-50-master/audio/5-177957-E-40.wav  \n",
      "  inflating: ESC-50-master/audio/5-178997-A-24.wav  \n",
      "  inflating: ESC-50-master/audio/5-179294-A-46.wav  \n",
      "  inflating: ESC-50-master/audio/5-179496-A-16.wav  \n",
      "  inflating: ESC-50-master/audio/5-179496-B-16.wav  \n",
      "  inflating: ESC-50-master/audio/5-179860-A-43.wav  \n",
      "  inflating: ESC-50-master/audio/5-179863-A-43.wav  \n",
      "  inflating: ESC-50-master/audio/5-179865-A-43.wav  \n",
      "  inflating: ESC-50-master/audio/5-179866-A-43.wav  \n",
      "  inflating: ESC-50-master/audio/5-179868-A-43.wav  \n",
      "  inflating: ESC-50-master/audio/5-180156-A-43.wav  \n",
      "  inflating: ESC-50-master/audio/5-180156-B-43.wav  \n",
      "  inflating: ESC-50-master/audio/5-180156-C-43.wav  \n",
      "  inflating: ESC-50-master/audio/5-180229-A-27.wav  \n",
      "  inflating: ESC-50-master/audio/5-181458-A-33.wav  \n",
      "  inflating: ESC-50-master/audio/5-181766-A-10.wav  \n",
      "  inflating: ESC-50-master/audio/5-181977-A-35.wav  \n",
      "  inflating: ESC-50-master/audio/5-182007-A-36.wav  \n",
      "  inflating: ESC-50-master/audio/5-182010-A-36.wav  \n",
      "  inflating: ESC-50-master/audio/5-182012-A-36.wav  \n",
      "  inflating: ESC-50-master/audio/5-182404-A-18.wav  \n",
      "  inflating: ESC-50-master/audio/5-184323-A-42.wav  \n",
      "  inflating: ESC-50-master/audio/5-184871-A-24.wav  \n",
      "  inflating: ESC-50-master/audio/5-185516-A-27.wav  \n",
      "  inflating: ESC-50-master/audio/5-185579-A-41.wav  \n",
      "  inflating: ESC-50-master/audio/5-185579-B-41.wav  \n",
      "  inflating: ESC-50-master/audio/5-185908-A-18.wav  \n",
      "  inflating: ESC-50-master/audio/5-186924-A-12.wav  \n",
      "  inflating: ESC-50-master/audio/5-187201-A-4.wav  \n",
      "  inflating: ESC-50-master/audio/5-187201-B-4.wav  \n",
      "  inflating: ESC-50-master/audio/5-187444-A-33.wav  \n",
      "  inflating: ESC-50-master/audio/5-187979-A-21.wav  \n",
      "  inflating: ESC-50-master/audio/5-188365-A-36.wav  \n",
      "  inflating: ESC-50-master/audio/5-188495-A-19.wav  \n",
      "  inflating: ESC-50-master/audio/5-188606-A-33.wav  \n",
      "  inflating: ESC-50-master/audio/5-188655-A-10.wav  \n",
      "  inflating: ESC-50-master/audio/5-188716-A-46.wav  \n",
      "  inflating: ESC-50-master/audio/5-188796-A-45.wav  \n",
      "  inflating: ESC-50-master/audio/5-188945-A-45.wav  \n",
      "  inflating: ESC-50-master/audio/5-189212-A-12.wav  \n",
      "  inflating: ESC-50-master/audio/5-189237-A-12.wav  \n",
      "  inflating: ESC-50-master/audio/5-189795-A-4.wav  \n",
      "  inflating: ESC-50-master/audio/5-191131-A-40.wav  \n",
      "  inflating: ESC-50-master/audio/5-191497-A-33.wav  \n",
      "  inflating: ESC-50-master/audio/5-192191-A-19.wav  \n",
      "  inflating: ESC-50-master/audio/5-193339-A-10.wav  \n",
      "  inflating: ESC-50-master/audio/5-193473-A-12.wav  \n",
      "  inflating: ESC-50-master/audio/5-193473-B-12.wav  \n",
      "  inflating: ESC-50-master/audio/5-194533-A-21.wav  \n",
      "  inflating: ESC-50-master/audio/5-194892-A-10.wav  \n",
      "  inflating: ESC-50-master/audio/5-194899-A-3.wav  \n",
      "  inflating: ESC-50-master/audio/5-194899-B-3.wav  \n",
      "  inflating: ESC-50-master/audio/5-194899-C-3.wav  \n",
      "  inflating: ESC-50-master/audio/5-194899-D-3.wav  \n",
      "  inflating: ESC-50-master/audio/5-194930-A-1.wav  \n",
      "  inflating: ESC-50-master/audio/5-194930-B-1.wav  \n",
      "  inflating: ESC-50-master/audio/5-194932-A-7.wav  \n",
      "  inflating: ESC-50-master/audio/5-195517-A-7.wav  \n",
      "  inflating: ESC-50-master/audio/5-195518-A-7.wav  \n",
      "  inflating: ESC-50-master/audio/5-195557-A-19.wav  \n",
      "  inflating: ESC-50-master/audio/5-195710-A-10.wav  \n",
      "  inflating: ESC-50-master/audio/5-197118-A-45.wav  \n",
      "  inflating: ESC-50-master/audio/5-197121-A-45.wav  \n",
      "  inflating: ESC-50-master/audio/5-197121-B-45.wav  \n",
      "  inflating: ESC-50-master/audio/5-197446-A-7.wav  \n",
      "  inflating: ESC-50-master/audio/5-197913-A-18.wav  \n",
      "  inflating: ESC-50-master/audio/5-197988-A-46.wav  \n",
      "  inflating: ESC-50-master/audio/5-198278-A-7.wav  \n",
      "  inflating: ESC-50-master/audio/5-198278-B-7.wav  \n",
      "  inflating: ESC-50-master/audio/5-198278-C-7.wav  \n",
      "  inflating: ESC-50-master/audio/5-198321-A-10.wav  \n",
      "  inflating: ESC-50-master/audio/5-198373-A-46.wav  \n",
      "  inflating: ESC-50-master/audio/5-198411-A-20.wav  \n",
      "  inflating: ESC-50-master/audio/5-198411-B-20.wav  \n",
      "  inflating: ESC-50-master/audio/5-198411-C-20.wav  \n",
      "  inflating: ESC-50-master/audio/5-198411-D-20.wav  \n",
      "  inflating: ESC-50-master/audio/5-198411-E-20.wav  \n",
      "  inflating: ESC-50-master/audio/5-198411-F-20.wav  \n",
      "  inflating: ESC-50-master/audio/5-198411-G-20.wav  \n",
      "  inflating: ESC-50-master/audio/5-198600-A-45.wav  \n",
      "  inflating: ESC-50-master/audio/5-198891-A-8.wav  \n",
      "  inflating: ESC-50-master/audio/5-198891-B-8.wav  \n",
      "  inflating: ESC-50-master/audio/5-198891-C-8.wav  \n",
      "  inflating: ESC-50-master/audio/5-198891-D-8.wav  \n",
      "  inflating: ESC-50-master/audio/5-199284-A-45.wav  \n",
      "  inflating: ESC-50-master/audio/5-199284-B-45.wav  \n",
      "  inflating: ESC-50-master/audio/5-200329-A-8.wav  \n",
      "  inflating: ESC-50-master/audio/5-200329-B-8.wav  \n",
      "  inflating: ESC-50-master/audio/5-200329-C-8.wav  \n",
      "  inflating: ESC-50-master/audio/5-200334-A-1.wav  \n",
      "  inflating: ESC-50-master/audio/5-200334-B-1.wav  \n",
      "  inflating: ESC-50-master/audio/5-200339-A-1.wav  \n",
      "  inflating: ESC-50-master/audio/5-200461-A-11.wav  \n",
      "  inflating: ESC-50-master/audio/5-200461-B-11.wav  \n",
      "  inflating: ESC-50-master/audio/5-201170-A-46.wav  \n",
      "  inflating: ESC-50-master/audio/5-201172-A-46.wav  \n",
      "  inflating: ESC-50-master/audio/5-201194-A-38.wav  \n",
      "  inflating: ESC-50-master/audio/5-201274-A-21.wav  \n",
      "  inflating: ESC-50-master/audio/5-201664-A-18.wav  \n",
      "  inflating: ESC-50-master/audio/5-202020-A-18.wav  \n",
      "  inflating: ESC-50-master/audio/5-202220-A-21.wav  \n",
      "  inflating: ESC-50-master/audio/5-202540-A-18.wav  \n",
      "  inflating: ESC-50-master/audio/5-202795-A-3.wav  \n",
      "  inflating: ESC-50-master/audio/5-202898-A-10.wav  \n",
      "  inflating: ESC-50-master/audio/5-203128-A-0.wav  \n",
      "  inflating: ESC-50-master/audio/5-203128-B-0.wav  \n",
      "  inflating: ESC-50-master/audio/5-203739-A-10.wav  \n",
      "  inflating: ESC-50-master/audio/5-204114-A-29.wav  \n",
      "  inflating: ESC-50-master/audio/5-204352-A-13.wav  \n",
      "  inflating: ESC-50-master/audio/5-204352-B-13.wav  \n",
      "  inflating: ESC-50-master/audio/5-204604-A-24.wav  \n",
      "  inflating: ESC-50-master/audio/5-204741-A-46.wav  \n",
      "  inflating: ESC-50-master/audio/5-205090-A-32.wav  \n",
      "  inflating: ESC-50-master/audio/5-205589-A-17.wav  \n",
      "  inflating: ESC-50-master/audio/5-205589-B-17.wav  \n",
      "  inflating: ESC-50-master/audio/5-205898-A-40.wav  \n",
      "  inflating: ESC-50-master/audio/5-207681-A-24.wav  \n",
      "  inflating: ESC-50-master/audio/5-207781-A-17.wav  \n",
      "  inflating: ESC-50-master/audio/5-207811-A-35.wav  \n",
      "  inflating: ESC-50-master/audio/5-207811-B-35.wav  \n",
      "  inflating: ESC-50-master/audio/5-207836-A-29.wav  \n",
      "  inflating: ESC-50-master/audio/5-207836-B-29.wav  \n",
      "  inflating: ESC-50-master/audio/5-207836-C-29.wav  \n",
      "  inflating: ESC-50-master/audio/5-207836-D-29.wav  \n",
      "  inflating: ESC-50-master/audio/5-208030-A-0.wav  \n",
      "  inflating: ESC-50-master/audio/5-208624-A-38.wav  \n",
      "  inflating: ESC-50-master/audio/5-208761-A-24.wav  \n",
      "  inflating: ESC-50-master/audio/5-208810-A-11.wav  \n",
      "  inflating: ESC-50-master/audio/5-208810-B-11.wav  \n",
      "  inflating: ESC-50-master/audio/5-209698-A-38.wav  \n",
      "  inflating: ESC-50-master/audio/5-209719-A-24.wav  \n",
      "  inflating: ESC-50-master/audio/5-209833-A-38.wav  \n",
      "  inflating: ESC-50-master/audio/5-209989-A-22.wav  \n",
      "  inflating: ESC-50-master/audio/5-209992-A-44.wav  \n",
      "  inflating: ESC-50-master/audio/5-209992-B-44.wav  \n",
      "  inflating: ESC-50-master/audio/5-210540-A-13.wav  \n",
      "  inflating: ESC-50-master/audio/5-210571-A-38.wav  \n",
      "  inflating: ESC-50-master/audio/5-210612-A-37.wav  \n",
      "  inflating: ESC-50-master/audio/5-211197-A-24.wav  \n",
      "  inflating: ESC-50-master/audio/5-211408-A-37.wav  \n",
      "  inflating: ESC-50-master/audio/5-212050-A-27.wav  \n",
      "  inflating: ESC-50-master/audio/5-212054-A-36.wav  \n",
      "  inflating: ESC-50-master/audio/5-212059-A-36.wav  \n",
      "  inflating: ESC-50-master/audio/5-212181-A-38.wav  \n",
      "  inflating: ESC-50-master/audio/5-212454-A-0.wav  \n",
      "  inflating: ESC-50-master/audio/5-212730-A-17.wav  \n",
      "  inflating: ESC-50-master/audio/5-212734-A-17.wav  \n",
      "  inflating: ESC-50-master/audio/5-212736-A-17.wav  \n",
      "  inflating: ESC-50-master/audio/5-213077-A-11.wav  \n",
      "  inflating: ESC-50-master/audio/5-213293-A-23.wav  \n",
      "  inflating: ESC-50-master/audio/5-213802-A-12.wav  \n",
      "  inflating: ESC-50-master/audio/5-213836-A-9.wav  \n",
      "  inflating: ESC-50-master/audio/5-213836-B-9.wav  \n",
      "  inflating: ESC-50-master/audio/5-213836-C-9.wav  \n",
      "  inflating: ESC-50-master/audio/5-213836-D-9.wav  \n",
      "  inflating: ESC-50-master/audio/5-213855-A-0.wav  \n",
      "  inflating: ESC-50-master/audio/5-214362-A-17.wav  \n",
      "  inflating: ESC-50-master/audio/5-214759-A-5.wav  \n",
      "  inflating: ESC-50-master/audio/5-214759-B-5.wav  \n",
      "  inflating: ESC-50-master/audio/5-214869-A-9.wav  \n",
      "  inflating: ESC-50-master/audio/5-215005-A-32.wav  \n",
      "  inflating: ESC-50-master/audio/5-215172-A-13.wav  \n",
      "  inflating: ESC-50-master/audio/5-215179-A-13.wav  \n",
      "  inflating: ESC-50-master/audio/5-215445-A-47.wav  \n",
      "  inflating: ESC-50-master/audio/5-215447-A-47.wav  \n",
      "  inflating: ESC-50-master/audio/5-215449-A-47.wav  \n",
      "  inflating: ESC-50-master/audio/5-215634-A-17.wav  \n",
      "  inflating: ESC-50-master/audio/5-215658-A-12.wav  \n",
      "  inflating: ESC-50-master/audio/5-215658-B-12.wav  \n",
      "  inflating: ESC-50-master/audio/5-216131-A-32.wav  \n",
      "  inflating: ESC-50-master/audio/5-216213-A-13.wav  \n",
      "  inflating: ESC-50-master/audio/5-216214-A-13.wav  \n",
      "  inflating: ESC-50-master/audio/5-216216-A-13.wav  \n",
      "  inflating: ESC-50-master/audio/5-216368-A-28.wav  \n",
      "  inflating: ESC-50-master/audio/5-216370-A-41.wav  \n",
      "  inflating: ESC-50-master/audio/5-216370-B-41.wav  \n",
      "  inflating: ESC-50-master/audio/5-217158-A-0.wav  \n",
      "  inflating: ESC-50-master/audio/5-217186-A-16.wav  \n",
      "  inflating: ESC-50-master/audio/5-217186-B-16.wav  \n",
      "  inflating: ESC-50-master/audio/5-217186-C-16.wav  \n",
      "  inflating: ESC-50-master/audio/5-218196-A-27.wav  \n",
      "  inflating: ESC-50-master/audio/5-218196-B-27.wav  \n",
      "  inflating: ESC-50-master/audio/5-218494-A-22.wav  \n",
      "  inflating: ESC-50-master/audio/5-218980-A-30.wav  \n",
      "  inflating: ESC-50-master/audio/5-218981-A-30.wav  \n",
      "  inflating: ESC-50-master/audio/5-219044-A-46.wav  \n",
      "  inflating: ESC-50-master/audio/5-219242-A-37.wav  \n",
      "  inflating: ESC-50-master/audio/5-219242-B-37.wav  \n",
      "  inflating: ESC-50-master/audio/5-219318-A-31.wav  \n",
      "  inflating: ESC-50-master/audio/5-219342-A-38.wav  \n",
      "  inflating: ESC-50-master/audio/5-219379-A-11.wav  \n",
      "  inflating: ESC-50-master/audio/5-219379-B-11.wav  \n",
      "  inflating: ESC-50-master/audio/5-219379-C-11.wav  \n",
      "  inflating: ESC-50-master/audio/5-220026-A-21.wav  \n",
      "  inflating: ESC-50-master/audio/5-220027-A-21.wav  \n",
      "  inflating: ESC-50-master/audio/5-220939-A-27.wav  \n",
      "  inflating: ESC-50-master/audio/5-220955-A-40.wav  \n",
      "  inflating: ESC-50-master/audio/5-221518-A-21.wav  \n",
      "  inflating: ESC-50-master/audio/5-221528-A-39.wav  \n",
      "  inflating: ESC-50-master/audio/5-221529-A-39.wav  \n",
      "  inflating: ESC-50-master/audio/5-221567-A-22.wav  \n",
      "  inflating: ESC-50-master/audio/5-221568-A-22.wav  \n",
      "  inflating: ESC-50-master/audio/5-221593-A-21.wav  \n",
      "  inflating: ESC-50-master/audio/5-221878-A-34.wav  \n",
      "  inflating: ESC-50-master/audio/5-221950-A-22.wav  \n",
      "  inflating: ESC-50-master/audio/5-222041-A-9.wav  \n",
      "  inflating: ESC-50-master/audio/5-222524-A-41.wav  \n",
      "  inflating: ESC-50-master/audio/5-222894-A-32.wav  \n",
      "  inflating: ESC-50-master/audio/5-223099-A-32.wav  \n",
      "  inflating: ESC-50-master/audio/5-223099-B-32.wav  \n",
      "  inflating: ESC-50-master/audio/5-223103-A-31.wav  \n",
      "  inflating: ESC-50-master/audio/5-223176-A-37.wav  \n",
      "  inflating: ESC-50-master/audio/5-223317-A-31.wav  \n",
      "  inflating: ESC-50-master/audio/5-223810-A-35.wav  \n",
      "  inflating: ESC-50-master/audio/5-231551-A-36.wav  \n",
      "  inflating: ESC-50-master/audio/5-231762-A-0.wav  \n",
      "  inflating: ESC-50-master/audio/5-232272-A-44.wav  \n",
      "  inflating: ESC-50-master/audio/5-232802-A-31.wav  \n",
      "  inflating: ESC-50-master/audio/5-232816-A-23.wav  \n",
      "  inflating: ESC-50-master/audio/5-233019-A-31.wav  \n",
      "  inflating: ESC-50-master/audio/5-233160-A-1.wav  \n",
      "  inflating: ESC-50-master/audio/5-233260-A-23.wav  \n",
      "  inflating: ESC-50-master/audio/5-233312-A-28.wav  \n",
      "  inflating: ESC-50-master/audio/5-233605-A-39.wav  \n",
      "  inflating: ESC-50-master/audio/5-233607-A-39.wav  \n",
      "  inflating: ESC-50-master/audio/5-233645-A-37.wav  \n",
      "  inflating: ESC-50-master/audio/5-233787-A-7.wav  \n",
      "  inflating: ESC-50-master/audio/5-234145-A-28.wav  \n",
      "  inflating: ESC-50-master/audio/5-234247-A-37.wav  \n",
      "  inflating: ESC-50-master/audio/5-234263-A-25.wav  \n",
      "  inflating: ESC-50-master/audio/5-234335-A-23.wav  \n",
      "  inflating: ESC-50-master/audio/5-234855-A-25.wav  \n",
      "  inflating: ESC-50-master/audio/5-234879-A-1.wav  \n",
      "  inflating: ESC-50-master/audio/5-234879-B-1.wav  \n",
      "  inflating: ESC-50-master/audio/5-234923-A-32.wav  \n",
      "  inflating: ESC-50-master/audio/5-235507-A-44.wav  \n",
      "  inflating: ESC-50-master/audio/5-235593-A-23.wav  \n",
      "  inflating: ESC-50-master/audio/5-235644-A-30.wav  \n",
      "  inflating: ESC-50-master/audio/5-235671-A-38.wav  \n",
      "  inflating: ESC-50-master/audio/5-235874-A-28.wav  \n",
      "  inflating: ESC-50-master/audio/5-235893-A-28.wav  \n",
      "  inflating: ESC-50-master/audio/5-235956-A-47.wav  \n",
      "  inflating: ESC-50-master/audio/5-236288-A-28.wav  \n",
      "  inflating: ESC-50-master/audio/5-236299-A-34.wav  \n",
      "  inflating: ESC-50-master/audio/5-237315-A-31.wav  \n",
      "  inflating: ESC-50-master/audio/5-237499-A-4.wav  \n",
      "  inflating: ESC-50-master/audio/5-237795-A-34.wav  \n",
      "  inflating: ESC-50-master/audio/5-238021-A-35.wav  \n",
      "  inflating: ESC-50-master/audio/5-238492-A-23.wav  \n",
      "  inflating: ESC-50-master/audio/5-238926-A-31.wav  \n",
      "  inflating: ESC-50-master/audio/5-238938-A-27.wav  \n",
      "  inflating: ESC-50-master/audio/5-240671-A-44.wav  \n",
      "  inflating: ESC-50-master/audio/5-241846-A-15.wav  \n",
      "  inflating: ESC-50-master/audio/5-242490-A-14.wav  \n",
      "  inflating: ESC-50-master/audio/5-242491-A-14.wav  \n",
      "  inflating: ESC-50-master/audio/5-242492-A-3.wav  \n",
      "  inflating: ESC-50-master/audio/5-242711-A-9.wav  \n",
      "  inflating: ESC-50-master/audio/5-242932-A-26.wav  \n",
      "  inflating: ESC-50-master/audio/5-242932-B-26.wav  \n",
      "  inflating: ESC-50-master/audio/5-243025-A-25.wav  \n",
      "  inflating: ESC-50-master/audio/5-243036-A-29.wav  \n",
      "  inflating: ESC-50-master/audio/5-243448-A-14.wav  \n",
      "  inflating: ESC-50-master/audio/5-243449-A-14.wav  \n",
      "  inflating: ESC-50-master/audio/5-243450-A-14.wav  \n",
      "  inflating: ESC-50-master/audio/5-243459-A-14.wav  \n",
      "  inflating: ESC-50-master/audio/5-243459-B-14.wav  \n",
      "  inflating: ESC-50-master/audio/5-243635-A-29.wav  \n",
      "  inflating: ESC-50-master/audio/5-243773-A-44.wav  \n",
      "  inflating: ESC-50-master/audio/5-243773-B-44.wav  \n",
      "  inflating: ESC-50-master/audio/5-243783-A-44.wav  \n",
      "  inflating: ESC-50-master/audio/5-244178-A-32.wav  \n",
      "  inflating: ESC-50-master/audio/5-244310-A-25.wav  \n",
      "  inflating: ESC-50-master/audio/5-244315-A-6.wav  \n",
      "  inflating: ESC-50-master/audio/5-244315-B-6.wav  \n",
      "  inflating: ESC-50-master/audio/5-244315-C-6.wav  \n",
      "  inflating: ESC-50-master/audio/5-244327-A-34.wav  \n",
      "  inflating: ESC-50-master/audio/5-244459-A-28.wav  \n",
      "  inflating: ESC-50-master/audio/5-244526-A-26.wav  \n",
      "  inflating: ESC-50-master/audio/5-244651-A-31.wav  \n",
      "  inflating: ESC-50-master/audio/5-244933-A-34.wav  \n",
      "  inflating: ESC-50-master/audio/5-245040-A-35.wav  \n",
      "  inflating: ESC-50-master/audio/5-248341-A-6.wav  \n",
      "  inflating: ESC-50-master/audio/5-248341-B-6.wav  \n",
      "  inflating: ESC-50-master/audio/5-248341-C-6.wav  \n",
      "  inflating: ESC-50-master/audio/5-249748-A-28.wav  \n",
      "  inflating: ESC-50-master/audio/5-249937-A-22.wav  \n",
      "  inflating: ESC-50-master/audio/5-250026-A-30.wav  \n",
      "  inflating: ESC-50-master/audio/5-250026-B-30.wav  \n",
      "  inflating: ESC-50-master/audio/5-250258-A-49.wav  \n",
      "  inflating: ESC-50-master/audio/5-250629-A-37.wav  \n",
      "  inflating: ESC-50-master/audio/5-250753-A-34.wav  \n",
      "  inflating: ESC-50-master/audio/5-251426-A-30.wav  \n",
      "  inflating: ESC-50-master/audio/5-251426-B-30.wav  \n",
      "  inflating: ESC-50-master/audio/5-251489-A-24.wav  \n",
      "  inflating: ESC-50-master/audio/5-251957-A-47.wav  \n",
      "  inflating: ESC-50-master/audio/5-251962-A-47.wav  \n",
      "  inflating: ESC-50-master/audio/5-251963-A-47.wav  \n",
      "  inflating: ESC-50-master/audio/5-251971-A-47.wav  \n",
      "  inflating: ESC-50-master/audio/5-252248-A-34.wav  \n",
      "  inflating: ESC-50-master/audio/5-253085-A-3.wav  \n",
      "  inflating: ESC-50-master/audio/5-253085-B-3.wav  \n",
      "  inflating: ESC-50-master/audio/5-253094-A-49.wav  \n",
      "  inflating: ESC-50-master/audio/5-253094-B-49.wav  \n",
      "  inflating: ESC-50-master/audio/5-253094-C-49.wav  \n",
      "  inflating: ESC-50-master/audio/5-253094-D-49.wav  \n",
      "  inflating: ESC-50-master/audio/5-253101-A-49.wav  \n",
      "  inflating: ESC-50-master/audio/5-253101-B-49.wav  \n",
      "  inflating: ESC-50-master/audio/5-253101-C-49.wav  \n",
      "  inflating: ESC-50-master/audio/5-253534-A-26.wav  \n",
      "  inflating: ESC-50-master/audio/5-254160-A-22.wav  \n",
      "  inflating: ESC-50-master/audio/5-254832-A-15.wav  \n",
      "  inflating: ESC-50-master/audio/5-254832-B-15.wav  \n",
      "  inflating: ESC-50-master/audio/5-256452-A-5.wav  \n",
      "  inflating: ESC-50-master/audio/5-256512-A-30.wav  \n",
      "  inflating: ESC-50-master/audio/5-257349-A-15.wav  \n",
      "  inflating: ESC-50-master/audio/5-257642-A-39.wav  \n",
      "  inflating: ESC-50-master/audio/5-257839-A-14.wav  \n",
      "  inflating: ESC-50-master/audio/5-259169-A-5.wav  \n",
      "  inflating: ESC-50-master/audio/5-259180-A-15.wav  \n",
      "  inflating: ESC-50-master/audio/5-259514-A-26.wav  \n",
      "  inflating: ESC-50-master/audio/5-259640-A-29.wav  \n",
      "  inflating: ESC-50-master/audio/5-260011-A-34.wav  \n",
      "  inflating: ESC-50-master/audio/5-260164-A-23.wav  \n",
      "  inflating: ESC-50-master/audio/5-260432-A-39.wav  \n",
      "  inflating: ESC-50-master/audio/5-260433-A-39.wav  \n",
      "  inflating: ESC-50-master/audio/5-260434-A-39.wav  \n",
      "  inflating: ESC-50-master/audio/5-260875-A-35.wav  \n",
      "  inflating: ESC-50-master/audio/5-261325-A-9.wav  \n",
      "  inflating: ESC-50-master/audio/5-261433-A-15.wav  \n",
      "  inflating: ESC-50-master/audio/5-261439-A-15.wav  \n",
      "  inflating: ESC-50-master/audio/5-261464-A-23.wav  \n",
      "  inflating: ESC-50-master/audio/5-262641-A-15.wav  \n",
      "  inflating: ESC-50-master/audio/5-262957-A-22.wav  \n",
      "  inflating: ESC-50-master/audio/5-263490-A-25.wav  \n",
      "  inflating: ESC-50-master/audio/5-263491-A-25.wav  \n",
      "  inflating: ESC-50-master/audio/5-263501-A-25.wav  \n",
      "  inflating: ESC-50-master/audio/5-263775-A-26.wav  \n",
      "  inflating: ESC-50-master/audio/5-263775-B-26.wav  \n",
      "  inflating: ESC-50-master/audio/5-263831-A-6.wav  \n",
      "  inflating: ESC-50-master/audio/5-263831-B-6.wav  \n",
      "  inflating: ESC-50-master/audio/5-263902-A-36.wav  \n",
      "  inflating: ESC-50-master/audio/5-51149-A-25.wav  \n",
      "  inflating: ESC-50-master/audio/5-61635-A-8.wav  \n",
      "  inflating: ESC-50-master/audio/5-9032-A-0.wav  \n",
      "  inflating: ESC-50-master/esc50.gif  \n",
      "   creating: ESC-50-master/meta/\n",
      "  inflating: ESC-50-master/meta/esc50-human.xlsx  \n",
      "  inflating: ESC-50-master/meta/esc50.csv  \n",
      " extracting: ESC-50-master/pytest.ini  \n",
      "  inflating: ESC-50-master/requirements.txt  \n",
      "   creating: ESC-50-master/tests/\n",
      "  inflating: ESC-50-master/tests/test_dataset.py  \n"
     ]
    }
   ],
   "source": [
    "!unzip master.zip"
   ]
  },
  {
   "cell_type": "code",
   "execution_count": 4,
   "metadata": {
    "id": "GjKTOULKtK4z"
   },
   "outputs": [],
   "source": [
    "class ESC50Dataset(Dataset):\n",
    "    def __init__(self, data_dir, metadata_file, split=\"train\", transform=None):\n",
    "        super().__init__()\n",
    "        self.data_dir = Path(data_dir)\n",
    "        self.metadata = pd.read_csv(metadata_file)\n",
    "        self.split = split\n",
    "        self.transform = transform\n",
    "        if split == \"train\":\n",
    "            self.metadata = self.metadata[self.metadata[\"fold\"] != 5]\n",
    "        else:\n",
    "            self.metadata = self.metadata[self.metadata[\"fold\"] == 5]\n",
    "        self.classes = sorted(self.metadata[\"category\"].unique())\n",
    "        self.class_to_idx = {cls: idx for idx, cls in enumerate(self.classes)}\n",
    "        self.metadata[\"label\"] = self.metadata[\"category\"].map(\n",
    "            self.class_to_idx\n",
    "        )\n",
    "\n",
    "    def __len__(self):\n",
    "        return len(self.metadata)\n",
    "\n",
    "    def __getitem__(self, idx):\n",
    "        row = self.metadata.iloc[idx]\n",
    "        audio_path = self.data_dir / \"audio\" / row[\"filename\"]\n",
    "        waveform, sample_rate = torchaudio.load(audio_path)\n",
    "        if waveform.shape[0] > 1:\n",
    "            waveform = torch.mean(waveform, dim=0, keepdim=True)\n",
    "        if self.transform:\n",
    "            spectrogram = self.transform(waveform)\n",
    "        else:\n",
    "            spectrogram = waveform\n",
    "        return spectrogram, row[\"label\"]"
   ]
  },
  {
   "cell_type": "code",
   "execution_count": 5,
   "metadata": {
    "id": "JDmmKL6tu6DT"
   },
   "outputs": [],
   "source": [
    "class ResidualBlock(nn.Module):\n",
    "    def __init__(self, in_channels, out_channels, stride=1):\n",
    "        super().__init__()\n",
    "        self.conv1 = nn.Conv2d(\n",
    "            in_channels, out_channels, 3, stride, padding=1, bias=False\n",
    "        )\n",
    "        self.bn1 = nn.BatchNorm2d(out_channels)\n",
    "        self.conv2 = nn.Conv2d(\n",
    "            out_channels, out_channels, 3, padding=1, bias=False\n",
    "        )\n",
    "        self.bn2 = nn.BatchNorm2d(out_channels)\n",
    "        self.shortcut = nn.Sequential()\n",
    "        self.use_shortcut = stride != 1 or in_channels != out_channels\n",
    "        if self.use_shortcut:\n",
    "            self.shortcut = nn.Sequential(\n",
    "                nn.Conv2d(\n",
    "                    in_channels, out_channels, 1, stride=stride, bias=False\n",
    "                ),\n",
    "                nn.BatchNorm2d(out_channels),\n",
    "            )\n",
    "\n",
    "    def forward(self, x):\n",
    "        out = torch.relu(self.bn1(self.conv1(x)))\n",
    "        out = self.bn2(self.conv2(out))\n",
    "        shortcut = self.shortcut(x) if self.use_shortcut else x\n",
    "        out_add = out + shortcut\n",
    "        return out_add\n",
    "\n",
    "\n",
    "class Au57(nn.Module):\n",
    "    def __init__(self, num_classes=50):\n",
    "        super(Au57, self).__init__()\n",
    "        self.conv1 = nn.Sequential(\n",
    "            nn.Conv2d(1, 64, 7, 2, padding=3, bias=False),\n",
    "            nn.BatchNorm2d(64),\n",
    "            nn.ReLU(inplace=True),\n",
    "        )\n",
    "        self.res_layer1 = nn.ModuleList(\n",
    "            [ResidualBlock(64, 64) for _ in range(3)]\n",
    "        )\n",
    "        self.res_layer2 = nn.ModuleList(\n",
    "            [\n",
    "                ResidualBlock(\n",
    "                    64 if i == 0 else 128, 128, stride=2 if i == 0 else 1\n",
    "                )\n",
    "                for i in range(4)\n",
    "            ]\n",
    "        )\n",
    "        self.res_layer3 = nn.ModuleList(\n",
    "            [\n",
    "                ResidualBlock(\n",
    "                    128 if i == 0 else 256, 256, stride=2 if i == 0 else 1\n",
    "                )\n",
    "                for i in range(6)\n",
    "            ]\n",
    "        )\n",
    "        self.res_layer4 = nn.ModuleList(\n",
    "            [\n",
    "                ResidualBlock(\n",
    "                    256 if i == 0 else 512, 512, stride=2 if i == 0 else 1\n",
    "                )\n",
    "                for i in range(3)\n",
    "            ]\n",
    "        )\n",
    "        self.avg_pool = nn.AdaptiveAvgPool2d((1, 1))\n",
    "        self.flatten = nn.Flatten()\n",
    "        self.dropout = nn.Dropout(0.5)\n",
    "        self.fc = nn.Linear(512, num_classes)\n",
    "\n",
    "    def forward(self, x):\n",
    "        x = self.conv1(x)\n",
    "        for block in self.res_layer1:\n",
    "            x = block(x)\n",
    "        for block in self.res_layer2:\n",
    "            x = block(x)\n",
    "        for block in self.res_layer3:\n",
    "            x = block(x)\n",
    "        for block in self.res_layer4:\n",
    "            x = block(x)\n",
    "        x = self.avg_pool(x)\n",
    "        x = self.flatten(x)\n",
    "        x = self.dropout(x)\n",
    "        x = self.fc(x)\n",
    "        return x"
   ]
  },
  {
   "cell_type": "code",
   "execution_count": 6,
   "metadata": {
    "id": "Y-guNKaTtNw8"
   },
   "outputs": [],
   "source": [
    "def mixup_data(x, y):\n",
    "    lam = np.random.beta(0.2, 0.2)\n",
    "    batch_size = x.size(0)\n",
    "    index = torch.randperm(batch_size).to(x.device)\n",
    "    mixed_x = lam * x + (1 - lam) * x[index, :]\n",
    "    y_a, y_b = y, y[index]\n",
    "    return mixed_x, y_a, y_b, lam\n",
    "\n",
    "\n",
    "def mixup_criterion(criterion, pred, y_a, y_b, lam):\n",
    "    return lam * criterion(pred, y_a) + (1 - lam) * criterion(pred, y_b)"
   ]
  },
  {
   "cell_type": "code",
   "execution_count": 7,
   "metadata": {
    "id": "FOzdHcVntQLw"
   },
   "outputs": [],
   "source": [
    "train_transform = nn.Sequential(\n",
    "    transforms.MelSpectrogram(\n",
    "        sample_rate=22050,\n",
    "        n_fft=1024,\n",
    "        hop_length=512,\n",
    "        n_mels=128,\n",
    "        f_min=0,\n",
    "        f_max=11025,\n",
    "    ),\n",
    "    transforms.AmplitudeToDB(),\n",
    "    transforms.FrequencyMasking(freq_mask_param=30),\n",
    "    transforms.TimeMasking(time_mask_param=80),\n",
    ")\n",
    "\n",
    "val_transform = nn.Sequential(\n",
    "    transforms.MelSpectrogram(\n",
    "        sample_rate=22050,\n",
    "        n_fft=1024,\n",
    "        hop_length=512,\n",
    "        n_mels=128,\n",
    "        f_min=0,\n",
    "        f_max=11025,\n",
    "    ),\n",
    "    transforms.AmplitudeToDB(),\n",
    ")"
   ]
  },
  {
   "cell_type": "code",
   "execution_count": 8,
   "metadata": {
    "id": "cQxLrOd-tSy5"
   },
   "outputs": [],
   "source": [
    "esc50_dir = Path(\n",
    "    \"/content/ESC-50-master\"\n",
    ")  # adjust if you upload ESC-50 to Colab\n",
    "train_dataset = ESC50Dataset(\n",
    "    data_dir=esc50_dir,\n",
    "    metadata_file=esc50_dir / \"meta\" / \"esc50.csv\",\n",
    "    split=\"train\",\n",
    "    transform=train_transform,\n",
    ")\n",
    "val_dataset = ESC50Dataset(\n",
    "    data_dir=esc50_dir,\n",
    "    metadata_file=esc50_dir / \"meta\" / \"esc50.csv\",\n",
    "    split=\"test\",\n",
    "    transform=val_transform,\n",
    ")\n",
    "\n",
    "train_dataloader = DataLoader(train_dataset, batch_size=32, shuffle=True)\n",
    "val_dataloader = DataLoader(val_dataset, batch_size=32, shuffle=False)"
   ]
  },
  {
   "cell_type": "code",
   "execution_count": 9,
   "metadata": {
    "colab": {
     "base_uri": "https://localhost:8080/"
    },
    "id": "BHM4CDeyt7w8",
    "outputId": "c1aebd4b-5a32-49e0-90d9-b922d7894ad3"
   },
   "outputs": [
    {
     "name": "stdout",
     "output_type": "stream",
     "text": [
      "Number of training samples: 1600\n",
      "Number of validation samples: 400\n"
     ]
    }
   ],
   "source": [
    "print(f\"Number of training samples: {len(train_dataset)}\")\n",
    "print(f\"Number of validation samples: {len(val_dataset)}\")"
   ]
  },
  {
   "cell_type": "code",
   "execution_count": 10,
   "metadata": {
    "colab": {
     "base_uri": "https://localhost:8080/"
    },
    "id": "YowQgwUrtZG0",
    "outputId": "b62d28eb-3a7d-423e-eba8-b21e904697c6"
   },
   "outputs": [
    {
     "name": "stderr",
     "output_type": "stream",
     "text": [
      "\rEpoch 1/100:   0%|          | 0/50 [00:00<?, ?it/s]/usr/local/lib/python3.12/dist-packages/torchaudio/_backend/utils.py:213: UserWarning: In 2.9, this function's implementation will be changed to use torchaudio.load_with_torchcodec` under the hood. Some parameters like ``normalize``, ``format``, ``buffer_size``, and ``backend`` will be ignored. We recommend that you port your code to rely directly on TorchCodec's decoder instead: https://docs.pytorch.org/torchcodec/stable/generated/torchcodec.decoders.AudioDecoder.html#torchcodec.decoders.AudioDecoder.\n",
      "  warnings.warn(\n",
      "/usr/local/lib/python3.12/dist-packages/torchaudio/_backend/ffmpeg.py:88: UserWarning: torio.io._streaming_media_decoder.StreamingMediaDecoder has been deprecated. This deprecation is part of a large refactoring effort to transition TorchAudio into a maintenance phase. The decoding and encoding capabilities of PyTorch for both audio and video are being consolidated into TorchCodec. Please see https://github.com/pytorch/audio/issues/3902 for more information. It will be removed from the 2.9 release. \n",
      "  s = torchaudio.io.StreamReader(src, format, None, buffer_size)\n",
      "Epoch 1/100: 100%|██████████| 50/50 [00:55<00:00,  1.10s/it, Loss=4.0663]\n"
     ]
    },
    {
     "name": "stdout",
     "output_type": "stream",
     "text": [
      "Epoch 1 Loss: 3.8134, Val Loss: 5.4578, Accuracy: 7.25%\n",
      "New best model saved: 7.25%\n"
     ]
    },
    {
     "name": "stderr",
     "output_type": "stream",
     "text": [
      "Epoch 2/100: 100%|██████████| 50/50 [00:55<00:00,  1.10s/it, Loss=3.0055]\n"
     ]
    },
    {
     "name": "stdout",
     "output_type": "stream",
     "text": [
      "Epoch 2 Loss: 3.3114, Val Loss: 7.6948, Accuracy: 8.25%\n",
      "New best model saved: 8.25%\n"
     ]
    },
    {
     "name": "stderr",
     "output_type": "stream",
     "text": [
      "Epoch 3/100: 100%|██████████| 50/50 [00:55<00:00,  1.11s/it, Loss=3.1862]\n"
     ]
    },
    {
     "name": "stdout",
     "output_type": "stream",
     "text": [
      "Epoch 3 Loss: 3.1304, Val Loss: 5.7867, Accuracy: 8.25%\n"
     ]
    },
    {
     "name": "stderr",
     "output_type": "stream",
     "text": [
      "Epoch 4/100: 100%|██████████| 50/50 [00:56<00:00,  1.12s/it, Loss=2.9810]\n"
     ]
    },
    {
     "name": "stdout",
     "output_type": "stream",
     "text": [
      "Epoch 4 Loss: 2.9102, Val Loss: 6.2143, Accuracy: 9.75%\n",
      "New best model saved: 9.75%\n"
     ]
    },
    {
     "name": "stderr",
     "output_type": "stream",
     "text": [
      "Epoch 5/100: 100%|██████████| 50/50 [00:57<00:00,  1.15s/it, Loss=2.8018]\n"
     ]
    },
    {
     "name": "stdout",
     "output_type": "stream",
     "text": [
      "Epoch 5 Loss: 2.8273, Val Loss: 3.4331, Accuracy: 23.75%\n",
      "New best model saved: 23.75%\n"
     ]
    },
    {
     "name": "stderr",
     "output_type": "stream",
     "text": [
      "Epoch 6/100: 100%|██████████| 50/50 [00:56<00:00,  1.13s/it, Loss=2.4083]\n"
     ]
    },
    {
     "name": "stdout",
     "output_type": "stream",
     "text": [
      "Epoch 6 Loss: 2.7764, Val Loss: 4.9822, Accuracy: 14.50%\n"
     ]
    },
    {
     "name": "stderr",
     "output_type": "stream",
     "text": [
      "Epoch 7/100: 100%|██████████| 50/50 [00:55<00:00,  1.10s/it, Loss=3.1539]\n"
     ]
    },
    {
     "name": "stdout",
     "output_type": "stream",
     "text": [
      "Epoch 7 Loss: 2.7048, Val Loss: 4.3726, Accuracy: 22.75%\n"
     ]
    },
    {
     "name": "stderr",
     "output_type": "stream",
     "text": [
      "Epoch 8/100: 100%|██████████| 50/50 [00:54<00:00,  1.10s/it, Loss=2.6585]\n"
     ]
    },
    {
     "name": "stdout",
     "output_type": "stream",
     "text": [
      "Epoch 8 Loss: 2.6078, Val Loss: 3.1201, Accuracy: 33.75%\n",
      "New best model saved: 33.75%\n"
     ]
    },
    {
     "name": "stderr",
     "output_type": "stream",
     "text": [
      "Epoch 9/100: 100%|██████████| 50/50 [00:55<00:00,  1.12s/it, Loss=2.2662]\n"
     ]
    },
    {
     "name": "stdout",
     "output_type": "stream",
     "text": [
      "Epoch 9 Loss: 2.5825, Val Loss: 2.7554, Accuracy: 32.25%\n"
     ]
    },
    {
     "name": "stderr",
     "output_type": "stream",
     "text": [
      "Epoch 10/100: 100%|██████████| 50/50 [00:54<00:00,  1.10s/it, Loss=2.1124]\n"
     ]
    },
    {
     "name": "stdout",
     "output_type": "stream",
     "text": [
      "Epoch 10 Loss: 2.3741, Val Loss: 2.9075, Accuracy: 44.00%\n",
      "New best model saved: 44.00%\n"
     ]
    },
    {
     "name": "stderr",
     "output_type": "stream",
     "text": [
      "Epoch 11/100: 100%|██████████| 50/50 [00:55<00:00,  1.12s/it, Loss=2.3298]\n"
     ]
    },
    {
     "name": "stdout",
     "output_type": "stream",
     "text": [
      "Epoch 11 Loss: 2.3438, Val Loss: 2.7505, Accuracy: 36.75%\n"
     ]
    },
    {
     "name": "stderr",
     "output_type": "stream",
     "text": [
      "Epoch 12/100: 100%|██████████| 50/50 [00:55<00:00,  1.10s/it, Loss=3.1357]\n"
     ]
    },
    {
     "name": "stdout",
     "output_type": "stream",
     "text": [
      "Epoch 12 Loss: 2.3213, Val Loss: 3.0284, Accuracy: 39.50%\n"
     ]
    },
    {
     "name": "stderr",
     "output_type": "stream",
     "text": [
      "Epoch 13/100: 100%|██████████| 50/50 [00:54<00:00,  1.09s/it, Loss=1.9337]\n"
     ]
    },
    {
     "name": "stdout",
     "output_type": "stream",
     "text": [
      "Epoch 13 Loss: 2.1446, Val Loss: 2.8037, Accuracy: 41.25%\n"
     ]
    },
    {
     "name": "stderr",
     "output_type": "stream",
     "text": [
      "Epoch 14/100: 100%|██████████| 50/50 [00:55<00:00,  1.10s/it, Loss=3.4918]\n"
     ]
    },
    {
     "name": "stdout",
     "output_type": "stream",
     "text": [
      "Epoch 14 Loss: 2.2239, Val Loss: 2.0861, Accuracy: 58.75%\n",
      "New best model saved: 58.75%\n"
     ]
    },
    {
     "name": "stderr",
     "output_type": "stream",
     "text": [
      "Epoch 15/100: 100%|██████████| 50/50 [00:56<00:00,  1.13s/it, Loss=1.9323]\n"
     ]
    },
    {
     "name": "stdout",
     "output_type": "stream",
     "text": [
      "Epoch 15 Loss: 2.0368, Val Loss: 2.1565, Accuracy: 58.25%\n"
     ]
    },
    {
     "name": "stderr",
     "output_type": "stream",
     "text": [
      "Epoch 16/100: 100%|██████████| 50/50 [00:55<00:00,  1.10s/it, Loss=1.7506]\n"
     ]
    },
    {
     "name": "stdout",
     "output_type": "stream",
     "text": [
      "Epoch 16 Loss: 1.9395, Val Loss: 2.4490, Accuracy: 49.00%\n"
     ]
    },
    {
     "name": "stderr",
     "output_type": "stream",
     "text": [
      "Epoch 17/100: 100%|██████████| 50/50 [00:55<00:00,  1.10s/it, Loss=2.1077]\n"
     ]
    },
    {
     "name": "stdout",
     "output_type": "stream",
     "text": [
      "Epoch 17 Loss: 1.8891, Val Loss: 2.2527, Accuracy: 53.50%\n"
     ]
    },
    {
     "name": "stderr",
     "output_type": "stream",
     "text": [
      "Epoch 18/100: 100%|██████████| 50/50 [00:54<00:00,  1.09s/it, Loss=2.2774]\n"
     ]
    },
    {
     "name": "stdout",
     "output_type": "stream",
     "text": [
      "Epoch 18 Loss: 1.9027, Val Loss: 2.5797, Accuracy: 48.00%\n"
     ]
    },
    {
     "name": "stderr",
     "output_type": "stream",
     "text": [
      "Epoch 19/100: 100%|██████████| 50/50 [00:54<00:00,  1.09s/it, Loss=2.0705]\n"
     ]
    },
    {
     "name": "stdout",
     "output_type": "stream",
     "text": [
      "Epoch 19 Loss: 1.9216, Val Loss: 2.1383, Accuracy: 60.25%\n",
      "New best model saved: 60.25%\n"
     ]
    },
    {
     "name": "stderr",
     "output_type": "stream",
     "text": [
      "Epoch 20/100: 100%|██████████| 50/50 [00:55<00:00,  1.12s/it, Loss=1.6755]\n"
     ]
    },
    {
     "name": "stdout",
     "output_type": "stream",
     "text": [
      "Epoch 20 Loss: 1.7623, Val Loss: 2.0713, Accuracy: 55.00%\n"
     ]
    },
    {
     "name": "stderr",
     "output_type": "stream",
     "text": [
      "Epoch 21/100: 100%|██████████| 50/50 [00:55<00:00,  1.11s/it, Loss=1.6591]\n"
     ]
    },
    {
     "name": "stdout",
     "output_type": "stream",
     "text": [
      "Epoch 21 Loss: 1.8374, Val Loss: 1.9941, Accuracy: 59.00%\n"
     ]
    },
    {
     "name": "stderr",
     "output_type": "stream",
     "text": [
      "Epoch 22/100: 100%|██████████| 50/50 [00:55<00:00,  1.10s/it, Loss=1.7633]\n"
     ]
    },
    {
     "name": "stdout",
     "output_type": "stream",
     "text": [
      "Epoch 22 Loss: 1.7308, Val Loss: 2.4416, Accuracy: 55.75%\n"
     ]
    },
    {
     "name": "stderr",
     "output_type": "stream",
     "text": [
      "Epoch 23/100: 100%|██████████| 50/50 [00:55<00:00,  1.10s/it, Loss=1.4355]\n"
     ]
    },
    {
     "name": "stdout",
     "output_type": "stream",
     "text": [
      "Epoch 23 Loss: 1.7529, Val Loss: 2.6696, Accuracy: 52.50%\n"
     ]
    },
    {
     "name": "stderr",
     "output_type": "stream",
     "text": [
      "Epoch 24/100: 100%|██████████| 50/50 [00:57<00:00,  1.14s/it, Loss=1.8827]\n"
     ]
    },
    {
     "name": "stdout",
     "output_type": "stream",
     "text": [
      "Epoch 24 Loss: 1.6625, Val Loss: 1.9663, Accuracy: 62.50%\n",
      "New best model saved: 62.50%\n"
     ]
    },
    {
     "name": "stderr",
     "output_type": "stream",
     "text": [
      "Epoch 25/100: 100%|██████████| 50/50 [00:56<00:00,  1.13s/it, Loss=1.6203]\n"
     ]
    },
    {
     "name": "stdout",
     "output_type": "stream",
     "text": [
      "Epoch 25 Loss: 1.6089, Val Loss: 1.9488, Accuracy: 66.75%\n",
      "New best model saved: 66.75%\n"
     ]
    },
    {
     "name": "stderr",
     "output_type": "stream",
     "text": [
      "Epoch 26/100: 100%|██████████| 50/50 [00:56<00:00,  1.13s/it, Loss=1.4303]\n"
     ]
    },
    {
     "name": "stdout",
     "output_type": "stream",
     "text": [
      "Epoch 26 Loss: 1.5186, Val Loss: 1.8909, Accuracy: 64.25%\n"
     ]
    },
    {
     "name": "stderr",
     "output_type": "stream",
     "text": [
      "Epoch 27/100: 100%|██████████| 50/50 [00:54<00:00,  1.09s/it, Loss=2.4480]\n"
     ]
    },
    {
     "name": "stdout",
     "output_type": "stream",
     "text": [
      "Epoch 27 Loss: 1.5140, Val Loss: 2.2546, Accuracy: 62.50%\n"
     ]
    },
    {
     "name": "stderr",
     "output_type": "stream",
     "text": [
      "Epoch 28/100: 100%|██████████| 50/50 [00:54<00:00,  1.09s/it, Loss=1.4262]\n"
     ]
    },
    {
     "name": "stdout",
     "output_type": "stream",
     "text": [
      "Epoch 28 Loss: 1.5159, Val Loss: 1.8190, Accuracy: 64.50%\n"
     ]
    },
    {
     "name": "stderr",
     "output_type": "stream",
     "text": [
      "Epoch 29/100: 100%|██████████| 50/50 [00:54<00:00,  1.10s/it, Loss=1.4372]\n"
     ]
    },
    {
     "name": "stdout",
     "output_type": "stream",
     "text": [
      "Epoch 29 Loss: 1.4788, Val Loss: 1.7672, Accuracy: 69.00%\n",
      "New best model saved: 69.00%\n"
     ]
    },
    {
     "name": "stderr",
     "output_type": "stream",
     "text": [
      "Epoch 30/100: 100%|██████████| 50/50 [00:55<00:00,  1.10s/it, Loss=1.6178]\n"
     ]
    },
    {
     "name": "stdout",
     "output_type": "stream",
     "text": [
      "Epoch 30 Loss: 1.4914, Val Loss: 2.2968, Accuracy: 60.75%\n"
     ]
    },
    {
     "name": "stderr",
     "output_type": "stream",
     "text": [
      "Epoch 31/100: 100%|██████████| 50/50 [00:54<00:00,  1.09s/it, Loss=2.0087]\n"
     ]
    },
    {
     "name": "stdout",
     "output_type": "stream",
     "text": [
      "Epoch 31 Loss: 1.4217, Val Loss: 1.9329, Accuracy: 65.25%\n"
     ]
    },
    {
     "name": "stderr",
     "output_type": "stream",
     "text": [
      "Epoch 32/100: 100%|██████████| 50/50 [00:54<00:00,  1.10s/it, Loss=1.3476]\n"
     ]
    },
    {
     "name": "stdout",
     "output_type": "stream",
     "text": [
      "Epoch 32 Loss: 1.4401, Val Loss: 1.8877, Accuracy: 65.00%\n"
     ]
    },
    {
     "name": "stderr",
     "output_type": "stream",
     "text": [
      "Epoch 33/100: 100%|██████████| 50/50 [00:54<00:00,  1.10s/it, Loss=1.2703]\n"
     ]
    },
    {
     "name": "stdout",
     "output_type": "stream",
     "text": [
      "Epoch 33 Loss: 1.5231, Val Loss: 1.7972, Accuracy: 67.25%\n"
     ]
    },
    {
     "name": "stderr",
     "output_type": "stream",
     "text": [
      "Epoch 34/100: 100%|██████████| 50/50 [00:54<00:00,  1.09s/it, Loss=3.1737]\n"
     ]
    },
    {
     "name": "stdout",
     "output_type": "stream",
     "text": [
      "Epoch 34 Loss: 1.4092, Val Loss: 2.2305, Accuracy: 62.00%\n"
     ]
    },
    {
     "name": "stderr",
     "output_type": "stream",
     "text": [
      "Epoch 35/100: 100%|██████████| 50/50 [00:54<00:00,  1.09s/it, Loss=2.6862]\n"
     ]
    },
    {
     "name": "stdout",
     "output_type": "stream",
     "text": [
      "Epoch 35 Loss: 1.5274, Val Loss: 1.7482, Accuracy: 71.50%\n",
      "New best model saved: 71.50%\n"
     ]
    },
    {
     "name": "stderr",
     "output_type": "stream",
     "text": [
      "Epoch 36/100: 100%|██████████| 50/50 [00:55<00:00,  1.10s/it, Loss=1.1091]\n"
     ]
    },
    {
     "name": "stdout",
     "output_type": "stream",
     "text": [
      "Epoch 36 Loss: 1.3708, Val Loss: 1.9538, Accuracy: 64.50%\n"
     ]
    },
    {
     "name": "stderr",
     "output_type": "stream",
     "text": [
      "Epoch 37/100: 100%|██████████| 50/50 [00:54<00:00,  1.09s/it, Loss=1.2588]\n"
     ]
    },
    {
     "name": "stdout",
     "output_type": "stream",
     "text": [
      "Epoch 37 Loss: 1.3593, Val Loss: 1.8479, Accuracy: 67.00%\n"
     ]
    },
    {
     "name": "stderr",
     "output_type": "stream",
     "text": [
      "Epoch 38/100: 100%|██████████| 50/50 [00:54<00:00,  1.10s/it, Loss=1.1814]\n"
     ]
    },
    {
     "name": "stdout",
     "output_type": "stream",
     "text": [
      "Epoch 38 Loss: 1.3237, Val Loss: 1.6344, Accuracy: 73.00%\n",
      "New best model saved: 73.00%\n"
     ]
    },
    {
     "name": "stderr",
     "output_type": "stream",
     "text": [
      "Epoch 39/100: 100%|██████████| 50/50 [00:55<00:00,  1.11s/it, Loss=1.3795]\n"
     ]
    },
    {
     "name": "stdout",
     "output_type": "stream",
     "text": [
      "Epoch 39 Loss: 1.2935, Val Loss: 1.5985, Accuracy: 74.00%\n",
      "New best model saved: 74.00%\n"
     ]
    },
    {
     "name": "stderr",
     "output_type": "stream",
     "text": [
      "Epoch 40/100: 100%|██████████| 50/50 [00:55<00:00,  1.11s/it, Loss=1.3414]\n"
     ]
    },
    {
     "name": "stdout",
     "output_type": "stream",
     "text": [
      "Epoch 40 Loss: 1.2400, Val Loss: 1.7720, Accuracy: 71.00%\n"
     ]
    },
    {
     "name": "stderr",
     "output_type": "stream",
     "text": [
      "Epoch 41/100: 100%|██████████| 50/50 [00:55<00:00,  1.11s/it, Loss=1.0267]\n"
     ]
    },
    {
     "name": "stdout",
     "output_type": "stream",
     "text": [
      "Epoch 41 Loss: 1.2862, Val Loss: 1.6948, Accuracy: 70.25%\n"
     ]
    },
    {
     "name": "stderr",
     "output_type": "stream",
     "text": [
      "Epoch 42/100: 100%|██████████| 50/50 [00:54<00:00,  1.10s/it, Loss=1.0829]\n"
     ]
    },
    {
     "name": "stdout",
     "output_type": "stream",
     "text": [
      "Epoch 42 Loss: 1.2399, Val Loss: 1.7005, Accuracy: 71.75%\n"
     ]
    },
    {
     "name": "stderr",
     "output_type": "stream",
     "text": [
      "Epoch 43/100: 100%|██████████| 50/50 [00:54<00:00,  1.09s/it, Loss=1.1023]\n"
     ]
    },
    {
     "name": "stdout",
     "output_type": "stream",
     "text": [
      "Epoch 43 Loss: 1.2212, Val Loss: 1.6631, Accuracy: 75.50%\n",
      "New best model saved: 75.50%\n"
     ]
    },
    {
     "name": "stderr",
     "output_type": "stream",
     "text": [
      "Epoch 44/100: 100%|██████████| 50/50 [00:55<00:00,  1.11s/it, Loss=1.2685]\n"
     ]
    },
    {
     "name": "stdout",
     "output_type": "stream",
     "text": [
      "Epoch 44 Loss: 1.3287, Val Loss: 1.6399, Accuracy: 73.50%\n"
     ]
    },
    {
     "name": "stderr",
     "output_type": "stream",
     "text": [
      "Epoch 45/100: 100%|██████████| 50/50 [00:54<00:00,  1.09s/it, Loss=1.2681]\n"
     ]
    },
    {
     "name": "stdout",
     "output_type": "stream",
     "text": [
      "Epoch 45 Loss: 1.2916, Val Loss: 1.6391, Accuracy: 71.75%\n"
     ]
    },
    {
     "name": "stderr",
     "output_type": "stream",
     "text": [
      "Epoch 46/100: 100%|██████████| 50/50 [00:54<00:00,  1.09s/it, Loss=1.1587]\n"
     ]
    },
    {
     "name": "stdout",
     "output_type": "stream",
     "text": [
      "Epoch 46 Loss: 1.2768, Val Loss: 1.7578, Accuracy: 72.25%\n"
     ]
    },
    {
     "name": "stderr",
     "output_type": "stream",
     "text": [
      "Epoch 47/100: 100%|██████████| 50/50 [00:54<00:00,  1.10s/it, Loss=1.0104]\n"
     ]
    },
    {
     "name": "stdout",
     "output_type": "stream",
     "text": [
      "Epoch 47 Loss: 1.1411, Val Loss: 1.6159, Accuracy: 75.50%\n"
     ]
    },
    {
     "name": "stderr",
     "output_type": "stream",
     "text": [
      "Epoch 48/100: 100%|██████████| 50/50 [00:55<00:00,  1.10s/it, Loss=1.4142]\n"
     ]
    },
    {
     "name": "stdout",
     "output_type": "stream",
     "text": [
      "Epoch 48 Loss: 1.1969, Val Loss: 1.5895, Accuracy: 74.50%\n"
     ]
    },
    {
     "name": "stderr",
     "output_type": "stream",
     "text": [
      "Epoch 49/100: 100%|██████████| 50/50 [00:55<00:00,  1.10s/it, Loss=1.0620]\n"
     ]
    },
    {
     "name": "stdout",
     "output_type": "stream",
     "text": [
      "Epoch 49 Loss: 1.0764, Val Loss: 1.6399, Accuracy: 74.00%\n"
     ]
    },
    {
     "name": "stderr",
     "output_type": "stream",
     "text": [
      "Epoch 50/100: 100%|██████████| 50/50 [00:55<00:00,  1.10s/it, Loss=2.1804]\n"
     ]
    },
    {
     "name": "stdout",
     "output_type": "stream",
     "text": [
      "Epoch 50 Loss: 1.2099, Val Loss: 1.7101, Accuracy: 69.75%\n"
     ]
    },
    {
     "name": "stderr",
     "output_type": "stream",
     "text": [
      "Epoch 51/100: 100%|██████████| 50/50 [00:54<00:00,  1.09s/it, Loss=1.0339]\n"
     ]
    },
    {
     "name": "stdout",
     "output_type": "stream",
     "text": [
      "Epoch 51 Loss: 1.2224, Val Loss: 1.5567, Accuracy: 75.25%\n"
     ]
    },
    {
     "name": "stderr",
     "output_type": "stream",
     "text": [
      "Epoch 52/100: 100%|██████████| 50/50 [00:54<00:00,  1.09s/it, Loss=1.7553]\n"
     ]
    },
    {
     "name": "stdout",
     "output_type": "stream",
     "text": [
      "Epoch 52 Loss: 1.1970, Val Loss: 1.5922, Accuracy: 74.75%\n"
     ]
    },
    {
     "name": "stderr",
     "output_type": "stream",
     "text": [
      "Epoch 53/100: 100%|██████████| 50/50 [00:54<00:00,  1.10s/it, Loss=1.0993]\n"
     ]
    },
    {
     "name": "stdout",
     "output_type": "stream",
     "text": [
      "Epoch 53 Loss: 1.1087, Val Loss: 1.6527, Accuracy: 73.25%\n"
     ]
    },
    {
     "name": "stderr",
     "output_type": "stream",
     "text": [
      "Epoch 54/100: 100%|██████████| 50/50 [00:54<00:00,  1.09s/it, Loss=0.9793]\n"
     ]
    },
    {
     "name": "stdout",
     "output_type": "stream",
     "text": [
      "Epoch 54 Loss: 1.1543, Val Loss: 1.5093, Accuracy: 78.25%\n",
      "New best model saved: 78.25%\n"
     ]
    },
    {
     "name": "stderr",
     "output_type": "stream",
     "text": [
      "Epoch 55/100: 100%|██████████| 50/50 [00:55<00:00,  1.11s/it, Loss=1.1032]\n"
     ]
    },
    {
     "name": "stdout",
     "output_type": "stream",
     "text": [
      "Epoch 55 Loss: 1.0874, Val Loss: 1.5901, Accuracy: 75.25%\n"
     ]
    },
    {
     "name": "stderr",
     "output_type": "stream",
     "text": [
      "Epoch 56/100: 100%|██████████| 50/50 [00:55<00:00,  1.10s/it, Loss=0.9036]\n"
     ]
    },
    {
     "name": "stdout",
     "output_type": "stream",
     "text": [
      "Epoch 56 Loss: 1.0936, Val Loss: 1.5517, Accuracy: 77.50%\n"
     ]
    },
    {
     "name": "stderr",
     "output_type": "stream",
     "text": [
      "Epoch 57/100: 100%|██████████| 50/50 [00:54<00:00,  1.10s/it, Loss=1.1270]\n"
     ]
    },
    {
     "name": "stdout",
     "output_type": "stream",
     "text": [
      "Epoch 57 Loss: 1.0858, Val Loss: 1.6000, Accuracy: 72.50%\n"
     ]
    },
    {
     "name": "stderr",
     "output_type": "stream",
     "text": [
      "Epoch 58/100: 100%|██████████| 50/50 [00:55<00:00,  1.10s/it, Loss=0.9708]\n"
     ]
    },
    {
     "name": "stdout",
     "output_type": "stream",
     "text": [
      "Epoch 58 Loss: 1.0747, Val Loss: 1.5836, Accuracy: 75.00%\n"
     ]
    },
    {
     "name": "stderr",
     "output_type": "stream",
     "text": [
      "Epoch 59/100: 100%|██████████| 50/50 [00:54<00:00,  1.09s/it, Loss=0.8818]\n"
     ]
    },
    {
     "name": "stdout",
     "output_type": "stream",
     "text": [
      "Epoch 59 Loss: 1.0888, Val Loss: 1.4907, Accuracy: 77.00%\n"
     ]
    },
    {
     "name": "stderr",
     "output_type": "stream",
     "text": [
      "Epoch 60/100: 100%|██████████| 50/50 [00:55<00:00,  1.10s/it, Loss=0.9555]\n"
     ]
    },
    {
     "name": "stdout",
     "output_type": "stream",
     "text": [
      "Epoch 60 Loss: 1.0988, Val Loss: 1.5263, Accuracy: 74.50%\n"
     ]
    },
    {
     "name": "stderr",
     "output_type": "stream",
     "text": [
      "Epoch 61/100: 100%|██████████| 50/50 [00:54<00:00,  1.09s/it, Loss=0.9792]\n"
     ]
    },
    {
     "name": "stdout",
     "output_type": "stream",
     "text": [
      "Epoch 61 Loss: 1.0681, Val Loss: 1.5275, Accuracy: 76.75%\n"
     ]
    },
    {
     "name": "stderr",
     "output_type": "stream",
     "text": [
      "Epoch 62/100: 100%|██████████| 50/50 [00:54<00:00,  1.10s/it, Loss=0.8966]\n"
     ]
    },
    {
     "name": "stdout",
     "output_type": "stream",
     "text": [
      "Epoch 62 Loss: 1.0834, Val Loss: 1.5246, Accuracy: 75.75%\n"
     ]
    },
    {
     "name": "stderr",
     "output_type": "stream",
     "text": [
      "Epoch 63/100: 100%|██████████| 50/50 [00:55<00:00,  1.10s/it, Loss=0.9364]\n"
     ]
    },
    {
     "name": "stdout",
     "output_type": "stream",
     "text": [
      "Epoch 63 Loss: 0.9806, Val Loss: 1.5407, Accuracy: 75.75%\n"
     ]
    },
    {
     "name": "stderr",
     "output_type": "stream",
     "text": [
      "Epoch 64/100: 100%|██████████| 50/50 [00:55<00:00,  1.10s/it, Loss=0.9343]\n"
     ]
    },
    {
     "name": "stdout",
     "output_type": "stream",
     "text": [
      "Epoch 64 Loss: 1.0224, Val Loss: 1.4540, Accuracy: 78.00%\n"
     ]
    },
    {
     "name": "stderr",
     "output_type": "stream",
     "text": [
      "Epoch 65/100: 100%|██████████| 50/50 [00:54<00:00,  1.09s/it, Loss=1.1311]\n"
     ]
    },
    {
     "name": "stdout",
     "output_type": "stream",
     "text": [
      "Epoch 65 Loss: 1.0469, Val Loss: 1.4701, Accuracy: 78.00%\n"
     ]
    },
    {
     "name": "stderr",
     "output_type": "stream",
     "text": [
      "Epoch 66/100: 100%|██████████| 50/50 [00:54<00:00,  1.09s/it, Loss=2.3279]\n"
     ]
    },
    {
     "name": "stdout",
     "output_type": "stream",
     "text": [
      "Epoch 66 Loss: 1.0251, Val Loss: 1.4190, Accuracy: 80.00%\n",
      "New best model saved: 80.00%\n"
     ]
    },
    {
     "name": "stderr",
     "output_type": "stream",
     "text": [
      "Epoch 67/100: 100%|██████████| 50/50 [00:55<00:00,  1.11s/it, Loss=0.8711]\n"
     ]
    },
    {
     "name": "stdout",
     "output_type": "stream",
     "text": [
      "Epoch 67 Loss: 0.9325, Val Loss: 1.4010, Accuracy: 79.25%\n"
     ]
    },
    {
     "name": "stderr",
     "output_type": "stream",
     "text": [
      "Epoch 68/100: 100%|██████████| 50/50 [00:54<00:00,  1.09s/it, Loss=0.8985]\n"
     ]
    },
    {
     "name": "stdout",
     "output_type": "stream",
     "text": [
      "Epoch 68 Loss: 1.0020, Val Loss: 1.4820, Accuracy: 78.25%\n"
     ]
    },
    {
     "name": "stderr",
     "output_type": "stream",
     "text": [
      "Epoch 69/100: 100%|██████████| 50/50 [00:54<00:00,  1.10s/it, Loss=1.0672]\n"
     ]
    },
    {
     "name": "stdout",
     "output_type": "stream",
     "text": [
      "Epoch 69 Loss: 1.1524, Val Loss: 1.4629, Accuracy: 78.50%\n"
     ]
    },
    {
     "name": "stderr",
     "output_type": "stream",
     "text": [
      "Epoch 70/100: 100%|██████████| 50/50 [00:54<00:00,  1.09s/it, Loss=2.5294]\n"
     ]
    },
    {
     "name": "stdout",
     "output_type": "stream",
     "text": [
      "Epoch 70 Loss: 1.0193, Val Loss: 1.4667, Accuracy: 78.75%\n"
     ]
    },
    {
     "name": "stderr",
     "output_type": "stream",
     "text": [
      "Epoch 71/100: 100%|██████████| 50/50 [00:55<00:00,  1.10s/it, Loss=0.9152]\n"
     ]
    },
    {
     "name": "stdout",
     "output_type": "stream",
     "text": [
      "Epoch 71 Loss: 1.0024, Val Loss: 1.4268, Accuracy: 79.25%\n"
     ]
    },
    {
     "name": "stderr",
     "output_type": "stream",
     "text": [
      "Epoch 72/100: 100%|██████████| 50/50 [00:55<00:00,  1.11s/it, Loss=0.8575]\n"
     ]
    },
    {
     "name": "stdout",
     "output_type": "stream",
     "text": [
      "Epoch 72 Loss: 1.1318, Val Loss: 1.4312, Accuracy: 81.75%\n",
      "New best model saved: 81.75%\n"
     ]
    },
    {
     "name": "stderr",
     "output_type": "stream",
     "text": [
      "Epoch 73/100: 100%|██████████| 50/50 [00:56<00:00,  1.12s/it, Loss=0.8985]\n"
     ]
    },
    {
     "name": "stdout",
     "output_type": "stream",
     "text": [
      "Epoch 73 Loss: 1.0635, Val Loss: 1.4229, Accuracy: 78.75%\n"
     ]
    },
    {
     "name": "stderr",
     "output_type": "stream",
     "text": [
      "Epoch 74/100: 100%|██████████| 50/50 [00:54<00:00,  1.09s/it, Loss=0.8799]\n"
     ]
    },
    {
     "name": "stdout",
     "output_type": "stream",
     "text": [
      "Epoch 74 Loss: 1.0700, Val Loss: 1.4468, Accuracy: 81.00%\n"
     ]
    },
    {
     "name": "stderr",
     "output_type": "stream",
     "text": [
      "Epoch 75/100: 100%|██████████| 50/50 [00:55<00:00,  1.10s/it, Loss=0.9378]\n"
     ]
    },
    {
     "name": "stdout",
     "output_type": "stream",
     "text": [
      "Epoch 75 Loss: 1.0334, Val Loss: 1.4614, Accuracy: 77.75%\n"
     ]
    },
    {
     "name": "stderr",
     "output_type": "stream",
     "text": [
      "Epoch 76/100: 100%|██████████| 50/50 [00:55<00:00,  1.11s/it, Loss=0.8538]\n"
     ]
    },
    {
     "name": "stdout",
     "output_type": "stream",
     "text": [
      "Epoch 76 Loss: 0.9457, Val Loss: 1.4502, Accuracy: 79.75%\n"
     ]
    },
    {
     "name": "stderr",
     "output_type": "stream",
     "text": [
      "Epoch 77/100: 100%|██████████| 50/50 [00:55<00:00,  1.10s/it, Loss=1.0576]\n"
     ]
    },
    {
     "name": "stdout",
     "output_type": "stream",
     "text": [
      "Epoch 77 Loss: 1.0657, Val Loss: 1.4350, Accuracy: 80.75%\n"
     ]
    },
    {
     "name": "stderr",
     "output_type": "stream",
     "text": [
      "Epoch 78/100: 100%|██████████| 50/50 [00:54<00:00,  1.10s/it, Loss=0.8794]\n"
     ]
    },
    {
     "name": "stdout",
     "output_type": "stream",
     "text": [
      "Epoch 78 Loss: 0.9928, Val Loss: 1.4125, Accuracy: 80.50%\n"
     ]
    },
    {
     "name": "stderr",
     "output_type": "stream",
     "text": [
      "Epoch 79/100: 100%|██████████| 50/50 [00:54<00:00,  1.09s/it, Loss=0.8250]\n"
     ]
    },
    {
     "name": "stdout",
     "output_type": "stream",
     "text": [
      "Epoch 79 Loss: 0.9997, Val Loss: 1.4136, Accuracy: 82.00%\n",
      "New best model saved: 82.00%\n"
     ]
    },
    {
     "name": "stderr",
     "output_type": "stream",
     "text": [
      "Epoch 80/100: 100%|██████████| 50/50 [00:56<00:00,  1.12s/it, Loss=0.8503]\n"
     ]
    },
    {
     "name": "stdout",
     "output_type": "stream",
     "text": [
      "Epoch 80 Loss: 0.9341, Val Loss: 1.4066, Accuracy: 82.25%\n",
      "New best model saved: 82.25%\n"
     ]
    },
    {
     "name": "stderr",
     "output_type": "stream",
     "text": [
      "Epoch 81/100: 100%|██████████| 50/50 [00:56<00:00,  1.13s/it, Loss=0.8875]\n"
     ]
    },
    {
     "name": "stdout",
     "output_type": "stream",
     "text": [
      "Epoch 81 Loss: 0.9675, Val Loss: 1.4050, Accuracy: 82.00%\n"
     ]
    },
    {
     "name": "stderr",
     "output_type": "stream",
     "text": [
      "Epoch 82/100: 100%|██████████| 50/50 [00:54<00:00,  1.09s/it, Loss=0.8525]\n"
     ]
    },
    {
     "name": "stdout",
     "output_type": "stream",
     "text": [
      "Epoch 82 Loss: 0.9770, Val Loss: 1.4343, Accuracy: 79.50%\n"
     ]
    },
    {
     "name": "stderr",
     "output_type": "stream",
     "text": [
      "Epoch 83/100: 100%|██████████| 50/50 [00:54<00:00,  1.09s/it, Loss=0.8300]\n"
     ]
    },
    {
     "name": "stdout",
     "output_type": "stream",
     "text": [
      "Epoch 83 Loss: 0.9324, Val Loss: 1.3947, Accuracy: 83.25%\n",
      "New best model saved: 83.25%\n"
     ]
    },
    {
     "name": "stderr",
     "output_type": "stream",
     "text": [
      "Epoch 84/100: 100%|██████████| 50/50 [00:55<00:00,  1.11s/it, Loss=0.8408]\n"
     ]
    },
    {
     "name": "stdout",
     "output_type": "stream",
     "text": [
      "Epoch 84 Loss: 0.8713, Val Loss: 1.4031, Accuracy: 81.00%\n"
     ]
    },
    {
     "name": "stderr",
     "output_type": "stream",
     "text": [
      "Epoch 85/100: 100%|██████████| 50/50 [00:54<00:00,  1.10s/it, Loss=0.8297]\n"
     ]
    },
    {
     "name": "stdout",
     "output_type": "stream",
     "text": [
      "Epoch 85 Loss: 0.9196, Val Loss: 1.3625, Accuracy: 81.50%\n"
     ]
    },
    {
     "name": "stderr",
     "output_type": "stream",
     "text": [
      "Epoch 86/100: 100%|██████████| 50/50 [00:55<00:00,  1.11s/it, Loss=0.8064]\n"
     ]
    },
    {
     "name": "stdout",
     "output_type": "stream",
     "text": [
      "Epoch 86 Loss: 0.9269, Val Loss: 1.4278, Accuracy: 81.00%\n"
     ]
    },
    {
     "name": "stderr",
     "output_type": "stream",
     "text": [
      "Epoch 87/100: 100%|██████████| 50/50 [00:54<00:00,  1.10s/it, Loss=0.8133]\n"
     ]
    },
    {
     "name": "stdout",
     "output_type": "stream",
     "text": [
      "Epoch 87 Loss: 0.9147, Val Loss: 1.3946, Accuracy: 81.25%\n"
     ]
    },
    {
     "name": "stderr",
     "output_type": "stream",
     "text": [
      "Epoch 88/100: 100%|██████████| 50/50 [00:54<00:00,  1.09s/it, Loss=0.8213]\n"
     ]
    },
    {
     "name": "stdout",
     "output_type": "stream",
     "text": [
      "Epoch 88 Loss: 0.9690, Val Loss: 1.4050, Accuracy: 82.75%\n"
     ]
    },
    {
     "name": "stderr",
     "output_type": "stream",
     "text": [
      "Epoch 89/100: 100%|██████████| 50/50 [00:54<00:00,  1.10s/it, Loss=0.8689]\n"
     ]
    },
    {
     "name": "stdout",
     "output_type": "stream",
     "text": [
      "Epoch 89 Loss: 1.0952, Val Loss: 1.4271, Accuracy: 79.75%\n"
     ]
    },
    {
     "name": "stderr",
     "output_type": "stream",
     "text": [
      "Epoch 90/100: 100%|██████████| 50/50 [00:54<00:00,  1.09s/it, Loss=0.8206]\n"
     ]
    },
    {
     "name": "stdout",
     "output_type": "stream",
     "text": [
      "Epoch 90 Loss: 0.9731, Val Loss: 1.3629, Accuracy: 82.75%\n"
     ]
    },
    {
     "name": "stderr",
     "output_type": "stream",
     "text": [
      "Epoch 91/100: 100%|██████████| 50/50 [00:54<00:00,  1.10s/it, Loss=0.8200]\n"
     ]
    },
    {
     "name": "stdout",
     "output_type": "stream",
     "text": [
      "Epoch 91 Loss: 0.9195, Val Loss: 1.3886, Accuracy: 82.75%\n"
     ]
    },
    {
     "name": "stderr",
     "output_type": "stream",
     "text": [
      "Epoch 92/100: 100%|██████████| 50/50 [00:54<00:00,  1.10s/it, Loss=0.7991]\n"
     ]
    },
    {
     "name": "stdout",
     "output_type": "stream",
     "text": [
      "Epoch 92 Loss: 0.9300, Val Loss: 1.3774, Accuracy: 82.75%\n"
     ]
    },
    {
     "name": "stderr",
     "output_type": "stream",
     "text": [
      "Epoch 93/100: 100%|██████████| 50/50 [00:54<00:00,  1.10s/it, Loss=2.2380]\n"
     ]
    },
    {
     "name": "stdout",
     "output_type": "stream",
     "text": [
      "Epoch 93 Loss: 0.9971, Val Loss: 1.3903, Accuracy: 82.50%\n"
     ]
    },
    {
     "name": "stderr",
     "output_type": "stream",
     "text": [
      "Epoch 94/100: 100%|██████████| 50/50 [00:54<00:00,  1.09s/it, Loss=1.6961]\n"
     ]
    },
    {
     "name": "stdout",
     "output_type": "stream",
     "text": [
      "Epoch 94 Loss: 1.0098, Val Loss: 1.3952, Accuracy: 83.50%\n",
      "New best model saved: 83.50%\n"
     ]
    },
    {
     "name": "stderr",
     "output_type": "stream",
     "text": [
      "Epoch 95/100: 100%|██████████| 50/50 [00:56<00:00,  1.13s/it, Loss=0.7884]\n"
     ]
    },
    {
     "name": "stdout",
     "output_type": "stream",
     "text": [
      "Epoch 95 Loss: 1.0752, Val Loss: 1.3905, Accuracy: 83.00%\n"
     ]
    },
    {
     "name": "stderr",
     "output_type": "stream",
     "text": [
      "Epoch 96/100: 100%|██████████| 50/50 [00:55<00:00,  1.10s/it, Loss=0.7852]\n"
     ]
    },
    {
     "name": "stdout",
     "output_type": "stream",
     "text": [
      "Epoch 96 Loss: 1.0348, Val Loss: 1.3837, Accuracy: 82.50%\n"
     ]
    },
    {
     "name": "stderr",
     "output_type": "stream",
     "text": [
      "Epoch 97/100: 100%|██████████| 50/50 [00:54<00:00,  1.10s/it, Loss=0.8176]\n"
     ]
    },
    {
     "name": "stdout",
     "output_type": "stream",
     "text": [
      "Epoch 97 Loss: 0.8944, Val Loss: 1.3817, Accuracy: 81.50%\n"
     ]
    },
    {
     "name": "stderr",
     "output_type": "stream",
     "text": [
      "Epoch 98/100: 100%|██████████| 50/50 [00:54<00:00,  1.09s/it, Loss=0.8037]\n"
     ]
    },
    {
     "name": "stdout",
     "output_type": "stream",
     "text": [
      "Epoch 98 Loss: 1.0911, Val Loss: 1.3787, Accuracy: 83.00%\n"
     ]
    },
    {
     "name": "stderr",
     "output_type": "stream",
     "text": [
      "Epoch 99/100: 100%|██████████| 50/50 [00:54<00:00,  1.09s/it, Loss=0.8061]\n"
     ]
    },
    {
     "name": "stdout",
     "output_type": "stream",
     "text": [
      "Epoch 99 Loss: 0.9013, Val Loss: 1.3822, Accuracy: 82.75%\n"
     ]
    },
    {
     "name": "stderr",
     "output_type": "stream",
     "text": [
      "Epoch 100/100: 100%|██████████| 50/50 [00:54<00:00,  1.09s/it, Loss=2.2072]\n"
     ]
    },
    {
     "name": "stdout",
     "output_type": "stream",
     "text": [
      "Epoch 100 Loss: 1.0475, Val Loss: 1.3976, Accuracy: 81.25%\n"
     ]
    }
   ],
   "source": [
    "device = torch.device(\"cuda\" if torch.cuda.is_available() else \"cpu\")\n",
    "model = Au57(num_classes=len(train_dataset.classes)).to(device)\n",
    "epochs = 100\n",
    "criterion = nn.CrossEntropyLoss(label_smoothing=0.1)\n",
    "optimizer = torch.optim.AdamW(model.parameters(), lr=0.0005, weight_decay=0.01)\n",
    "scheduler = torch.optim.lr_scheduler.OneCycleLR(\n",
    "    optimizer,\n",
    "    max_lr=0.002,\n",
    "    epochs=epochs,\n",
    "    steps_per_epoch=len(train_dataloader),\n",
    "    pct_start=0.1,\n",
    ")\n",
    "\n",
    "best_acc = 0.0\n",
    "writer = SummaryWriter(\"/content/tensorboard_logs\")\n",
    "\n",
    "for epoch in range(epochs):\n",
    "    model.train()\n",
    "    epoch_loss = 0.0\n",
    "    progress_bar = tqdm(train_dataloader, desc=f\"Epoch {epoch + 1}/{epochs}\")\n",
    "    for data, target in progress_bar:\n",
    "        data, target = data.to(device), target.to(device)\n",
    "        if np.random.random() > 0.7:\n",
    "            data, target_a, target_b, lam = mixup_data(data, target)\n",
    "            output = model(data)\n",
    "            loss = mixup_criterion(criterion, output, target_a, target_b, lam)\n",
    "        else:\n",
    "            output = model(data)\n",
    "            loss = criterion(output, target)\n",
    "        optimizer.zero_grad()\n",
    "        loss.backward()\n",
    "        optimizer.step()\n",
    "        scheduler.step()\n",
    "        epoch_loss += loss.item()\n",
    "        progress_bar.set_postfix({\"Loss\": f\"{loss.item():.4f}\"})\n",
    "\n",
    "    avg_epoch_loss = epoch_loss / len(train_dataloader)\n",
    "    writer.add_scalar(\"Loss/Train\", avg_epoch_loss, epoch)\n",
    "\n",
    "    model.eval()\n",
    "    correct, total = 0, 0\n",
    "    val_loss = 0\n",
    "    with torch.no_grad():\n",
    "        for data, target in val_dataloader:\n",
    "            data, target = data.to(device), target.to(device)\n",
    "            output = model(data)\n",
    "            val_loss += criterion(output, target).item()\n",
    "            _, predicted = torch.max(output.data, 1)\n",
    "            total += target.size(0)\n",
    "            correct += (predicted == target).sum().item()\n",
    "\n",
    "    acc = 100 * correct / total\n",
    "    avg_val_loss = val_loss / len(val_dataloader)\n",
    "    writer.add_scalar(\"Loss/Validation\", avg_val_loss, epoch)\n",
    "    writer.add_scalar(\"Accuracy/Validation\", acc, epoch)\n",
    "    print(\n",
    "        f\"Epoch {epoch + 1} Loss: {avg_epoch_loss:.4f}, \"\n",
    "        f\"Val Loss: {avg_val_loss:.4f}, Accuracy: {acc:.2f}%\"\n",
    "    )\n",
    "\n",
    "    if acc > best_acc:\n",
    "        best_acc = acc\n",
    "        torch.save(\n",
    "            model.state_dict(), \"/content/drive/MyDrive/models/best_model.pth\"\n",
    "        )\n",
    "        print(f\"New best model saved: {acc:.2f}%\")"
   ]
  }
 ],
 "metadata": {
  "accelerator": "GPU",
  "colab": {
   "gpuType": "T4",
   "provenance": []
  },
  "kernelspec": {
   "display_name": "Python 3",
   "name": "python3"
  },
  "language_info": {
   "name": "python"
  }
 },
 "nbformat": 4,
 "nbformat_minor": 0
}
